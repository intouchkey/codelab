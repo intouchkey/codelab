{
  "nbformat": 4,
  "nbformat_minor": 0,
  "metadata": {
    "colab": {
      "provenance": [],
      "include_colab_link": true
    },
    "kernelspec": {
      "name": "python3",
      "display_name": "Python 3"
    }
  },
  "cells": [
    {
      "cell_type": "markdown",
      "metadata": {
        "id": "view-in-github",
        "colab_type": "text"
      },
      "source": [
        "<a href=\"https://colab.research.google.com/github/intouchkey/codelab/blob/main/Algorithm_Design_and_Analysis_Graphs.ipynb\" target=\"_parent\"><img src=\"https://colab.research.google.com/assets/colab-badge.svg\" alt=\"Open In Colab\"/></a>"
      ]
    },
    {
      "cell_type": "markdown",
      "metadata": {
        "id": "PT90hNPLJUx5"
      },
      "source": [
        "# Graph Terminology"
      ]
    },
    {
      "cell_type": "markdown",
      "metadata": {
        "id": "lVUVe8s5JWev"
      },
      "source": [
        "**Definition (Undirected Graph)**. An *undirected graph* is a pair $(V, E)$ where \n",
        "$V$ is a set of nodes or vertices and \n",
        "$E$ is a set of edges, such that each edge is *incident* to (or *connects*) two nodes in $V$ (possibly the same node).\n",
        "\n",
        "**Definition (Simple Undirected Graph)**. A *simple undirected graph* is an undirected graph *without* any of these:\n",
        "*   (Multiple edges) two distinct edges connecting the same pair of nodes,\n",
        "*   (Loop) a edge connecting a node with itself.\n",
        "\n",
        "A *simple undirected graph permitting loops* is an undirected graph without multiple edges but may possibly have a loop. \n",
        "\n",
        "Since, in a simple undirected graph or a simple undirected graph permitting loops, between any pair of nodes, there is at most one edge incident to them, we can represent each edge as an unordered pair of nodes, e.g. edge $\\{u, v\\}$ or $u-v$.\n",
        "\n",
        "**Definition (Adjacent Nodes or Neighbors)**. Given an undirected graph $G$ and a node $u$, a node $v$ is said to be *adjacent* to $u$ or, equivalently, a *neighbor* of $u$, if and only if there is an edge that connects $u$ and $v$.\n",
        "\n",
        "**Definition (Degree)**. Given an undirected graph $G$, the *degree* of a node $u$, denoted $\\mathrm{deg}(u)$, is the number of the edges that are incident to $u$.\n",
        "\n",
        "**Handshaking Theorem**. In any undirected graph $G = (V,E)$,\n",
        "\n",
        "$$\n",
        "\\sum_{u \\in V} \\mathrm{deg}(u) = 2|E|.\n",
        "$$"
      ]
    },
    {
      "cell_type": "markdown",
      "metadata": {
        "id": "qLsQ4IP2JnJc"
      },
      "source": [
        "**Definition (Directed Graph)**. A *directed graph* is a pair $(V, E)$ where \n",
        "$V$ is a set of nodes or vertices and \n",
        "$E$ is a set of edges, such that each edge *connects* one node with another (possibly the same) node with *direction*, i.e. the edge starts from one node and ends at the other node.\n",
        "\n",
        "**Definition (Simple Directed Graph)**. A *simple directed graph* is a directed graph *without* any of these:\n",
        "*   (Multiple edges) two distinct edges which start from the same node and end at the same node,\n",
        "*   (Loop) a edge from a node to itself.\n",
        "\n",
        "A *simple directed graph permitting loops* is an directed graph without multiple edges but may possibly have a loop. \n",
        "\n",
        "Since, in a simple directed graph or a simple directed graph permitting loops, there is at most one edge connecting from one node to another node, we can represent each edge as an ordered pair of nodes, e.g. edge $(u, v)$.\n",
        "\n",
        "**Definition (Adjacent Nodes or Neighbors)**. Given a directed graph $G$ and a node $u$, a node $v$ is said to be *adjacent* to $u$ or, equivalently, a *neighbor* of $u$, if and only if there is an edge from $u$ to $v$.\n",
        "\n",
        "**Definition (In-degree and Out-degree)**. Given a directed graph $G$ and a node $u$, \n",
        "*   the *out-degree* of $u$, denoted $\\mathrm{deg}^+(u)$, is the number of the edges that start from $u$;\n",
        "*   the *in-degree* of $u$, denoted $\\mathrm{deg}^-(u)$, is the number of the edges that end at $u$.\n",
        "\n",
        "**Handshaking Theorem**. In any directed graph $G = (V,E)$,\n",
        "\n",
        "$$\n",
        "\\sum_{u \\in V} \\mathrm{deg}^+(u) = \\sum_{u \\in V} \\mathrm{deg}^-(u) = |E|.\n",
        "$$"
      ]
    },
    {
      "cell_type": "markdown",
      "metadata": {
        "id": "knYufZLnJsc7"
      },
      "source": [
        "**Definition (Paths in an Undirected Graph)**. Given an undirected graph $G$, nodes $s$ and $t$, and a non-negative integer $n$, a *path* of length $n$ in $G$ from $s$ to $t$ is a sequence of $n+1$ nodes interspersed with $n$ edges:\n",
        "\n",
        "$$v_0 \\xrightarrow{e_1} v_1 \\xrightarrow{e_2} \\dots \\xrightarrow{e_{n-1}} v_{n-1} \\xrightarrow{e_n} v_n$$\n",
        "\n",
        "such that $v_0 = s$, $v_n = t$, and\n",
        "*   $e_1$ is incident to $v_0$ and $v_1$;\n",
        "*   $e_2$ is incident to $v_1$ and $v_2$;\n",
        "*   ...\n",
        "*   $e_n$ is incident to $v_{n-1}$ and $v_n$.\n",
        "\n",
        "**Definition (Paths in a Directed Graph)**. Given a directed graph $G$, nodes $s$ and $t$, and a non-negative integer $n$, a *path* of length $n$ in $G$ from $s$ to $t$ is a sequence of $n+1$ nodes interspersed with $n$ edges:\n",
        "\n",
        "$$v_0 \\xrightarrow{e_1} v_1 \\xrightarrow{e_2} \\dots \\xrightarrow{e_{n-1}} v_{n-1} \\xrightarrow{e_n} v_n$$\n",
        "\n",
        "such that $v_0 = s$, $v_n = t$, and\n",
        "*   $e_1$ is an edge from $v_0$ to $v_1$;\n",
        "*   $e_2$ is an edge from $v_1$ to $v_2$;\n",
        "*   ...\n",
        "*   $e_n$ is an edge from $v_{n-1}$ to $v_n$.\n",
        "\n",
        "If $G$ is a simple graph or a simple graph permitting loops, there is no need to specify the edge between a pair of nodes in the path because there is at most one such edge. In this case, a path can be written as a sequence of nodes, $v_0 \\rightarrow v_1 \\rightarrow v_2 \\rightarrow \\dots \\rightarrow v_n$.\n",
        "\n",
        "Note that a path of length $0$, called an *empty path*, is just a node.\n",
        "\n",
        "**Definition (Simple Paths).** A path is said to be *simple* if and only if no node appears twice in the path except that the nodes at both ends may be the same.\n",
        "\n",
        "For example, suppose $a,b,c,d$ are distinct nodes. All of the following paths are *not* simple:\n",
        "\n",
        "$$\n",
        "a \\rightarrow b \\rightarrow c \\rightarrow b \\rightarrow d \\\\\n",
        "a \\rightarrow b \\rightarrow c \\rightarrow b \\\\\n",
        "b \\rightarrow c \\rightarrow b \\rightarrow d \\\\\n",
        "a \\rightarrow b \\rightarrow c \\rightarrow b \\rightarrow a\n",
        "$$\n",
        "\n",
        "but the following paths are simple:\n",
        "$$\n",
        "a \\rightarrow b \\rightarrow c \\\\\n",
        "a \\rightarrow b \\rightarrow a \\\\\n",
        "a \\rightarrow a \\\\\n",
        "a\n",
        "$$\n",
        "\n",
        "**Definition (Circuits and Cycles).** A path is said to be a *circuit* if and only if it has length greater than $0$ and it begins and ends at the same node. A *cycle* is a circuit that is simple.\n",
        "\n",
        "**Definition (Reachable Nodes)**. Given a (directed or undirected) graph $G$ and a node $u$, a node $v$ is said to be *reachable* from $u$ if and only if either $v = u$ or there is a path of length greater than $0$ from $u$ to $v$.\n",
        "\n",
        "**Proposition.** Suppose $G$ is (directed or undirected) graph with $N \\ge 1$ nodes and $s$ and $t$ are *distinct* nodes.\n",
        "\n",
        "(A) Any path from $s$ to $t$ of length *greater than or equal* to $N$ is *not* simple.\n",
        "\n",
        "(B) Any circuit from $s$ to $s$ of length *greater than* $N$ is *not* simple.\n",
        "\n",
        "(C) Any path of length *greater than* $N$ is *not* simple.\n",
        "\n",
        "**Proof.** (A) Let $P$ be a path from $s$ to $t$ of length greater than or equal to $N$. Hence, $P$ is of the form\n",
        "\n",
        "$$\n",
        "v_1 \\rightarrow \\dots \\rightarrow v_{m+1},\n",
        "$$\n",
        " \n",
        "where $m\\ge N$, and $s=v_1 \\not = v_{m+1} = t$. Since the graph has $N$ nodes, some node must occur twice in this path, and since $v_1 \\not= v_{m+1}$, one of the two occurrences is neither at the beginning nor at the end of the path. Hence, $P$ is not simple.\n",
        "\n",
        "(B) Let $Q$ be a circuit from $s$ to $s$ of length greater than $N$. Hence, $Q$ is of the form\n",
        "\n",
        "$$\n",
        "s \\rightarrow v_1 \\rightarrow \\dots \\rightarrow v_m \\rightarrow s,\n",
        "$$\n",
        " \n",
        "where $m\\ge N$. Since the graph has $N$ nodes, some node must occur twice in $s,v_1,\\dots,v_m$. This means that $Q$ is not simple.\n",
        "\n",
        "\n",
        "(C) This follows from (A) and (B).\n",
        "\n",
        "$\\blacksquare$"
      ]
    },
    {
      "cell_type": "markdown",
      "metadata": {
        "id": "Hz1_fYg8wEvb"
      },
      "source": [
        "**Convention**. In what follows, we shall study algorithms that mostly work on finite simple graphs permitting loops. So, for brevity, unless explicitly stated otherwise:\n",
        "*   By an *undirected graph*, we mean a simple undirected graph permitting loops with a finite number of nodes.\n",
        "*   By a *directed graph*, we mean a finite simple directed graph permitting loops with a finite number of nodes.\n",
        "\n",
        "Note that our notion of graphs allows an *empty graph*, i.e. a graph without any node. "
      ]
    },
    {
      "cell_type": "markdown",
      "metadata": {
        "id": "8wQvaB_8MbO0"
      },
      "source": [
        "# Computer Representations of Graphs"
      ]
    },
    {
      "cell_type": "markdown",
      "metadata": {
        "id": "u4ZB9Y71MplP"
      },
      "source": [
        "Two common ways to store graphs in a computer program are adjacency matrices and adjacency lists. \n",
        "\n",
        "In both representations, we let $G$ be a directed graph with $N$ nodes and $M$ edges. We fix an ordering of the nodes. Thus, we can identify the nodes by numbers $0,1,2,\\dots,N-1$. \n",
        "\n",
        "**Adjacency matrices**. An adjacency matrix for $G$ is an $N \\times N$ matrix $A$ such that\n",
        "$$\n",
        "\\begin{align}\n",
        "A_{u,v} & = \\begin{cases}\n",
        "1  & (u,v) \\text{ is an edge} \\\\\n",
        "0 & \\text{otherwise.}\n",
        "\\end{cases}\n",
        "\\end{align}\n",
        "$$\n",
        "An adjacency matrix can typically be stored in a computer program using a two-dimensional array.\n",
        "\n",
        "An adjacency matrix for an undirected graph is similar, just replacing the condition \"$(u,v)$ is an edge\" by \"$\\{u,v\\}$ is an edge\". Clearly, an adjacency matrix for an undirected graph will be symmetric, i.e. $A_{u,v} = A_{v,u}$ for all nodes $u$ and $v$.\n",
        "\n",
        "**Time and space complexity**:\n",
        "1.   Space requirement: $O(N^2)$.\n",
        "2.   Worst-case time to check whether two nodes are adjacent: $O(1)$.\n",
        "3.   Worst-case time to list all neighbors of a given node: $O(N)$.\n",
        "4.   Worst-case time to list all the edges: $O(N^2)$.\n"
      ]
    },
    {
      "cell_type": "code",
      "metadata": {
        "id": "KC9I-RxB0Ney"
      },
      "source": [
        "class DGraphAdjMat:\n",
        "  def __init__(self, N):\n",
        "    self.adjMat = [[0 for i in range(N)] for j in range(N)]\n",
        "    self.numNodes = N\n",
        "    self.numEdges = 0\n",
        "\n",
        "  def addEdge(self,u,v):\n",
        "    if not self.isAdjacent(u,v):\n",
        "      self.adjMat[u][v] = 1\n",
        "      self.numEdges+=1\n",
        "  \n",
        "  def removeEdge(self,u,v):\n",
        "    if self.isAdjacent(u,v):\n",
        "      self.adjMat[u][v] = 0\n",
        "      self.numEdges-=1\n",
        "\n",
        "  def isAdjacent(self,u,v):\n",
        "    return self.adjMat[u][v]==1\n",
        "\n",
        "  def neighbors(self,u):\n",
        "    L = []\n",
        "    for v in range(self.numNodes):\n",
        "      if self.isAdjacent(u,v):\n",
        "        L.append(v)\n",
        "    return L\n",
        "    \n",
        "  def edges(self):\n",
        "    L = []\n",
        "    for u in range(self.numNodes):\n",
        "      for v in range(self.numNodes):\n",
        "        if self.isAdjacent(u,v):\n",
        "          L.append((u,v))\n",
        "    return L\n",
        "\n",
        "G1 = DGraphAdjMat(9)\n",
        "G1.addEdge(0,1)\n",
        "G1.addEdge(0,3)\n",
        "G1.addEdge(0,8)\n",
        "G1.addEdge(1,2)\n",
        "G1.addEdge(1,3)\n",
        "G1.addEdge(2,5)\n",
        "G1.addEdge(3,4)\n",
        "G1.addEdge(4,0)\n",
        "G1.addEdge(4,1)\n",
        "G1.addEdge(4,5)\n",
        "G1.addEdge(6,7)\n",
        "G1.addEdge(7,6)\n",
        "G1.addEdge(8,8)\n",
        "G1.removeEdge(0,8)\n",
        "\n",
        "print(G1.neighbors(4))\n",
        "print(G1.edges())\n"
      ],
      "execution_count": null,
      "outputs": []
    },
    {
      "cell_type": "markdown",
      "metadata": {
        "id": "YN-axEyNTMfa"
      },
      "source": [
        "**Adjacency lists.** An adjacency-list representation of $G$ is a one-dimensional array $A$ of linked lists. The size of $A$ is $N$. For each node $u$, $A[u]$ stores a pointer to a linked list containing all the neighbors of $u$. \n",
        "\n",
        "An adjacency-list representation for an undirected graph is similar.\n",
        "\n",
        "**Time and space complexity**:\n",
        "Suppose $D$ denotes the maximum out-degree of all nodes in $G$.\n",
        "1.   Space requirement: $O(N + M)$.\n",
        "2.   Worst-case time to check whether two nodes are adjacent: $O(D)$, and hence $O(N)$.\n",
        "3.   Worst-case time to list all neighbors of a given node: $O(D)$, and hence $O(N)$.\n",
        "4.   Worst-case time to list all the edges: $O(N+M)$."
      ]
    },
    {
      "cell_type": "code",
      "metadata": {
        "id": "xmzZyQrm4Vpd",
        "outputId": "93758899-a76c-4728-917e-999c6ebd4174",
        "colab": {
          "base_uri": "https://localhost:8080/",
          "height": 50
        }
      },
      "source": [
        "from collections import deque\n",
        "\n",
        "class DGraphAdjLst:\n",
        "  def __init__(self, N):\n",
        "    self.adjLst = [deque() for j in range(N)]\n",
        "    self.numNodes = N\n",
        "    self.numEdges = 0\n",
        "\n",
        "  def addEdge(self,u,v):\n",
        "    if not self.isAdjacent(u,v):\n",
        "      self.adjLst[u].append(v)\n",
        "      self.numEdges+=1\n",
        "  \n",
        "  def removeEdge(self,u,v):\n",
        "    if self.isAdjacent(u,v):\n",
        "      self.adjLst[u].remove(v)\n",
        "      self.numEdges-=1\n",
        "\n",
        "  def isAdjacent(self,u,v):\n",
        "    for w in self.adjLst[u]:\n",
        "      if w == v:\n",
        "        return True\n",
        "    return False\n",
        "\n",
        "  def neighbors(self,u):\n",
        "    return list(self.adjLst[u])\n",
        "    \n",
        "  def edges(self):\n",
        "    L = []\n",
        "    for u in range(self.numNodes):\n",
        "      for v in self.adjLst[u]:\n",
        "          L.append((u,v))\n",
        "    return L\n",
        "\n",
        "G1 = DGraphAdjLst(9)\n",
        "G1.addEdge(0,1)\n",
        "G1.addEdge(0,3)\n",
        "G1.addEdge(0,8)\n",
        "G1.addEdge(1,2)\n",
        "G1.addEdge(1,3)\n",
        "G1.addEdge(2,5)\n",
        "G1.addEdge(3,4)\n",
        "G1.addEdge(4,0)\n",
        "G1.addEdge(4,1)\n",
        "G1.addEdge(4,5)\n",
        "G1.addEdge(6,7)\n",
        "G1.addEdge(7,6)\n",
        "G1.addEdge(8,8)\n",
        "G1.removeEdge(0,8)\n",
        "\n",
        "print(G1.neighbors(4))\n",
        "print(G1.edges())"
      ],
      "execution_count": null,
      "outputs": [
        {
          "output_type": "stream",
          "text": [
            "[0, 1, 5]\n",
            "[(0, 1), (0, 3), (1, 2), (1, 3), (2, 5), (3, 4), (4, 0), (4, 1), (4, 5), (6, 7), (7, 6), (8, 8)]\n"
          ],
          "name": "stdout"
        }
      ]
    },
    {
      "cell_type": "markdown",
      "metadata": {
        "id": "NhiXbfEZ0O8C"
      },
      "source": []
    },
    {
      "cell_type": "code",
      "metadata": {
        "id": "2kVcE5KA0R2v",
        "outputId": "1adfd224-c596-4c30-9131-49778d6c6838",
        "colab": {
          "base_uri": "https://localhost:8080/",
          "height": 50
        }
      },
      "source": [
        "from collections import deque\n",
        "\n",
        "class UGraphAdjLst:\n",
        "  def __init__(self, N):\n",
        "    self.adjLst = [deque() for j in range(N)]\n",
        "    self.numNodes = N\n",
        "    self.numEdges = 0\n",
        "\n",
        "  def addEdge(self,u,v):\n",
        "    if not self.isAdjacent(u,v):\n",
        "      self.adjLst[u].append(v)\n",
        "      if u!=v:\n",
        "        self.adjLst[v].append(u)\n",
        "      self.numEdges+=1\n",
        "  \n",
        "  def removeEdge(self,u,v):\n",
        "    if self.isAdjacent(u,v):\n",
        "      self.adjLst[u].remove(v)\n",
        "      if u!=v:\n",
        "        self.adjLst[v].remove(u)\n",
        "      self.numEdges-=1\n",
        "\n",
        "  def isAdjacent(self,u,v):\n",
        "    for w in self.adjLst[u]:\n",
        "      if w == v:\n",
        "        return True\n",
        "    return False\n",
        "\n",
        "  def neighbors(self,u):\n",
        "    return list(self.adjLst[u])\n",
        "    \n",
        "  def edges(self):\n",
        "    L = []\n",
        "    for u in range(self.numNodes):\n",
        "      for v in self.adjLst[u]:\n",
        "        if u <= v:\n",
        "          L.append((u,v))\n",
        "    return L\n",
        "\n",
        "G2 = UGraphAdjLst(9)\n",
        "G2.addEdge(0,1)\n",
        "G2.addEdge(0,3)\n",
        "G2.addEdge(0,8)\n",
        "G2.addEdge(1,2)\n",
        "G2.addEdge(1,3)\n",
        "G2.addEdge(2,5)\n",
        "G2.addEdge(3,4)\n",
        "G2.addEdge(4,0)\n",
        "G2.addEdge(4,1)\n",
        "G2.addEdge(4,5)\n",
        "G2.addEdge(6,7)\n",
        "G2.addEdge(7,6)\n",
        "G2.addEdge(8,8)\n",
        "G2.removeEdge(0,8)\n",
        "\n",
        "print(G2.neighbors(4))\n",
        "print(G2.edges())"
      ],
      "execution_count": null,
      "outputs": [
        {
          "output_type": "stream",
          "text": [
            "[3, 0, 1, 5]\n",
            "[(0, 1), (0, 3), (0, 4), (1, 2), (1, 3), (1, 4), (2, 5), (3, 4), (4, 5), (6, 7), (8, 8)]\n"
          ],
          "name": "stdout"
        }
      ]
    },
    {
      "cell_type": "markdown",
      "metadata": {
        "id": "mCSI_pR7Mt3p"
      },
      "source": [
        "# Graph Traversal"
      ]
    },
    {
      "cell_type": "markdown",
      "metadata": {
        "id": "umFdN-gWiwV4"
      },
      "source": [
        "**Reachability Problem**. Given a (directed or undirected) graph $G$ and a node $u$, list all the nodes in $G$ reachable from $u$.\n",
        "\n",
        "**Connectivity Problem**. Given a (directed or undirected) graph $G$ and nodes $u$ and $v$, determine whether there is a path of length $1$ or more from $u$ to $v$.\n",
        "\n",
        "**Unweighted Shortest Path Problem**.  Given a (directed or undirected) graph $G$ and nodes $u$ and $v$, find a shortest path (i.e. a path with the least length) from $u$ and $v$, if exists.\n",
        "\n",
        "These problems can be solved by a graph-traversal algorithm. In general, a graph-traversal algorithm works like this:\n",
        "```\n",
        "  1:  Search(node s):\n",
        "  2:    Initialize the states of all nodes to UNDISCOVERED\n",
        "  3:    D = an empty storage of nodes\n",
        "  4:    Insert s into D\n",
        "  5:    Set the state of s to DISCOVERED\n",
        "  6:    While D is not empty:\n",
        "  7:      Take out a node u from D\n",
        "  8:      Print u\n",
        "  9:      For each neighbor v of u:\n",
        " 10:        If v is UNDISCOVERED:\n",
        " 11:          Set the state of v to DISCOVERED\n",
        " 12:          Insert v into D\n",
        "```\n",
        "The state of each node is used to remember whether a node has been previously discovered or not. This helps preventing the program from indefinitely looping. \n",
        "\n",
        "The policy that specifies which node to be taken out of the storage D in Line 7 determines the order in which the reachable nodes of u is discovered. This gives rise to the three well-known graph traversal algorithms:\n",
        "*   Breadth-first search\n",
        "*   Depth-first search\n",
        "*   Best-first search\n",
        "\n",
        "**Breadth-first search.** In breadth-first search, a queue is used as the storage of the nodes to be discovered. Nodes are taken out the queue according to the first-in-first-out (FIFO) policy."
      ]
    },
    {
      "cell_type": "code",
      "metadata": {
        "id": "_o9KrR29yoxm"
      },
      "source": [
        "from collections import deque\n",
        "\n",
        "# Declaring constants\n",
        "UNDISCOVERED = 0\n",
        "DISCOVERED = 1\n",
        "\n",
        "def bfs(G,s):\n",
        "  state = [UNDISCOVERED for i in range(G.numNodes)]\n",
        "  Q = deque()\n",
        "  Q.append(s)\n",
        "  state[s] = DISCOVERED\n",
        "  while len(Q)>0:\n",
        "    u = Q.popleft()\n",
        "    print(\"Exploring Node \" + str(u))\n",
        "    for v in G.neighbors(u):\n",
        "      if state[v] == UNDISCOVERED:\n",
        "        state[v] = DISCOVERED\n",
        "        Q.append(v)\n",
        "\n",
        "G1 = DGraphAdjLst(9)\n",
        "G1.addEdge(0,1)\n",
        "G1.addEdge(0,3)\n",
        "G1.addEdge(1,2)\n",
        "G1.addEdge(1,3)\n",
        "G1.addEdge(2,5)\n",
        "G1.addEdge(3,4)\n",
        "G1.addEdge(4,0)\n",
        "G1.addEdge(4,1)\n",
        "G1.addEdge(4,5)\n",
        "G1.addEdge(6,7)\n",
        "G1.addEdge(7,6)\n",
        "G1.addEdge(8,8)\n",
        "\n",
        "bfs(G1,0)"
      ],
      "execution_count": null,
      "outputs": []
    },
    {
      "cell_type": "markdown",
      "metadata": {
        "id": "ydEWx0pWyvmF"
      },
      "source": [
        "**Depth-first search.** In depth-first search, a stack is used as the storage of the nodes to be discovered. Nodes are taken out the queue according to the last-in-first-out (LIFO) policy."
      ]
    },
    {
      "cell_type": "code",
      "metadata": {
        "id": "5X4xx2IdCsPI"
      },
      "source": [
        "# Declaring constants\n",
        "UNDISCOVERED = 0\n",
        "DISCOVERED = 1\n",
        "\n",
        "def dfs(G,s):\n",
        "  state = [UNDISCOVERED for i in range(G.numNodes)]\n",
        "  S = []\n",
        "  S.append(s)\n",
        "  state[s] = DISCOVERED\n",
        "  while len(S)>0:\n",
        "    u = S.pop()\n",
        "    print(\"Exploring Node \" + str(u))\n",
        "    for v in G.neighbors(u):\n",
        "      if state[v] == UNDISCOVERED:\n",
        "        state[v] = DISCOVERED\n",
        "        S.append(v)\n",
        "\n",
        "G1 = DGraphAdjLst(9)\n",
        "G1.addEdge(0,1)\n",
        "G1.addEdge(0,3)\n",
        "G1.addEdge(1,2)\n",
        "G1.addEdge(1,3)\n",
        "G1.addEdge(2,5)\n",
        "G1.addEdge(3,4)\n",
        "G1.addEdge(4,0)\n",
        "G1.addEdge(4,1)\n",
        "G1.addEdge(4,5)\n",
        "G1.addEdge(6,7)\n",
        "G1.addEdge(7,6)\n",
        "G1.addEdge(8,8)\n",
        "\n",
        "dfs(G1,0)"
      ],
      "execution_count": null,
      "outputs": []
    },
    {
      "cell_type": "markdown",
      "metadata": {
        "id": "Y2cGiZEqzLeW"
      },
      "source": [
        "**Best-first search.** In best-first search, there is a preference ordering of the nodes in the graph. When traversing the graph, nodes with higher preferences are visited earlier. In this case, a priority queue is used as the storage of the nodes to be discovered. Nodes are taken out the priority queue according to their preference ordering."
      ]
    },
    {
      "cell_type": "code",
      "metadata": {
        "id": "cJfPA2FiIBJE",
        "outputId": "187e3ea7-caa6-44aa-81fe-017f78bf5f3a",
        "colab": {
          "base_uri": "https://localhost:8080/",
          "height": 121
        }
      },
      "source": [
        "import heapq\n",
        "\n",
        "# Declaring constants\n",
        "UNDISCOVERED = 0\n",
        "DISCOVERED = 1\n",
        "\n",
        "def bestfs(G,s):\n",
        "  state = [UNDISCOVERED for i in range(G.numNodes)]\n",
        "  H = []\n",
        "  heapq.heappush(H,s)\n",
        "  state[s] = DISCOVERED\n",
        "  while len(H)>0:\n",
        "    u = heapq.heappop(H)\n",
        "    print(\"Exploring Node \" + str(u))\n",
        "    for v in G.neighbors(u):\n",
        "      if state[v] == UNDISCOVERED:\n",
        "        state[v] = DISCOVERED\n",
        "        heapq.heappush(H,v)\n",
        "\n",
        "G1 = DGraphAdjLst(9)\n",
        "G1.addEdge(0,1)\n",
        "G1.addEdge(0,3)\n",
        "G1.addEdge(1,2)\n",
        "G1.addEdge(1,3)\n",
        "G1.addEdge(2,5)\n",
        "G1.addEdge(3,4)\n",
        "G1.addEdge(4,0)\n",
        "G1.addEdge(4,1)\n",
        "G1.addEdge(4,5)\n",
        "G1.addEdge(6,7)\n",
        "G1.addEdge(7,6)\n",
        "G1.addEdge(8,8)\n",
        "\n",
        "bestfs(G1,0)"
      ],
      "execution_count": null,
      "outputs": [
        {
          "output_type": "stream",
          "text": [
            "Exploring Node 0\n",
            "Exploring Node 1\n",
            "Exploring Node 2\n",
            "Exploring Node 3\n",
            "Exploring Node 4\n",
            "Exploring Node 5\n"
          ],
          "name": "stdout"
        }
      ]
    },
    {
      "cell_type": "markdown",
      "metadata": {
        "id": "9bOdHY_1MwAh"
      },
      "source": [
        "# Finding Shortest-Paths on an Unweighted Graph\n",
        "\n"
      ]
    },
    {
      "cell_type": "markdown",
      "metadata": {
        "id": "A7ScwGZvCNWi"
      },
      "source": [
        "BFS Trees"
      ]
    },
    {
      "cell_type": "code",
      "metadata": {
        "id": "tjufmMuZCVPv"
      },
      "source": [
        "from collections import deque\n",
        "\n",
        "# Declaring constants\n",
        "UNDISCOVERED = 0\n",
        "DISCOVERED = 1\n",
        "\n",
        "def bfsTree(G,s):\n",
        "  global state,level,back\n",
        "  state = [UNDISCOVERED for i in range(G.numNodes)]\n",
        "  level = [None for i in range(G.numNodes)]\n",
        "  back = [None for i in range(G.numNodes)]\n",
        "  Q = deque()\n",
        "  Q.append(s)\n",
        "  state[s] = DISCOVERED\n",
        "  level[s] = 0\n",
        "  while len(Q)>0:\n",
        "    u = Q.popleft()\n",
        "    for v in G.neighbors(u):\n",
        "      if state[v] == UNDISCOVERED:\n",
        "        state[v] = DISCOVERED\n",
        "        level[v] = level[u]+1\n",
        "        back[v] = u\n",
        "        Q.append(v)\n",
        "\n",
        "def drawBFSTree(G,s):\n",
        "  print(\" .\"*level[s] + str(s).rjust(2,\" \"))\n",
        "  for u in G.neighbors(s):\n",
        "    if back[u] == s:\n",
        "      drawBFSTree(G,u)\n",
        "  \n",
        "G1 = DGraphAdjLst(9)\n",
        "G1.addEdge(0,1)\n",
        "G1.addEdge(0,3)\n",
        "G1.addEdge(1,2)\n",
        "G1.addEdge(1,3)\n",
        "G1.addEdge(2,5)\n",
        "G1.addEdge(3,4)\n",
        "G1.addEdge(4,0)\n",
        "G1.addEdge(4,1)\n",
        "G1.addEdge(4,5)\n",
        "G1.addEdge(6,7)\n",
        "G1.addEdge(7,6)\n",
        "G1.addEdge(8,8)\n",
        "\n",
        "bfsTree(G1,0)\n",
        "drawBFSTree(G1,0)"
      ],
      "execution_count": null,
      "outputs": []
    },
    {
      "cell_type": "markdown",
      "metadata": {
        "id": "kfPa5wIxOjHT"
      },
      "source": [
        "Suppose $T$ is the BFS tree constructed from a breadth-first search on a (directed or undirected) graph $G$ starting from node $s$.\n",
        "\n",
        "**Property**. For any node $u$ reachable from $s$, level($u$) is defined (i.e. not None). \n",
        "\n",
        "**Property**. For any node $u$ reachable from $s$ and $u\\not=s$, back($u$) is defined (i.e. not None).\n",
        "\n",
        "**Property**. For any nodes $u$ and $v$, if back($v$) = $u$ then\n",
        "*   $v$ is a neighbor of $u$, and\n",
        "*   level(v) = level(u) + 1.\n",
        "\n",
        "**Proposition**. For any node $u$ reachable from $s$, the length of a shortest path from $s$ to $u$ equals level($u$)."
      ]
    },
    {
      "cell_type": "markdown",
      "metadata": {
        "id": "8pJgtpjCkx9o"
      },
      "source": [
        "Finding a non-empty shortest path on an unweighted (directed or undirected) graph."
      ]
    },
    {
      "cell_type": "code",
      "metadata": {
        "id": "QOFbkdB9dj4r",
        "outputId": "301e6f48-db81-4079-801e-b54da26ce3fb",
        "colab": {
          "base_uri": "https://localhost:8080/",
          "height": 34
        }
      },
      "source": [
        "from collections import deque\n",
        "\n",
        "# Declaring constants\n",
        "UNDISCOVERED = 0\n",
        "DISCOVERED = 1\n",
        "\n",
        "def bfsPath(G,s,t):\n",
        "  state = [UNDISCOVERED for i in range(G.numNodes)]\n",
        "  back = [None for i in range(G.numNodes)]\n",
        "  Q = deque()\n",
        "  Q.append(s)\n",
        "  state[s] = DISCOVERED\n",
        "  found = False\n",
        "  while (len(Q)>0) and (not found):\n",
        "    u = Q.popleft()\n",
        "    for v in G.neighbors(u):\n",
        "      if v==t:\n",
        "          back[v] = u\n",
        "          found = True\n",
        "          break\n",
        "      if state[v] == UNDISCOVERED:\n",
        "        state[v] = DISCOVERED\n",
        "        back[v] = u\n",
        "        Q.append(v)\n",
        "  # Print out the shortest path (if found)        \n",
        "  if found:\n",
        "    path = [t]  \n",
        "    u = t\n",
        "    while True:\n",
        "      u = back[u]\n",
        "      path.append(u)\n",
        "      if u == s:\n",
        "        break\n",
        "    path.reverse()\n",
        "    return path\n",
        "  else:\n",
        "    return None\n",
        "\n",
        "G1 = DGraphAdjLst(9)\n",
        "G1.addEdge(0,1)\n",
        "G1.addEdge(0,3)\n",
        "G1.addEdge(1,2)\n",
        "G1.addEdge(1,3)\n",
        "G1.addEdge(2,5)\n",
        "G1.addEdge(3,4)\n",
        "G1.addEdge(4,0)\n",
        "G1.addEdge(4,1)\n",
        "G1.addEdge(4,5)\n",
        "G1.addEdge(6,7)\n",
        "G1.addEdge(7,6)\n",
        "G1.addEdge(8,8)\n",
        "\n",
        "bfsPath(G1,0,0)"
      ],
      "execution_count": null,
      "outputs": [
        {
          "output_type": "stream",
          "text": [
            "[0, 3, 4, 0]\n"
          ],
          "name": "stdout"
        }
      ]
    },
    {
      "cell_type": "markdown",
      "metadata": {
        "id": "4pkOZv5YaY9c"
      },
      "source": [
        "# Bipartite Graphs"
      ]
    },
    {
      "cell_type": "markdown",
      "metadata": {
        "id": "XXmgiFroh3Le"
      },
      "source": [
        "**Definition**. An undirected graph $G$ is said to be *bipartite* if and only if the nodes can be colored either blue or white such that every edge connects a white node and a blue node."
      ]
    },
    {
      "cell_type": "markdown",
      "metadata": {
        "id": "dIjblhd_h6kI"
      },
      "source": [
        "![image.png](data:image/png;base64,iVBORw0KGgoAAAANSUhEUgAAAjoAAAEjCAYAAAA7easOAAAgAElEQVR4Ae2de5BU1b3vU3UE/7z5w4rlzfWWttGUNIyHMMaQuokMOug5ESQmMYA6hwGD8ohGdESFEyDnIEwIj+ADBYyBIEoBZUmBAe6kTHhcjXWDuZqqlERJUiSUj0NRaKD473fru7vX7jW7d/fs7t5r77VWf6dqql/7+ft91m9912899mfOnD0v/KcNyAAZIANkgAyQAR8Z+IyPN8V7YmElA2SADJABMkAGwACFDjNazOiRATJABsgAGfCWAQodwu0t3GzNsTVHBsgAGSADFDoUOhQ6ZIAMkAEyQAa8ZYBCh3B7CzdbcmzJkQEyQAbIAIUOhQ6FDhkgA2SADJABbxmg0CHc3sLNlhxbcmSADJABMkChQ6FDoUMGyAAZIANkwFsGKHQIt7dwsyXHlhwZIANkgAxQ6FDoUOiQATJABsgAGfCWAQodwu0t3GzJsSVHBsgAGSADFDoUOhQ6ZIAMkAEyQAa8ZYBCh3B7CzdbcmzJkQEyQAbIAIUOhQ6FDhkgA2SADJABbxmg0CHc3sLNlhxbcmSADJABMkChQ6FDoUMGyAAZIANkwFsGKHQIt7dwsyXHlhwZIANkgAxQ6FDoUOiQATJABsgAGfCWAQodwu0t3GzJsSVHBsgAGSADFDoUOhQ6ZIAMkAEyQAa8ZYBCh3B7CzdbcmzJkQEyQAbIAIUOhQ6FDhkgA2SADJABbxmg0CHc3sLNlhxbcmSADJABMkChQ6FDoUMGyAAZIANkwFsGchM6v/t/78jWF1+S1WvWygPzHwz/N2x6Tl7evUf+eOx9b43OFkb9FgbY+NnmbfLwwmXSM2NO+L/08Z/KSztfIRsMyIwNZIAMkIHEDGQqdP5y4qSsWrNWOjs7ZdKtt8rmzZtl//798u6774b/u3btkieeeEImTbo12O7Zjc8J9qM4qC8OXLcPfLxoyQq5rFCUiy//ilwwao4M63xMhn9tTfg/bPR8uWBEr1x65dhgu1Vr15MNBjvGBjJABshAXQYyETof/NfpQOB85jOfCUTMqVOnJMnfiRMngu2x3wsvbhccx/UKndc/WLDBpxA48DFEzPAbNsmFN7805P/wcU8H22O/ZzZuIRsMdIwNDTKAzOnPf/GCPLpwkdxz72yZdc+9wf+9c+bK4yv6ZdfLu5k9bdCmvsR39Khs2bqtig1wAl7wm0u9LsaFDowxprNTli1bJkkFTlQEYb++vj7p7Z3hlHF9gd7UfYCNwhdGygVXTUkscKIiCMLo4qsny43/8m2y0aZB2RSfPh4XDQuIm+7uCTKuq0sWL14sGzdulJ07dw76X7duXRBzR44cKRMm3CT7DgxQSHpevsAGBAz83dXVFfgfHNRiA9tgW+xjexLCqNA58KvXgpb64cOHo9qlqc/o1kK3l0tK0sdgmcY97X51IGBj2HVLh8zeRMVN3Gd0a1162Qiy4XkwToO9dj0GMjSjRnUEFRgqrzfffDPR/9atW6WnpycQR4df/y0Fj4dlDEK2o+MaueuuuwJh0ygb2NdmMWxM6KBAoFsB42/S/INootgZ3P3jWuAGGxddclUw9iZOtDT7HUQTxY7bbLjGsgvXi9b27LnzZPLkyQ1VYtHKDpkfZHiW96+k2PFE7ICNxxb9e5Dda0T8RtnAvsgQ4lg2ZneMCB0MLIUYSSuTExVKOC66w2w0qAuBL89rBBsQI2llcqKiCMdFdxjZoODJk3Nbzo1yMHXaHUEW59ChQ4kyONFKTP88MDAQCKZ537+PZcxxsaPYQBYnDTZwDBwLvNkWf40IHUwXx4wqk38Y87Nk6Y/YsnCssE3ruSeYURUVKGl+xpifufc/QjYcY8MWceDLdaiKDOMbdbHS6ntUaMgOMbPjbmPCFBtgC7zZJnZSFzoYl4Op46b/zp07J52d1wpmDvgSmHy/D4zLwdTxNEVN7LG6twRdY2TD3UDse1nI4v7mzvt+UOm0Kmzi9ldiBwObs7gXniPdsgyRCrEa59s0vrNNCKcudCZOnGSsyyoqnjA4+YEHH2RBc6Tl/uWv3mCsyyoqeDA4+TvTZpENR9hgRZZuRYaBx9ePG5dKl0Stim/Pnj3BmB1ODknXd6bLAsZIYqxVGt1VtdjAsXEOWxqbqQod3FQW2RwleEpZnU4uGudAZQY2MsnmqDV4urfIf/+fV5MNB9gwHdjb7fjolsAsmFYGl9aqwKLf9/f3BwOd283GLt8vlhbAwPKoL9P+jHNg+rkNtkpV6ODxDabH5iiRo16xijIeGWGDMXkNtVs2y1c+aXxsTjSrgwUI8cgI+qW2X2gb/2yDbA6mg6ddccUdDy33YrFoTcudPNfnef/Aa0GmL86XJr5DVhHnzNsvqQodLOiX9nRyJWhqvWIGFgcl14c7b8hwfizoh8c5RMWIyc+YgTVrTl/uhcwG+/Ma7C8jafkIrWisfWOi4oo7JhYd5MBkN/jCqtdZZHMUJzjXgkcfyz0Gpyp0sG5O1n94TMTESZNyN2RaQcrX44ANk6Im7th4TMSY67rIBruv2oYBjJfB2AhV0WTxirE6HR0dbWNjV2M0ujQRh02OzYnyhnPhnDh3nnZLTejgRrB2Th5/MGSeRuS567dmsHbOxZ//YuZCB+KHbNT3Ddn1yz7oxp89e3amQgeV2/jx47kqueUNCoyTzKpLUxc8mIGV96Dk1IQObuShhx7KQ+cElRkqNP7ba4MxX/suhY7lgZCix33R87OfbxYMENYrmizeY6E4Ph7Cbn7wTCp0M2bBg34OnBPnzjO+pCp0ZsycmZvQuf+B+cJ/O23QM71Xip3/SqFDoZNrsMsz0GZ1bqydk+X4HFWhQVyte/Lp3GLwD5csla3bXuJ/HRs8vOCRXEQw2IAAz6oMxJ0nNaGj+v/yUDrsnrC7JaHYiBtHY/o7smE3G3FBid817zMInSymlSuBo15LldmWoIsC2f2s/zGzh0KnvtCj0EmppYlKBWvbZPmHWV4cjNx8YMyqUgEbF3ZvyTSrg1leHIxsPxtZMdgO58lT6EBotIONXb3HvLo1vcrowPlYpfitt97KUufI/v37Ob08JaFqsgBjleLhX12RqdAZ1vkYn3nlABsmuWu3Yz+6cJGsW7cu83EYeL4R1zOzu1Hx/OZf5NZ1hXPnWRZT67rCTbzw4nbBAn5Z/uHhnjYsSJSnE1049zMbtwgW8DPdVaUfHw/3JBt2B18X2HXpGvHsqTwGnGI2T94za1zyUx7XmteMPMwCzDsOpyp0MI0YU8yz6r46deqUFXP084DWtXOGU8wz6r4afsMmssFsTq6tyDzKKGY+mXxYoxqTE31F13Tea6XkYW+Xzok1lrq6ujLP9uGceT8PLVWhA6ej+woP28ziD9mj1WvWtl0wc6lw6deK7is8bFPPuph6j+zRwwuXkQ2KnbZiQA38HxgYyKxCwyyvqdPuaCs763HNpfdY2BELPEaFqqnPtiwmmbrQQfqys/Na41kdrIiMVgQyBS6B1s7XCjYuuuQq44OSsSIy2WCXVbuWNSy5jwGgpiqv6HGxhg6er9Wu9nbpvp9a/6xgPFXUh6Y+41w4Z942Sl3o4IYWL/2RYOyMyb+ZM+8OxgTlbUCev7EK9QcPLhSMnTGVycFxL7riRsGYIPqmMd/QXn7YCw0KPGgzi6X+0WIfNaqD3VaOZE6RGEAjMIuMH85hS4PTiNBB+hQP+DTVhYUuq+m9M1iROVK49AoUbOABn6a6sNBlNXHyFLLhIBs6J3zfmuiaPXdeJlkdDELGAGj6qzV/ZWk/PIA1i8eE4By2POzViNCB0zD4CAOTMf07zT8lcjjwzZ2CFS3EYOPSy0YIpn+nmdmByLn5ltvZuqTIafuKFy33UaNGGV08ENPY8aR0xmK3YjH8hbE6Jp9ijmPjHLawYUzoKLEzprMzmHLe6kws7I/uMGRybDFetALn5+QFHmKn8IWRpSnnrc7E6t4SdIdR5CS3P1n131b7DgwETzI3MfgUFRm6rPKeTUOOm+MYs/PwlHsTbOCYOLZNyw0YFTqAEKLkgfkPyqRbbxWsYtzM3+HDh6Xz2muDsT8UOc2BbWNAgC+n9dwjF1/+FcEqxs1kd4Zdt1Q++7krBWN/yIY/bNjIq4vXhIGgI0aMSLVCg8hBRQYh5aJNeM2lOGFCCCuRYxsbxoWOgurAr14LHtWAQcQQLkNleLBGDrq9vnHLLYHIWb12HQuVp10Su18dCB7VgEHEEC5DPSoCa+Sg2wsCCY944FOTKXBUnOFrNQt4cjSESRoP+8RsLmRybKvI6PdqvyexCfyIAcNprKaNY+BYNrKRmdBRRscKiUt+9B+BQWbOnBl0R2HQsvpH99SkSbcGvy9Z+iN5df//Dt5/acwYttg9FTo6G9NnPRj4+9KrJwTdURi0rP4xW+vSK8cGv8+a00eB4zkPigu+NleJ6XY7ePj1YMwEBog2M+MGDwrFQoRTpk5ld5Vn5Q5dTN3dEwTLBDTDBrI4GJSOY9jUXaXzn7nQ0U8Oo2BZ6h8uWSrfuGWirHvy6WCp6KixVq5eE1RufGhc6wFPt7/N75OyYfM98Nrah1cXfI2u3RUrfxLEUggeZHjqTUFHpYduKlRiHR3XCDJDLtwnr7Hxcgc2MHsO2ToIHvi9Hhv4DdtgW+yDfW0eOpCr0FFAQsAg5RUVOOp3zCBARodZncYBVjZ09XUoNly9L153+7Fsi89RIWGBP6xmjLh72223BRUWFneDAELlNX78+OA3LD6ILLzNlZgtdvXhOhQb986ZW8UG+AAb4AXcYBtw5AIbTggdAKQqPGZ12quCUH6vJYJ9CC68h/Zi2jZ/o2ypDOp3vjslyLJzNhWZBKc6G5Nv+1bAhoux2BmhA9XIrE77FT4KnfbzuW1CoJ2u5/4H5tfMrLeTHXiv1XHHZTacEToAT1V6zOpUQ+hrwVQ+d7EV4atPeF/+lj+XKzNyaZZLl9lwSugwq2MWZBsDBYVO+/ncRg7b5ZpcrszaxUd53afLbDgldOBgVfE9s2ETZwB4Ns0xrgArfzOjQ8ETxwe/S5cLlyszspAuC1F7usyGc0JHZXUw6huzsaLO4GezsGdtXwodv/yZNT88X2P8uFyZ0deN+bpRe7nMhnNCB85RlR/W12nUWdzebGFI277K18zouOW3tDng8bLxv8uVGRkxy4jLbDgpdJjVMQu0TQGDQqd9fG0Td+16LT3Teznrqg2GBDTDNxb1dXXZASeFDpykKkBmdfyuCJWfmdHx28/NBF7ukz4TGBJAu6ZvVx9s6jIbzgodZHWgMDlWx+9CSaHjt399qAB8ugeXKzOf/GDjvbjMhrNCByBgaXIYn1kdfytDCh1/fWtjMG/3a3K5Mmt335m+f5fZcFrowLHM6vhdEVLo+O1f08GZx2+MH5crM/q6MV83ai+X2XBe6DCrYxbuRgtD2ttT6Pjt37R54fFa48Xlyoy+b833Q9nPZTacFzpwjsrquDoifCjA2vl3Ch2zwaud2eK9V7PlcmVGf1b7M02buMyGF0JHZXUwzz9Nx/JYZgtOEvtS6OTvgyR+4jZ++MnlyowMmmXQZTa8EDoAXGV1OA3ZLOxZBxMKHb/8mTU/PF9j/LhcmdHXjfm6UXu5zIY3QodZHbOQN1oo0tqeQsdPv6bFB4+TLh8uV2ZkIV0WovZ0mQ1vhA6cwqyOWdCj4GfxmULHP59mwQ3P0Rw3Lldm9HlzPk9qN5fZ8EroHH79t8G6OhyrYxb4pAUjje0odPzxZRo88BhmeXC5MiMbZKMWA14JHdwkRA4KK8fqmIW+FlBpf0+h44cf0+aCxzPDBYWOGbv6wKvLbHgndCBw4BBmdfwosBQ6fvjRh0DfDvfgcmXWDv7J8x5dZsM7oQMQmNXxp3Kk0PHHl3kGaZ47GUcuV2b0cTIfN2snl9nwUugwq2MW+GYLSjP7Uej448tm/M99svW/y5UZWTHListseCl0ALzK6mCAMguA2QJg0r4UOu76ziQXPLYZLlyuzMiEGSaUXV1mw1uho7I6mHKuHMVXswXBhH0pdNzzmQkOeMxsOHC5MiMjZhlxmQ1vhQ6gV1kdLCbIQmC2EJiyL4WOm34zxQOPa5YHlyszskE2ajHgtdBhVscs+LWgSvN7Ch33fZgmDzyWWR4odMza12V+XWbDa6EDqJjVcbvgUui47T+XA3s7XrvLlVk7+ivLe3aZDe+Fzh+PvR+sq8OxOm5WmBQ6bvotywDMc6XHiMuVGTlIj4M4W7rMhvdCBw5buXpNIHY4VsdsQYgrHK1+R6Hjns9a9Tn3z8/nLldm5MYsNy6z0RZC5y8nTjKrc9ZsITAVZCh03PSbKR54XLM8uFyZkQ2yUYuBthA6uHlmdcwWglqAtfo9hY6bfmvV79w/H79T6ORjdxd4d5mNthE6zOq4WYApdNz0mwuBm9dYzZbLlRn9We3PNG3iMhttI3TgcJXVQeWZJgA8lrkCRqFjzrbklraNMuByZRa9F35Ol2+X2WgroaOyOl8aM0Y++K/TFDsOjNuh0Ek3WDH40571GHC5Mqt3X/ytde5dZqOthA5gZ1andeCzDBoUOm75K0s2eK702XC5MiMP6fOg29RlNtpO6DCrY7Yw6AUjjfcUOm75Kw2f8xj5+dzlyozcmOXGZTbaTuigMDCrY7ZApBlwKHTc8VWafuex8vG7y5UZmTHLjMtstKXQwfgcjNPhWB2zBSONwEOhY7+P0vAzj2GHn12uzMiQWYZcZqMthQ4KhKpA8coCYraAtGJf5Sc8oLWV43Bfe31M39jjG5crM3JkliOX2WhbocOsjtlCkVbQodBxw09p+ZvHydffLldmZMcsOy6z0bZCB4VCVaLM6pgtIK0EIOUjZnTs9VEr/uW+dvnV5cqMLJllyWU22lro6FkdzMZiQTFbUJqxL4WOfT5pxo/cxw0/ulyZkTGzjLnMRlsLHRQMVZFiJhYLitmC0ox9lX+Y0bHPN834k/vY7UeXKzOyZZYtl9loe6GjsjpwIrM6ZgtKM4GIQsc+nzTjR+7jhh9drszImFnGXGaj7YUOCoeqTJnVMVtQmglEyjfM6Njnm2b8yX3s9qPLlRnZMsuWy2xQ6Jw9Hzz3CmvqwJHM6pgtLI0GIwodu/zRqP+4vVv+c7kyI2tmWXOZDQqd8oMtX969JxA6zOqYLSyNBiMKHbv80aj/uL1b/nO5MiNrZllzmQ0KHe0J3t+4ZSKzOpo9bAgcFDpmg5cNPuY12ONjlyszcmSWI5fZoNDRKvb9A68xq6PZw4bAQaFjNnjZ4GNegz0+drkyI0dmOXKZDQqdSMXOrI7ZwtJoMKLQscsfjfqP27vlP5crM7JmljWX2aDQiQgdZnXMFpZGgxGFjl3+aNR/3N4t/7lcmZE1s6y5zAaFTkTooLCorA6nNJstOEkCE4VO/j5I4idu44efXK7MyKBZBl1mg0InRuiorM79D8znaskx9skyoFDomA1eWfqS57Lfly5XZuTLLF8us5GL0MFqxBATy1c+KdN67pEJ35gm47q/JTdP6gk+4/vDr/82WN8mL3iZ1TFbaGr5VbGxYdNz8sD8B2XO3HnSO2Om3Hf/D4LP+D5vNmpdO7/PhxnaPT27u1yZkYP0OIizpctsZCp00BU0a05fMLPp4qsny7DR82X419YM/v/qiuD7i664Mdju4YXLJI8uJGZ1zBaaaEGCj5cs/VHg876+Ptm1a5e8++67g/7feuut4PuZM+8Otlu9Zm0ubESvnZ+zZYX2NmdvlyszcmGOC9jWZTYyETpYbbhnxhz57OeuDETMhd1b5MKbXxryf/gNm4LtL/78FwWCB639LGFmVsdswYEvwQYyN53XXhuImHPnzkmSv1OnTgXbd3Z2CgRP1mxkySHPZZ7DdrQxGhc//8UL8ujCRXLPvbNl1j33yvXXXy/3zpkrj6/ol10v75Y/Hns/05jbjn6w8Z7h9y1bt1WxAU7AC35ziQ3jQmf3qwNy6WUj5IJRcySpwKkSQd1b5IKrpshlhWKmLXgEAqhYjtUxU9Ec+NVrAqGyefNmSSpwoiII+y1btiw4Th6ZPxuDFK/JDK8+2BUNAoib7u4JMq6rSxYvXiwbN26UnTt3Dvpft26dILM6cuRImTDhJtl3YICCJ+fxiqb5AxsQMPB3V1dX4H9wEGUDvIANbINtsY/tDU2jQgci56JLrpLhX10xZPamStzEZHyGXbc0EB44rmmnq+ND5EDssBJNt/IoiZxrBd1RafwdPnw48BOOq3zH13R9Rnu6bU9kaEaN6ggqKVReb775ZqL/rVu3Sk9PTyCOMD6OHLjNQZz/IGQ7Oq6Ru+66KxA2jbKBfW0Ww8aETihyxj2dishRQghjerIUHszqpF+olcg5ceJEGhonPAbG9GTJRlzA4Hfp80KbtmZTtLZnz50nkydPbqgSi1Z2aMkjw7O8fyXFjifZHbDx2KJ/D7J7jYjfKBvYFxlCHMvG7I4RoYO+O1Q4w1MWOUrsILODbqysnjTOrE5rgVavqBQbaYscpXaQ2UF3WFZs6PfG9+lxQlumY0tUOlOn3RFkcQ4dOpQogxOtxPTPOAYE07zv32dlhUZuknOj2EAWJy02cCzwZpvYMSJ0bvyXb8uwzsdSzeQokaNeMeYHU9OzAJtZneSFZyh/9PbOkP379ytdYuQVY34wwHmoa+Hv6fmVtrTPlqoiw3gKXay0+l6JHWZ27PN50nJoig2wBd5sEzupC52gy+qKG42KnEDsdG+Riy//SmZjZ1RWB9POk8LE7QYHAnRZYWq46T8MUJ50662ZsUE/D/Yz7WGHPebO+35Q6bQqbOL2V2IHA5vpbzv83YgfIFKRmYvzbRrf4dg2CeHUhc6Y67qCdXFU5sXkK7qwvjNtViYFTWV1MOW8EaC4bSUITJw0KVgXx7TQwfHRhfXAg8zqkL8Kf+1kCww8vn7cuFS6JGpVfHv27AnG7Lg0zbidGKh1rxhQjrFWaXRX1WIDx8Y5bJnEk6rQgQGRZTEpbqLHxqyurAoaszrNVxpgA1mWLP86O6/NjI1aQYXfN88Mbdec7dAtgVkwrQwurVWBRb/v7+8PBjrTV835Kg+7YWkBDCyP+jLtzzgHpp/ncY/Rc6YqdBYtWVFaLydmanhUoKT1+YIRvfLMxi2ZGJNZneYL86o1a4MF/rIUOk888YS88OL2TNiIFix+bp4V2q412yGbg+ngaVdcccdDy71YzHZ9M/LRPB8YeoFMX5wvTXyHc9kw3CNVoTOu+7bMuq2UUMIaPVl1X6GAMavTXCHrnTEjs24rJaawRg+7r5rzFysTd+2GVjTWvjFRccUdE4sO2jQeg+zWZherXmeRzVGc4FwLHn0s98ZmqkIHU8qVAMnqFY+JKHxhZGaGxLRl3CfH6tQuTHGBBjbL+g+PiRjT2ZkZG3H3ze8a44T2as1e6MbH2AhV0WTxirE6HR0dLGeWr62DLk3EYZNjc6K84Vw4J86dZ9lOTehAAOCZVFkJHP08MGSWRly5urRooQ0puSzvu9lzgQ2sbZPHX9ZsNGsj7tdaBU/7lez38u49Mnv27EyFDiq38ePHczyc5UIHQy+y6tLUBQ9mYOU9KDk1oYMbGfO177aF0GFWp7FKCWw89NBDeeicoDXBSrAxf9Fe7trrZz/fLBggrFc0WbzHQnF8PITd3OCZVOhmzIIH/Rw4J86dZ1xJVegUO/+1LYQOHMasTvJCDaEzY+ZMCh3LW3x5BiKeO3l5qmcrrJ2T5fgcVaFBXG3d9lKulVk9u/C385KXCAYbOHeePkhN6OAm0E2gdyll9T6P7gmV1fnSmDG59z/mCVDSc8NHefzlwUZSm3C7dCp32rFiRwidLKaVK4GjXil0Kj6wlUcKnZRamqhUMDg4K4GD8+Ahn5jtlQdcKqvDlszQhRxsYHBwln94yCdme+XBBs85NBO0Ufo2otBJ36a+cEqhk5LQwTRvrFacpdDBM7UeXrgsl8qMWZ3kQQXTvLFacZZ/eKbW6jVrc2HDl+DI+0jOuA22enThIlm3bl3m4zDwfCMMhLbBBryGeGaf3/yLXMZvIduHc+fpl1S7rl7a+YpgAb8shc5FV9yY64JEzOrEF6oo1AiCWMAvyz88V4sz45L5J+ovfnbTbnj2VB4DTjGbJ++ZNWS2PrN5zcjDLMC843CqQkdlOC7s3pKJ2EE32aWXjch1jIy6Z47VqV/IlJ3wwM0s/tBNhintea/fwOBbnwvaJ137YOaTyYc1qjE50Vd0TbOspevLtMsG1ljq6urKPNuHc2b1mKZaNktV6OAkc+9/RIaNnp+J0EH2aOl//jjXlBjuGWN0UNA5Vqd+QV+y9EeZPQYC2aOfrGa3Va2Cz+/rs+qqfdSicAMDA5lVaJjlNXXaHbnHYVd9luV1Y2FHLPAYFaqmPtuymGTqQgfKDQsHmh6UjEHIyOYgU5AlKHHnQnBBRodZnfqVB9hAlsX0oGQMQsZ5bGAjjhd+V58T2qc1+2DJfYyLMFV5RY+LNXTwfC36rTW/ZWG/p9Y/KxhPFfWhqc84F86Zxb3VO0fqQgcnW7V2vWDsjLGxOt1bguNjTFC9m8vyN2Z1khXyZzc+Jxg7Y+oPXWM4PgdGJvNHlmWE58rGJxgrgwdtZrHUP1rso0Z1sNsqpQk9psuIGkKQRcYP50BPhw0NTiNCB866+ZbbjQ1MvuCqKUEXmWkoGjk+szrJg/j03hnGBiYvW7ZM0EXWiO+4bXLf0VZu2Gr23HmZZHUwCBkDoMmFG1zAT3gAaxaPCcE5bHnYqzGhg4o/dbHTvSUQTzgujm9b4WJWJ1lhh+/Qp5/mLCxkcnA8iCgb2bCNVV5PMlZdtRNa0aNGjTK6eCCmseNJ6SxvbrEEf2GsjsmnmOPYOIctbBgTOggQuEmIkn+6fKK0OhMLY37QHTZx8hRrjBcNgrhfjNOxJV0XvT5bPmOqIWzUNf6GoL+41ZlYGPOD7iqKHPF443QAACAASURBVLcCri08+nod+w4MBE8yNzH4FBUZnpKe92waX31n+r4wOw/dmybYwDHBhk3LDRgVOnAWKv9FS1bIRZdcJVjcr+FxO91bgllcGOCMsT+mAWj1+Cqrg/V1Wj2Wj/sjMCoxOPDaQVm1Zq10dl4rWNyv0T8IpF27dgUDjzH2x0d78Z4o3lphAANBR4wYkWqFBpGDhgoG/DPOuckn/Ab/pS12lMiByG6F27T3NS501AVD3WHl5Isv/4pcMGqODB/3dF3Rg9+xHQQS9rNJHap7intlVqd2wddFjr6AFHyLlZMn3XqrbN68WU6cOFFX8+B3bAeBhP1cYSOOF35XmxfaJh3b4MnRaGGn8bBPzObC4OMXXtweNlgodtLxU1a8w18Qqj3Te+WVPa8G79NYTRvHwHFtEzmwa2ZCRzkRlRIyPIUvjAymoV989eSgawtr76CLq/DPtwXGGnNdlyxf+aSTqVFmdaoLvi4AYR/Fg/4KNpDhGdPZGbQ2MDUR/8ja4PWhvr6AjYmTJsmGTc85yYZ+v3xfzQltYsYmBw+/HoyZwADRZmbc4EGhWIhwytSpYbnTGy4UO2b8lmZ5QAyGuFEiB59xfMTd7u4JgmUCmmEDWRwMSscxbG10Zi50dMdhwBwMg/5CVH54j38bpqPp19noe71Sd/1eGr33uO31ApY0IPrKRpx9+J39lYQPPkI5XLHyJ0FFB8GDDE+9Keio9NBNhUqso+MaQWYoaodmynb0GPxsnn/dTxA7+KzbHZ8xew7ZOgge+L0eG/gN22Bb7IN9o8fUj5/3+1yFTt43b/L8asBt0ord5LXkfWzViqAtzAe0vH3N89vvY1RIWOAPMx/Rur/tttuCCgtZUwggVF7jx48PfsPig4hl9Sox/KbKeFwlSibyZaIR/yg27p0zt4oN8AE2wAu4wTbgqB4btvieQsfgQk/fuGViAEQ7Z3UgbqKpUlvg53XkG4BpfzvsrzLpWGQTogafG51N1UhlSr9n53fdLz9csrRhUaKzAT7UZ9d8SKFjUOi0e1aHIie7gOZa4OH1+seGXqkys5O/fyFWVaat3bPpFDoGhQ6CebtmdaD+kcnh87/yD3gUFfRBVgxA7CBzwCxuvsxxoPhg+1PoGBY6KquDwp9VsMn7POqeIXIaTYHnfe08/+AAQXvQHs0woGdzGQOyZYgip9reFDqGhQ6ChMrqoH+zmaDh0j6YQYfWHP4Z4KoLnEu+5LXSf60woMQOGzzZcUSRE29rCp0MhI7KcNz/wHyvhY5eyHDPrQRJ7htfYGkX2sUlBih2suOV8be2rSl0MhA6CEy+Z3VYyGoXMpcqJl4r/Zg2AxQ75plSjWlk0tnIrLY3hU5GQkeB6GNWR59t8cyGTczkZMRU2hUSj1cdIGmTdGyi4h+7sdKxp86lsi1FTm3bUuhkWCmpqX4+jdXRRQ5abnoB5PvaBY+2oW3ajQFWyOkzT5smsymFToZCBwIHqtunrA7uxbd7arcKiPebLFjSTq3biRVz6zZUHCpbIkuGSSDqe75W25hCJ0OhAwCVMPAhq6P63rk4WHXBYrChTchAPAOqgmZXS7x9knCjHhzNrsBkNqTQyVjo+JLVochJVsCSBC1uQ1u2GwPIQKCSpthpnH0VeylyktuOQidjoYOA5npWR7XIWNCSF7R2q8h4v2RjKAb0mZrIUAy1PX8/LxQ5zZUrCp0chI7K6mDKuWuFlyKnuYLmmp95vfRzFgzoYgeVeBbndPUcFDnNl0kKnRyEDgqayupAOLhS8BCUkGrGvw9jjFyxO6+z+QBH29lvO4qdoX2kRA7HQw5tq7gyT6GTk9BxLaujByOXxFkc9PyuuWBBu9FuphjQ4wszOxXO9OU7KHIqdmmUQwqdnIQOHOVKVucvJ06GAwfxVPJGIeP2zRdQ2o62axcG9EqdYue86PagyGktDlDo5Ch0XMjq6IWNwae1wtYuFRbvk5w0y4Aeb9q5cqcd0i1DFDo5Ch0EA9X3amN3kF7YKHLSLXjNVgTcj37wnQE97rSj2NHv/4dLlgaZHd99bvr+KHRyFjroFsLgXhtnYCkRhmBjGkQenxU4GSADigG9sm8nsYOxSrhf1AlsXKZXHih0chY6KNhKUNiU1VHX1E5BRgVZvqYXYGhL2rJZBiB2kNFApd8OcYgDss2VFQodC4SObVkdtbw4skwINs0GKu5nruDStrRtuzCgN7ogBny8b4ocs+WZQscCoYOCqwpz3rOakFVCC4qrHpsteD4Ga94TmTHFgIqPPsYlihzz5YZCxxKho7I6KMh5ZVEocswXOFMVAY9L3/nOgI9iRxc5Ng1d8I0lCh1LhA7AUgU5j+e+sMCxovQtuPF+/GNaxUgfMjuqYYkMOkWOWVYpdCwSOnlldShyzBYyVri0LxlIjwElEFwWO+oeKHLS46JeGaPQsUjowFGqxZJVVgfdZBh0jAKX1TnrAcnfsin4tDPt7DIDLgsFl6/dVWYodCwTOsjqoKWSxVgdiByu2cAKz9Xgxetub3ZdFAzqmhHfD7/+Wy9nkNlYLil0LBM6gERN7zadYVEiB2tV2Agnr6m9KzL6n/4figElHFzoAlJx3eUut6H8YevvFDoWCh1kWkxndVQXWTssxGVr4eN1sSInA60zgMwI4qXNYkfFW4qc1v3dTJmh0LFQ6MCRSv2byOqoQkeRk0+ha6agch/6igzUZkCfUGEiZrZiexVvKXJq+68V+ybZl0LHUqETl9XBd2i9PLNxizy8cJn0zJgT/C99/Kfys83bBE9Dxzb1HI8FCdHyQaHDeKB62/K3/AombU/bk4HGGNDFDsSFDfajyGnMh6Z8RqFjqdCBw1VWp+/hR2T6rAcDgXLx1ZNl2Oj5wf/wr60R/OPzBaPmyKVXTwi2mTWnLxA9UWhUfzZbFnYUvqh/+Jl+IQOtMWCT2FEih5nz1nyaRpmg0LFY6PyfN/+vXD3yS/K5y74sw65bKhd2b5ELb36p7v/wGzbJsM7H5OLLvyLfmTZLUPABCrI9yOTgX32XBkA8Rv6FmD6gD8hAhYFmxA4y4WgIPvHUepk9d57Muufe8B+f8T2y6UNlzOEHbKMmelDkVPySJ6MUOpYKnVVr18tFl1wViJahxE2t35HpgbBZteZJ6wfr5VkIeG47ghH9QD+kxYAuNup1Y6EBuODRx4I42dPTI/39/bJz585B/1u3bg2+nzx5crDd4yv6YzPmuHb9vBQ59vBMoWOZ0EFB+cGDC+WiK24UZGdqiZik3w8f97T8t893yj9/6VouM26Zr9MK6jyOPQGVvrDHF/VEB8Ynzp33fSkWi4GIOXTokLz55ptD/g8MDATbjxw5UiB4cA7l83rnU9vwNR8+KHQsq/xmzpoXiJwk3VRJxQ6OBeG0aMmKsFCywOVT4Gh32p0MZMdAnPjYd2BARo3qkMWLF0tSgRMVQdhv9uzZ0tHREU4CUd1VWJdMF0D0d3b+rmVrCh2LhE7QXXXFjYnG4iQWOWpMT/eWYNzOSztfodixyOe1Cia/zz840gd++EAXO7PuuUeQjUF3VFS8NPN548aNQXfWHXfeFbzW6yYjT/nxRKFjSaWHvmKMyUmju6qWCEI3FsbscFp5fgWOwY62JwPZMwCxc/8PHpARI4qyZ8+eVESOEkYY04O4uvQ/lrERaUl9Gi1jFDqWOGbs/+puaeBxLXET/R4DlLH+ThQEfs4++NLmtDkZyIYBzMSCGElb5Cixg8wOurHYiMzGn42WGwodC4QOpjViOnhUlBj5jC6sz3+RU8wt8HujhZXb2xlE6Rf7/TJl6lRZt25dqpkcJXLUK8b8YIAzebCPBwodCyo8LAYYrJOjxtMYfsXighyYbF9hZICkT8hA+gxg8DGmhitBYuoVA5THdXXVnHpO36bv26Q2pdDJWeig7xgp1VRnWQ0hlDBW57JCkS2PnH2ftJByu/wCJG3vvu27uycE6+KYEjj6cdGFde+cuYytlsVWCp2cHYLVNvFYByPdVHUEz6VXjmX3Vc6+ZyXqfiVKH9rtQ8RXZFl0MWL6PWZ1cfV5u7ig0Mm5ssMDOtGVlLXQueCqKVxAMGffs5K0KxjSH/75Y3n/ymCBP9PiRj9+X1+f/PwXLzCrY1F8pdDJ2Rl48jhmQmUtdHBOiCwGd/+CO31Kn5KBEgNZdlspsYM1evB8LPrAnnJIoZOz0MFUbzyBPA+hs/Knm1gYc/Y/g6E9wZC+8M8XGP+oBEhWr3hMREfHNYytFsVWCp2cnUGh419wZYVJn5KB/BnAmjYYL5OVwNHPA4FFBvJnQPmAQidnoZNn19XPNm9jYczZ/6og8tWeoEhf+OELrDY/Y8YMCh3GOKHQyRkCiI08BiP/0+UTORg5Z9+zQvWjQqUf7fQjhM63vvVtCh3GOQqdvIMUCuOlV0/IfIwOV0e2MzjnzSPPTy58YUCtUaZ3KWX1nl1XdpUjZnRyVruqMJp8mGd0oDMXDLSrEPpSsfA+yJVtDEBwYHBwVgIH58FDPr87ZQqHBeRct+osUuhY4IxZc/oynWJ+wYhePgLCAr/rBZHvKRLIQPoMYJViTPfOUujgmVqPr+in0LEoxlLoWOAMdF8FD/Xs3mK+C6v8UE8+ZTf9oMqKijYlA3YxsOvl3YIF/LIUOniuFh7UTBbsYYFCxwKhgwIxreeeTLI6yOY8vHAZC6ElfmcwtCcY0hf++QINOnRf4YGbWYgddJONGtUhGJJAnuzhiULHkgoPz0ZBgcT4meiYmrQ+Y2FCPMyT2Rx7CiCDIX1BBswy8OjCRZk9BgLZoxUrf0KRY0m9qsoWhY5FDnlp5yvy2f/xZSNPMoeAuuiSq2T3qwMshBb5XBVEvpqt7Gjf9rUvGpFYOND0oGQMQkY2hw1J+1ij0LGs0lu0ZIVcdMWNqYodiJzPfu5KWffUBoocy/zNCti+oEif+OeTp9Y/Kxg7Y6r7Cl1j148bJxgTRH7s44dCx8KKD2IHg5PT6MZCdxUyORQ59hU+BkT6hAxkx8DUaXcYG5g8e/ZsQRcZ/ZmdPxuxNYWOhUIHDkQ3FsbsBE82b2Y2VvcWwcBjjMlhd5Wdha+Rgspt6UMy0BoDGCCctthBJgfjcnBcDkBuzT8m+abQsVTowOno68VDP7GKMR4TkSTDg20gcLAPZlexv9jewmeyYPPY9DsZqGZAiZ277rqr5ZlYGPOD7rCpd1Dk2M4ahY7FQkfBg8F06M5CdubSK8fKBVdNCTI9yPaofzy7CuLmmjHjZNXa9RQ4DvhV+Zev1RUSbUKbmGIAYmd5/8pggDIW92t03A6yOP39/cH+GPtj6jp53PTKAIWOYxUiRA8Wo3pm4xZZ+dNNwT8eDIrv8BsLR3qFg7akLcmAvwxgoVasnDyuq0sWL14se/bsqSt68Du2wwwu7If9yYcbfFDoOCZ0WLDcKFj0E/1EBtxgAIIFGZ6OjmsCEdPT0yPo2kLWBq//Nn16MF6yu3uCPPHUejYoHawzKXQcdBoDqBsBlH6in8iAWwxgTCOEz+HXfytbt70UvMdnjnV0y4/RckehQ6HD9CsZIANkgAyQAW8ZoNAh3N7CHVX1/Ox2q4z+o//IABlohgEKHQodCh0yQAbIABkgA94yQKFDuL2Fuxnlz33YYiQDZIAM+MUAhQ6FDoUOGSADZIAMkAFvGaDQIdzews1WmV+tMvqT/iQDZKAZBih0KHQodMgAGSADZIAMeMsAhQ7h9hbuZpQ/92GLkQyQATLgFwMUOhQ6FDpkgAyQATJABrxlgEKHcHsLN1tlfrXK6E/6kwyQgWYYoNCh0KHQIQNkgAyQATLgLQMUOoTbW7ibUf7chy1GMkAGyIBfDFDoUOhQ6JABMkAGyAAZ8JYBCh3C7S3cbJX51SqjP+lPMkAGmmGAQodCh0KHDJABMkAGyIC3DFDoEG5v4W5G+XMfthjJABkgA34xQKFDoUOhQwbIABkgA2TAWwYodAi3t3CzVeZXq4z+pD/JABlohgEKHQodCh0yQAbIABkgA94yQKGjw33mDVk+uiCFwlzZdvwf3jq9GUXMfdiSIgNkgAyQARcZoNBpRuhYKIhOHVkpowsFKfTukGP6PfE9BSsZIANkgAy0MQMUOrrzkwqYpNvpx07r/UdHZPlNRSmMXikHz1RaF7FCp8a2LipyXnPF17QFbUEGDDCQZ1xPq37gcWIFLYWODoYLoB/fIdORuYkIndjA18i2uh34PrawxNqYtqKtyIAfDCSN/0m3y4yLU3Kw/2YpFEbL9O3v++GLlG1HoaMbVAf4vffl16tmSBGiojhDlu/9g5xU2+rbqbE8+nf19j37iRw78oqsXzBJCjh2oSDF3tWy++2PQ0Ar2ZntcvTtHdKHDA66pJRwKe+HfUf3vyGnzp6Xyj7lrqs62545e05Ovr1XlveOLV/DWJnev1eOfnQuvAZW6gZajIofvpIzMpARAx/Kwf5vSqFwsyw/cqr+OfUYruJ6nJ+Sbhe3b0vfnZOTR1bLBC3ul+J0nNCptW17xjUKHR28EOBp0rcAhaMkREqv35TlRz4sFZRwO23Qcvhd0n31YxekMHGTHP20BGEoWm64WSYUy9ulJnQqBWDw/RWkuOCA/E23B9/XD4y0D+1DBixn4H3Z1js6XaGTm8//Ice2zw3qJdXArd0gbWRb/8UPhY4ObShWijJhwY5ShuPTP8vex0rZl1AIhNvFCZ2h9j0q29ao7IkuOirHCoVOYZL0bX+nkknCtapMTaTrKtxHH4wcu+3fZe+Cr0uhMEke2fdnOX32vJx+b4fcDUFVXCh7P2BWp3bw8D8g8N7p43wZ0LMTf5KTKqNdGCvTV/1GjpUbg6Vr/FiO7ttUyngHjVLE3s1y8PgnZfGlRI7WqIzEzUH3qsf1ell5fbty5kePv+8e/438uJwtj2brz3z6Vzm481ntmquz6ZVj6Rn9bfKbssipNFBVlkq3GbquKiKnelvw/bEc3btapqtGdLTHQq8TPXlPoaM7MgZgFIQKeOVuobjt4r6L21c/H94rMaJNaa86n76P2j5SYGP3ids2vE6t8IeZq4rYGhQA9PPzveUtWFbUZNdlBiqV9p2PLys1wML49HXp2/f3cvn7WH63YVZpaEH4ezmmFe+Tbe9B7DQrdJJm5SvxMoy/PX3SN7E4uDfgptVysDwsINxu0DUX5ZYN7wSNzkH1zaCMflpCR3XlReO/bluX+Ym/dgodveIORUAF4EHgqWxJ3HZx38UJnSpFr4CrnDMsDOp8+jXGiZe482CfuG3D65wm698+w0pbty3fkwcykDMDSuiUxkb++NBf5fRZlYXWBtt+cED6goxEJTN95qOjsl5lUsJueCV2VPYjviIMxHEYG4fKylevtxbGbC0Lf/r4L+URjK8sVETEqTd2yKpwvKcmOrRYH3esknivZGoGd10pm2n20bI6g7ZVdrtpqewNMl+fyLvb7wsEY9hj4WEZoNDRnRqCrqVJw8Kjqe5wu4o4ORN+V2/fM3J0wzQpFNSxPpFj+5YGg8v0RQpD0DX4S6Br4iVstZQKbuw+SugM2lYFDQyCflJ+HaZ56wQA3UZ8n3NFQD+FZYEsesiiqrRVjATv6rtKRR7GO21sI7gIvw9jZzNCR4vrcccMY31lu+rzxl/3YHYrwkVf/yz+WDheZftB4iXGPrW2DY89KKNUbmyHNvMvxlDo6MFSAVy8Xab3qBlJ0XToeamImgrole/+Tf6zP5JSDYWGKrAqi1OQYs8MuVP1lZa7o0IY48BTilyBWt4mdp8a24ZjctQxwlftfnS78L2HFYp/wWxwJcL7c9MeKkZWRI1PQuf08Tdk+4ZHyo3bSj2QudCJCEQ3WUlexil09EpcCR1A8ME7sk1NAb9poWzTpn9XRI0mDNS+GGujD2SL7Hs6HKim0qMfytHtC0vgJxE6mJ5+6MnKQLJ6QqfGtqXp5QcGTXEvDVrT7ke3C99T6JABMpAJA8mEzpmwEZe062qs3L39T+E4mNiKPYzh9bLy8Q3dsKFZnCGl7rZzcvL3z5fjdHmYwKfvyPpg/I76XJno0qjQKX5vh7wbDsyOs1kl+zNo29Bu2j1m4tfkoiTWNy1eI4VOiwYMnRIWEoqF0CZp2ZbHYSVLBtqEgbhKO+67JIORUblWuuqHbMypGN5ERj8UOj1LZfn3BvcGhEJDHT/MoI+VO3tvDwdUq+6o8FhVGf1z8rd9C8PtKwsExtmn1raVMTmVGVnsumqTwpWC2gwhptCh0EmBJ1bsjD1tyUBcpR33HcrYUNPLS+WwkkVHhV4nPqsY3kRGXxcnlenlKmuvluzQs/HlpUM+qvQcDC10zgump4cL2YYrIdewT+y2cXaj0GGwSRpsVCGpV5CSHovbkTsyQAbIgDMM6EKHD1W2r6HHrisGE2eCCTNF9gUQ+oQ+IQNxs73IhU1cUOhQ6FDokAEyQAbIQAsMMKNjt7Cj0GkBbpsUK6/F7oJG/9A/ZIAMkIF8GKDQodBhS44MkAEyQAbIgLcMUOgQbm/hZuspn9YT7U67kwEyYBMDFDoUOhQ6ZIAMkAEyQAa8ZYBCh3B7C7dNLQpeC1u4ZIAMkIF8GKDQodCh0CEDZIAMkAEy4C0D/gmdYDXIn8r24//w1mnNtQpqrJ6ZSuE+JQc3rB78PLBUjpuP+m/OvrxW2o0MkAEyYCMDfgmdT/GQtG/KhMd+KcfUA88++oPsfXFl5SGYhbEyvX+HHDz+SU5CyKTgqFfIkp436Xb6ucrPTynOkvW//zgnu+rXw/c2BhteU7twiUcdPCvLd77PWGBLg8/kyv1n3pT1/75Djn6kHnVhH+ceCR1V2d4n295TIkZV2uVneYQPUytI4abVcjAXx6hrGi3Tt2cZCJKeN+l2EZg//ZNsw8PscrNr5HpsCTC8DlZ2bcXAJ3Js31KZcNNS2ZtbY1LFgnNy8u0B2do/o/IgzOIMWb79jUpDOGvfmBQc9e4l6XmTbqefqxz7i73Py+9yqVOVv2u/+iN0Pjoiy28qSnHBAflb6AR0qayU9fv+ICeD787Jyd8/X87u3CzLj5zKIQg3KSTCe6rtzPot5qTnTbpd9XWcfnuT3FIoyi0b3pHTLV9v9fHr3x+3p33IQN4MnH5vh9xdHCt3b/+ToRjwoRzs/6YUCgnid1hpRxu6RZnQf6RcJ2TMTHhNdR4uaiJ2Jj1v0u0i11jye452jVxPtBx4InTUI+m/Ln37/j6EeHlftvWOlkJhmqx/+8wQ20YLAVoIB2T9gklSecS9npmJ+f2mR2TDkb9qhb6GkEAX24ZHZEKYdZokfc8dGdTyqCwzvl2Ovr1D+m4qSqF3hwQPkfv0r3Jw57Ol74JjoItur5ZO1M/7Rzl26Mmy4Ku3nZ5x+liO7l1d6QJEy2ivEpBlO336jqyfWJQCnv6rug6HADAKJD9HmeNnMuEKA2URUlwoez8w1Y2h4ncSoYMulU2y923Vnf6x/G7DrFJ2Z/RKOXgmB7s2KSRaLgNJz5t0u6q4fkaObpjWZL1q3g+eCB1ViQ8F/zk5eWR1ICaK39sh7zZUGevZIL2FoIROrd+xrd7CUdeq9jsvZz46Kut7x2riqXJ8/TpDoXPDzTKhWN6mLHTC30KhhN/17ErlvHcumC+3RLartHAq21W61lQrqnJdJaEXFZZ/l70Lvi4FPsG9QQFtvqC3HCirAhuvmTaNMPDBAekrFiJZ9cgDLz96R7aVG4rF3ifl14O6tz6Wo/s2aY21okxYsFkbT6lEjhaHGhUsx3fIdMS+phpj0evDdeiZmejv0es/L2dqCYkWG7qnj78h2/WGcrQhqp/3vffl16vK3Xn1ttMn9Hz0B9mtdQEWe1fL7lBAljiwOaPvidBJUsFigByyGIAvOnAqpgApIaAyJmfVOeL2h6O138PB0FoLImzlRIWEykZh3JDq19ZFU0VMVMTMJOnb/s6g1OupN3bIqjDDogmT8PrVeXGeheUZUuX+dNxrzes7L2fKAaxyfeXxUIVoUFPnGEpwRgIkK1EKIzLgPAMqPo3uf0NOaf5U3xd6lspyjONTsXVQ/NBipfZ7sG1RjbuMidMNCR0VF/WGZ9JYVOv6lNCp9Ttiq7r+GkKn5YauiruaAAxsqPVahEJnmvQtQNefvu03ZfmRD0v8hdup+0JDvDQsZPA+ep1RtqGqJ8I6J6ltzW/XJkJHQThWpq/6zaDuoFKrLKYAKRCU00IANHi0wlxR6pHfw/0UOApKldFRn/XsCxyvvlfbRVpG+rmr3v9Djm2fW4JZXX/M8YJ7H/L6tPMqm+iv4fH1a6bQYWvffPCijW2ysWqwVeKV8k8odDDjNYi/attCpetdVZKFSfLIvj+Xuvo1AVAZe6lidYMxJlh2BFmM6kbimbPqmHrlX36v4pt2fdFGZnCf2u91r78q3mq2aLqhe0oOb3++kmEJhYnmi/C8WkM9mKVcGoYR2jfcTtVX6vqKldnMauJJodIID2yg9m1IfGbDsCdCR4mCOPiVitcKUJUwSGBs5cRaY3tq/R5+r8BR16ogVJ9bEzpVqUslRlRBTUPoDJnuVVktda8J7NqML7iP861/VQny1ZcyoipEFdcq9xUKHS1+hN+V41P4WdsGbITfh3FMiZK4WF855yCulGAqzpAfH9LHS6rt1TFrC53wOiLXp85T6/fwe3X9NeuD1uK/uo7Sq7ofzRdV5y3de/Lri7FNQTs+YrI6B4WOAivtV1XIIgrzbK0ulmbOryrxglT3LeN46ndN+Z5VmSQ9zaeEjYJEXXsDXVeq0KgKXw0CViJMU+rhYOVQ6OjXr11fWICj16d1XYUtshr2U9cRHqvGduq6+UrBQga8YUBVmjW7rrS4pbZV8Sn8HIkd4ffhvqoSTyh0VHYjzJY0F5PC64hcnxIYtX4Pv1fXr8RAOLZHxdtWhM4ncuzIK5FJMhAmqo7RREh43pIdmr++GDuqrJa6qq/isAAAA/lJREFUV4vKticZnUo/YpiCg5FDqOLUaMKCEjpLHzcz+Hilgl3799QHI0dBqrrPsXJn7+3h2hGl61MFavBvpX5Xvc9abacVEk0wVvXTatdi82A0FZD4GhOgQsb5G/logYFyRTcoBsdmZWIyNaqSTNx1pcesGtdcq4ulGd7D61Pdb5Fzhr9rPQcqk6SPRQpjtcp6t97QLcXdygDr08d/KY9gRm6s0NGuP7w+TWTVu76aGbGSLWyO//4IHVUZxw78GixMSpV1o0IHzoyZPl4oSKUFE/O7kenl5SnlYYFVA61xn+U+aG12w2ChgzFEJ+To9oXlqezRPus4oYN7j84oKNtUCR0VVLhgoDctdFb6kcosLG/8Pp6N8jCBcGJDyU5VWYNY8aNll1W3u3rVY3qYOVcxXQmGap+E51XH0V8b7l6pdX2qHqn1u4HByCrmlnmsus/i7TK9Rw36Ll+fEjCDfivbULev2k7P/KjYrtsveK83hjm9PLvAH/cICAanDOyvVqXmIyDiK4DqIMztaBMfGYhbMDCsiLUKOu676sZUzPTss+fl9PHfyI/D5TiyEjrgNa6xp4RO3O8x1x8nJFBHNTS9PNLQDQdaqxm1H8pJtc6aWlhRnRddbx9UpvhXZuCWy6PaThc6sdcHkVQROlwwMGuhwYd6ZiBsopUUH+rpY6XFe4pyzs9DM2HTIyDor6H9lYKNyhkfPgIia7HD8+UgdlIoMPQb/UYGPGCAD/XMRGDYUlb4UE9Wfm0FvC0Fj9fhQWXJ2MHYQQbIQDoMeDQYOR2DECzakQyQATJABsiAPwxQ6LD1z9Y/GSADZIAMkAFvGaDQIdzews0WmT8tMvqSviQDZKBZBih0KHQodMgAGSADZIAMeMsAhQ7h9hbuZtU/92PLkQyQATLgDwMUOhQ6FDpkgAyQATJABrxlgEKHcHsLN1tk/rTI6Ev6kgyQgWYZoNCh0KHQIQNkgAyQATLgLQMUOoTbW7ibVf/cjy1HMkAGyIA/DFDoUOhQ6JABMkAGyAAZ8JYBCh3C7S3cbJH50yKjL+lLMkAGmmWAQodCh0KHDJABMkAGyIC3DFDoEG5v4W5W/XM/thzJABkgA/4wQKFDoUOhQwbIABkgA2TAWwYodAi3t3CzReZPi4y+pC/JABlolgEKHQodCh0yQAbIABkgA94yQKFDuL2Fu1n1z/3YciQDZIAM+MMAhQ6FDoUOGSADZIAMkAFvGaDQIdzews0WmT8tMvqSviQDZKBZBih0KHQodMgAGSADZIAMeMsAhQ7h9hbuZtU/92PLkQyQATLgDwMUOhQ6FDpkgAyQATJABrxlgEKHcHsLN1tk/rTI6Ev6kgyQgWYZ+P+gHEmfyGzSPQAAAABJRU5ErkJggg==)"
      ]
    },
    {
      "cell_type": "markdown",
      "metadata": {
        "id": "dR5rd32qh67j"
      },
      "source": [
        "**Proposition**. An undirected graph containing a cycle of odd length is not bipartite.\n",
        "\n",
        "**Proof**. Clearly, it is not possible to color a cycle of odd length using two colors."
      ]
    },
    {
      "cell_type": "markdown",
      "metadata": {
        "id": "pwx-riSbUl-f"
      },
      "source": [
        "\n",
        "\n",
        "\n",
        "\n",
        "Breadth-first search can be used to check whether an indirected graph is bipartite or not. First, we observe some properties of a BFS tree.\n",
        "\n",
        "Suppose $T$ is the BFS tree constructed from a breadth-first search on an *undirected* graph $G$ starting from some node $s$.\n",
        "\n",
        "**Property**. For any nodes $u$ and $v$ such that level($u$) and level($v$) are defined, if there is an edge connecting nodes $u$ and $v$, then level($u$) and level($v$) either equal or differ by one.\n",
        "\n",
        "This property implies that there is no edge connecting two nodes whose levels differ by two or more.\n",
        "\n",
        "**Property**. For any nodes $v$ such that level($v$) > 0 , there must be some node $u$ such that level($u$) = level($v$) - 1 and there is an edge connecting $u$ and $v$.\n",
        "\n",
        "**Lemma**. There is a cycle of odd length from some node reachable from $s$ if and only if there is an edge connecting two nodes with the same level.\n",
        "\n",
        "**Proof**. See the picture below."
      ]
    },
    {
      "cell_type": "markdown",
      "metadata": {
        "id": "OUA5ddG3hVHk"
      },
      "source": [
        "![image.png](data:image/png;base64,iVBORw0KGgoAAAANSUhEUgAAAo8AAADdCAYAAADaSZiuAAAgAElEQVR4Ae2dXdBuRXXn39u5mWssK1VIMA4YjEBijEoOIYkKgyGJFYJYiF+jEKMRT8DEOEFFMMdYiRBUlITBeCAnVfgxwmE0dVT0EMAzYQTNjKJgzBAJw2ABMqS821O/B9brevvsj+5+9t69ej/r4qne33v36v/6r//q7r2frcee+FHjP7eBY8Ax4BhwDDgGHAOOAcdADAa2Yg7yYxxMjgHHgGPAMeAYcAw4BhwDYMDFo/e8es+zY8Ax4BhwDDgGHAOOgWgMuHh0sESDxTNOzzgdA44Bx4BjwDHgGHDx6OLRxaNjwDHgGHAMOAYcA46BaAy4eHSwRIPFs03PNh0DjgHHgGPAMeAYcPHo4tHFo2PAMeAYcAw4BhwDjoFoDLh4dLBEg8WzTc82HQOOAceAY8Ax4Bhw8eji0cWjY8Ax4BhwDDgGHAOOgWgMuHh0sESDxbNNzzYdA44Bx4BjwDHgGHDx6OLRxaNjwDHgGHAMOAYcA46BaAy4eHSwRIPFs03PNh0DjgHHgGPAMeAYcPHo4tHFo2PAMeAYcAw4BhwDjoFoDLh4dLBEg8WzTc82HQOOAceAY8Ax4Bhw8eji0cWjY8Ax4BhwDDgGHAOOgWgMuHh0sESDxbNNzzYdA44Bx4BjwDHgGHDx6OLRxaNjwDHgGHAMOAYcA46BaAy4eHSwRIPFs03PNh0DjgHHgGPAMeAYcPHo4tHFo2PAMeAYcAw4BhwDjoFoDLh4dLBEg8WzTc82HQOOAceAY8Ax4Bhw8eji0cWjY8Ax4BhwDDgGHAOOgWgMuHh0sESDxbNNzzYdA44Bx4BjwDHgGHDx6OLRxaNjwDHgGHAMOAYcA46BaAy4eHSwRIPFs03PNh0DjgHHwPIx8NAPHm3uf+DB5rvf+9+r3z/+z//V8GP9kR8+4TEj0A3Y5MH/+4Nte93znXtX9qJk+xJ9xsVjAIIlNrLXaflk723sbewYcAysiwGEztfuuqs5dOhQ7w9R9PCjjy9SFKXYENGILYbshfBemoh08eji0QwBeEabFvywl9sszWYpgcGPXYZtv//gQzt6z77+9W+sgj0i6Z/v/7770FMxkJ7GIRGk9//DnXeu7LqpfgL3Cpa0XfqWEZFLEd0uHl08zi4eycDu/e4/rbr1Q+fDuSCxTSWktnpDUthEhkJ0zwAE7r0AyxA5bW3v2/LblqFX7StdQV1E0CYmYvAKdgJn2KHLRn3b4XC5xtLxivDDZmCFIfw+u/TtI2mp3VYuHl08zgZiHO6b37onyuEgfXoManewdZ8fG8QEQIjKRWS+0Fi3nfx8W7ZHzPQF77Z9m8g5JOvYIpZj2uzGNoTnJiT9dHxIfde1GbGw5oTFxeMI4hGiIguRniEcEmciI5MsxYPLj5K7+HHSJXXzp2JAiKqLsNu2Sy9K6r38eFvix9sjvT3gYThY+LjNP2K2cY2ag3oKdkQ8xtgl5pilC0iS+Rg7xB6DRqgVay4e1xCPkFSM821yQCe7Qliv43TYb1N6IRGM2AwSXmdYBFzWSkopwc+PTRdZS7WZ5hg4IzaAtx1HUF/K3LS+9qaebfVfZ9uSBeQ6nNxl01oFpIvHTPGIcEwlKLq5EQd9zry0fV0Ok7OdeZJLs09Yn5zexi5bgk9wGt7D111wLREDYwf2TfCfLu5Yd/tSBeTYGBM71yggXTwmiEcCMQKGjHQdEG2CCJLgJM4xVsmQklx7iSUTqceyFdchAG5Kr+0S8eB1ihf663Byl88tXUB21XuM7UvsKJkCY2JrRpxq8ncXjwniUfcKQSrS6DlljZlGDrBzbDN0zpIF5FTktEQiz8GjnxMvxmqz1VS+A9cvdQrIENeusx+7LW3oH4G3jk2GzgXDtfidi8cE8Tg2OS09q4Vwh5wld/9Se2/HxpjYd+lYq4Vw/TmnE68klYL3scslJvuMpI1tp/B6zL1eEuZj3nEIbZC6XstUIxePBcUjoFpyUNc9takOFHP8EufVTCUesSdzbpfag7KkAOV1yROYUwf2pSWsU/OzcPgSvmkoPjk1xrBZLYmKi8fC4nHJQX1qclqi8J6anLi+EKGXeSLF7WbTblP7Dly9pPnDU/OziEeJcdyvdt8h5uh6TbXMfehIsJzsu3hMEI9knlOBhWyjdscKn38Oclqa3eYIgEvqCQgx5+s2hd0c7QIXTMXPcl2C+hJEEO0x9st5YqO+svbe2766TbEPTFudN+riMUE8Th3Ya3esMEBMOQSrHZW5TlYdLLTJ0PrUGMNuBMAlDvkP2db3L1tYak6Yehk/rZ1z5uLnsC1qfuExrMsc6/C1Ray5eDQkHgHiUrJaAvXc5MT9ahcIc5CR3IM5kLVMzq69Xf35pxeuguu5SoJ6zf4z5UjaUBvUOPoxx0hal93ogbQ2hO3iMUE8zjEsQkC3mGXkBL8S5MSnFKw5WYrtushjyu3eCzm9sEnBgB+b3h5w5pQ+0nXtmgXkHKMcXXZje23Cu6R4xF7WemxdPCaIxz5HGHtf7SKIAFiKnLhvjQEY0Ts2jmKv5wIyXbDUiLGlPnPJwI6ArDFhLcXPwkl0xtSExxJzRMVWUloamXTxaFQ8Apaas1pIoSQ51Th/tHQArK0noKbA4886rTjX/2stgXaoPHDgQHPDDTc0Bw8eXDtpqzFhHbJP137shd1uuummte1W0/D1OtOwsBe/LpvGbmdk0gqXuHiMFI8+LJJO/ojfWKeY4jhLWVqMw5cUj9i/tp6AGJv6Mel+W6PNYgM7gvHCCy9sjj322NXvnHPOaba2tppdu3Y1F1988VpCsqbe+9RRDgTjnj17VnbCXtgNm7F8/vnnZwujmnptU/9dZu/evSs7Cb7OOOOMlb0or7766uzYaAVnLh4jxWPJwF6Tg+nAM4UgTLmmpSxN26VrOTYAptgg9dglvHTUZV/fvlwhGTO/moBNIEckIiK1b9CLJqKSoK/3xS7XxNMp8QzbIBQRjKFtsCOiEjGOXWNtpY+rpfcxdiQNoY2gxmZgLuzZZhv7EJHhPm2XrmUrcc3FY6R4TBkWwcEgIpxNfjjWOt3WtQ2LMATaBf6u7ZAUdhKbUWLHkLC6zm/bXpMYShWPEM8VV1yxIiptM7aFwbHNNm3bagqALgaXKwZT23YosBOwEThDQ60iMHO5uha+iY1n2Au7wSltfCHb4BvEEHwt22JLK2JoCHOx9cEOMcIQW8Uc13ZfCx+rd/EYKR5jAjuOBhjIKnA2medAiSjCCQnyOdkGALIAmCEHk/0pmS32IFOT7FXbDTtKljZE/G1OVpMYGgqAun4IasETAU9sJokLPSz0COhzYpdrCYCCNS9dRPZ9CQNhgz/E8ocIzRyehm9qwGNMPIMviGexPIK94CS4KJZr5DjrsS12mB9bpQhC4l6O4GYIvTTOXDxGisehYRHJ0PocDedaJ9uoJUMD1LFvpmETnA0n6iNr7AoxxQYAISXKWoZF+gKgro8Etz6Sxk7YNYeYahLcpQnU729DuGr/CJfxgdQhVZL8od628D6ybmVOWh82Y+bvkYiSuEu9Ykq4Cd6JOVYfY0EM9dkrtjMkVTwT80hsckaKSn/Sz8VjpHjs6xUCANLbqB2iaxkyg5y69vdtr0UIDYltqSN2QDjKel8poqlPZLadX4vobnv2cBuCMVZEp+JS36sWnPURvu+zIeymboehKTL4S2pwRjjlcnQNL57FJKrEqRwBnSuGLH/uKKYzBG7OEc65di7N0S4eI8Vjn7PRK5ZCNBLUISgdsGOWaxFCfWJb6ilCKEUMIjT7enfl2mFJ5jh1EFvn+rFv86ckKdggx8acVwvO1rG5n7sMcdnXK4RoRDyGfDC0DifJ1A/4JvV37Seua/Zev8/sL6Y+Z555ZtYQNLEQQRRzD33Mx/7yGrP2+tBHPjJYH2JTag83OESgY68hTIb7SycpLh4jxWPYcHqdgJ4qBAFMbI+bvhfLNQyLID7C5w7XhWDC7X3rMj2g75i2fda+zh8Kl74AKPXJrTvZML22cp3Y0r/7uAxxFWJtaet98/dInlISe+0biMdN/sEb2E/bJGYZe2+i3dABiOEYG+lj1sFoyaFrF48R4rGvV0gyVA2GmGUy4mOOOWblnIAn5bd//83NnXd/w/Qvpj4nnXRSFjnRk3Dttdcm2exTn/60aXt94Uu3DNbnPe95T1aGCqHlZMQ1fmh9acLI6zMs4EkMuzgXnkXIdO3v2i7nxfBY2zE33niTWb45eNvtg1xDnc4+++wsfkY80jnSZpe+bZY5mmfre3b2veMd75iVn8FuyY4kF48R4rGvVwjQ5MxzoOE3MTsL69xF3n3bPbM9lBQMc+dv+dD1sHBxcVfeRn1TiuCR2DnCmnPoqc8dGZLrlOwV6sNlX0+tPDslCWdq0imdKSlTkfQ9LU4vin3TGi1A76OuT8wyOMsZGeLaJV80cvEYIR77nC13KJGGR0jpOR8pyx/92NVm54cwdyWmLtSfDD/GwfQxiHUZ8o65jxzzFx/6kFmbffDyywdtBslQF22LmOV1pkj40HV5cdQnBHzfjwb9AQGUOqcMEZAb0MUnS7/Q0IWNmPno8DI9j8961rN6v4IhdZUSfnrJS16SPI1LzifWdj13qe19nUfy3FKmTmGTHu5csV3y01AuHiPEY9+wCKDJEUH0BuX2WHLP0pNl+xw55U3r1LmiktmKs6aUlnvSYuqRixkR2jH3CI+xSOZ92PN9myV2h960JjiffvrpzVFHHRUtaBBA63Cz+FDJXqE+P0BwyDOGJfaCL2SE6JRTTokW3nSkIDblXEaI6I0L79G3jrDte/YS+/o6j8K6wNEIyBgxyDHgLKdDQN+3VILv4jFCPA5lajk9QusEdAGO1WGRIXvJ81900UXJk9npDXjFK14R5ZxyH12WcrQ+0hsKgPL8kE3qZ0fkHIhdrpNSWiTzPlv6vs0Sj8z56sIzXIG/IGbOPffcVTnUm0ggzxnmbnuGkr1CXX7QNQQLT0jdsZf0vIrAIV6x3FZPtiESsRv2ZVlPLeJcRGnXueH2rmcvtT3mm5i6DtQXUdjHuWLXMZKUUj3cLh4jxKMGRtvye9/73lXGFesg4mixx7fdk22lQDPkxH2ZLc8t2RkkdeSRR0Znpzgcme3RRx+9TW5dtunabtFmsX8VRp0YgoOYu+oXbk89Pjyf9aH29v2bJdgstXfbKAc8QUIvPWDSsyO8i//AQSKG4GFED4JpKOi3+UffNmvJatsQrBaNCEDWxTbUjWVshn2YAqPjFnZELIlw1LYQm+p20NfVx+pla/MeY74cop+fZWxIvbENuJP9CEqxN/ti7CHndpWlviTi4nFAPPb1CtHwQlInnHDCiniGwAB42hytCxh92y0Oi/S9mR5mpNjuqquuisr0sSvEfsEFF+wYVoHUtHP22Yt9Fm2WMiwidoB4huoKeYM1TfZD57Ttt0bmlsSLP0tZ4RyOcsAFiBwCN2XY+4P/IIDgDRE1lHAR/tKG/3W2WUtWNdeE4o5Esy9+IRSxE5witoOTEUN9HCNiiXM4F/v32dSazfqetW8fNsGmgkfqz3IoKPuuEbOv1HQsF48D4rGrV0iTlGSrgKJLGOKU4kRjkZTFYZE2e+FEIrJxoFDwYQ+2Y5828mI/dtWCiaCgAwDX7yMwcUKLNgsDoDxrV4mNwFxoRzle7I3NwuApx6SUPu+xrEBygdptfz3KAX/AI/zgijYuScH9GMdaS1bxZWIX/KFtFcOd69iDtkBIyT0RUYjRtmuW6klr87O+zqO2Zy+1re3Zp97m4nFAPOpMTYChSSrM1rRjEtzlh9MgcMYI5vIclNaGRbS9IAxIPIYwsIsITLEZJQIIousiGi3iuU/YHtpWsmxtrqgOgPKMMSU4hIT5ic1YxmYxdoi5B8f4vMdu8TI1Qfv1u20voxwIHxFDYL+LK2LxPuZxpXqF2nDzzW/f17zuda/f5mM4Y+x4NGQ7SWwlJvAMcLg+z9LLoG3D/PpZrSyXGB1y8TggHnWvUApJcSxOIb+psmBrXfzYi7oibCBySIIytreVc8VmlNgxxkEZCtH34/5d59E72kauJbZ1TWDveva27QQAbbO2Y9bZZrG3tkRb+T27hVwJ2xAwZVQCnkGIxPLFOv6Qem7p/2z+3v0PNH/6Z3++LRoR2vBFaj3GPJ77014iIulk0G1XAk9t96xFPJbQAS4eB8Sj9ApZJSlLXfw43yf2XneYiJtKOIdkJqJVCIleuDbRamkYthZystZb20b0vs2WuJuyPR58+JHmD//ondvioy9ZDHli7vUSvULYHhtd9bG/3LbRfzz9ZSt+nrv+ffeDn+Fp4WzaER63MqJWCz+X+DcwF4894pGACZD10Ks1krIyLHLr7V9tICchgZJzjshgdZuFQyOWhmFrIadSAXBKAeLXrlNs8teswjUIj7mHXvvEUNu+uXuFEI17r9/XnHDiiSs+pmQdvOuRtLZnLbWNuKpHjj67/2YTo0O18HOJmObisUc8fu3ub2xnRZZJqmQQhMh/74K3bYvGt7zlLTuGH0qREfftGhqxIrhpt1rIyVJvbUm8+73LCk5EkCSo773sfSZeihniuDl7hT5/4EvbwlpEI2JScGtVPGJDOmr0SzUkCMQXefYSpZ7DP9TOJfeXiGkuHjvEoyapkr1oMYAs0SvEPJo/fte7t4kcAYmjxzzv3McwgT4cGtGEWoKU5J61iEdr0yPEfl6WFXNz2R++edWrX7Pdk8ZIRy2BfY5eId0bi7hmjiM2C9tn6H/A5+bmtvsxcrT7939/R2zhZZ+wLnOs14Ix7DiHPfQ9XDwG4hFRIT1pzz3++NY5c22AL7ltzmER7KMnX5MdQuQCqpJ2GLq3fqmGtv30Z2/afm55/rnLtk8bDdWjxP45AuDctvf71SE86U2TIVi4WURRLYF9yl6hcORH26cN3yW4I+ee8E1Yty5B3FbPsbbVgjFsPPc8URePSjwigoSkyHK/+e17Tfakhc44x7AIojGcRwOph04aPpu19bahES1+w/pMvV4TOU1tC79+HWJurnaCc/Tohszbk/tvsu90jfyIbbpKa3zc9TxacA8NxXfVdYztNWFs7hFIF48tb6UJSdUCnKl7hXTm3zaPRjtpFxlY2/4/7vr6jsAkw+66LnMs14Ix2q/0J0fmaA+/hw0Bq4dhGd1oG7asyXfG6hUaGvkZwq81Hu57Hl2X2M4Lfc4YyzVhbM4RSGy78eIRUtJzaSAtAV0twNFZmjz7GCU9cvJWo8yjwYn7rt1HBpb2yRy+0kMjtWCMtps7s+3Dme+zIfKmaAc935yhyi7O2STfGUs8WeLgoWdpwxZ2CKdN6Zjdds4622rCGM+6Tl1Tz91o8cicN3lzj+GRkKRqAk5qw/cdHwoqbCPzjPrOk398GCIFC/vD3tpSQyM1YczF43IFW59fz7UPjtGJ/NB0kpp8Z51eIeKUTKcaGvkZaisL3Bv7DH18A1bk3QRiOMttvdND9hjaz99Lxj5v6ePmmL6m7bWR4hGRKHNpcMauFydqIqcxhkVy59EIoHD20g4Ue/+uv8CKmdcp9R2jrAljPOsYdfZruAgNMaCnxgy99CHn1hTYc3xHJ7SxIz9im7ZyjH+ziuXXMY7rE49SPzo6JOEQG8V0dMj5QyWdDGPUZY5rhB0iQ3Vbd//GiUfAJlncky/FdH8CoKbAHuNoXWBpGwoYyvrbrlWTeMSZ2+rANuwR/jPDVEMjNWEsJwB22di3u4AUX5NEnuAv881j8FFTYE/pFQpHfsZ6y7g2fk75G1kttNftndXYqwljLh7V28+6EcdY1oKA5XCYOrxHTYH9/gce7BRDYb1knfqP2dNWGzmJHbrKOYZGaiInenq6bOXbXQymYgCRJHOqu16K6btmTb4TE9jb+GbMpLU2fk5NVseOZ2CvJox1jab1+dA6+zai5xGnlK5tspLYXrUlD4voYaKxMrXayCl2qB8CF/yMPTRSEznFBMB1yMjP3RwBGvtSTB8mluI7xKc5XgKpjZ9TxaNgBRE5lj1rwljfaJrYZsxy8eJRiyTm0gz1Nmrj1gSc2GGRnDeotU36lmsjJ563rz7hvimGRmrCGM8a2sTXN0fwjdHWuYl8271r9x3pKSMh5UfvKxzTVtcxttXGz7niUWzV1pPLNtkfU84xV3HMe8TUaaxjFisecUw9l6brpZg+Q9ZOTrpu4Tya2Deo9TWGlnmjcExHmPpaqeKR+gvhy7zZdQm/Joz9w513JhHvEF58/2YJzzCRTw3kIV7A49QcMeb19fOH04VYT+nY0NeKXa6Nn2M7RIbq3zZyFGvrMdt/jmsN2WLM/YsUj7yyv85cGjFwTYGdZ5Xn1iUErUU0va9jzqPR96ppjiiOnDIhW9eTZchHD40wrJ1j1xr+a1aTXmgHX98sAZjT3viK5iCEUs51wnM0LmtY5vn16IW8IBQrZML6p67Xxs9dMS213nK8tn3sVK0acKWfUeo6R7k48TjGXBoxfM3iMRQ3iOnYuZ5S/9SyNnJad1gE+6w7NKIdv4blVEz48ZstLkmoJJEf+rpFKlZq8Bd5xhtuuGGyedOxdquNn8cWj9iJuKh7fftGjpgTL+1XSxmLhTGOW4x41EE85aWYPiPWOCwSOge2mHIejbZfbeQ0hniU+usgKS/VxPQo1EJK8pxSXy83WxTGtL9O5GO+bhFzTTmmlm8WIhrPOeec7T+jmOpj1mKXvrKmzhD4ZgrxKPYJO1faRo5qmyOKzaR+c5SLEI/0qMkcNECw7lwaMbwEzFpKPacotlte6jpGWRs5jSkexX6pbVALtuQ5pZ5eunjswgD8Cw+TRI2VyIf3sh7YDxw40Fx44YXbovGMM87ImtYS1nuddf7GVvy4hnJK8Sh2ZIobgh6s8mNZ9ENtnSG0qdRrjrJq8RhmD2PNpRHD1+BgPOPevXubXbt2bTsAc/Fier2knmOVLh6fFBTYPmZoxHoAbMP/WFjx6yxTfOrkiUA8FQ/xXds2fJbedvDgwebiiy/e5mJ4+eqrr149a0nM19JTq9tvDvEobdI2cnT3N/7RJMa0jcJlqc8cZbXikYxBslvmLeS8rNBn4BqcLRwSmeIN6j4bhftqG+afoudR24QMVr9UQzDVOOWFndD5ra/r+vnyMgVgTrsiEvVLMTlft0i5r7VeIUTjnj17mmOPPXYlHCmvuOKKHf6dUr+xj60xUS3xpwQ6+fnpn/7pVZvSttZ5WZ5vbNz0Xa9K8QgxSTczhDVFdmvZ2RgSOf/887dtwJwahGRfQ0+97+FHH6/GwcTRphaPYvNwaEREvrUAKHbpK6VOXrpwFAzoXhsSevAu+6YqLY1y0LOoRSMisk1wTGWLmOvWyDVz8XNoPxk5kjbVvcd93GhhX1iXKderEo80qsxPmPpFEIu9QhCSnkcDqBmyFtBOCZSha1sW22KfsJybnHSQJfm57LL3tQaZ8DktrQ/hwPdvlqic8qWYPixZGOUIpwvBzST2Xf7aV5+p99X0b2liv7n5WbcB8axt3iqdNPJ8Fktdh6mXqxGPBF79UszU2a2lTK1tSETm0WgATw2Wvutbspe2Sd9yKXKi51ywTHZLT0Xfc1ra14cB37c5wnGOl2K68FR6lCOcLsQoUJ9oFP/tqs8c22t7WQableJn2kN/UP2mm27a8cY8I30x7S3tPmc5B5bkHlWIRz7zIMPULMvDT1laGRaJHRIBoFPaY+jantmmCYd//T8Pr0Sj4LqWoZEhHPj+NBxYsRdfrPiLD32kedPvvrn5wz96Z3PtJ67rHH7W88KmfCmmyzbrjgoR+JmPSE8hQoAXXODZtqFmHfg5r226kD6mb7mrPlNvH2v+PvbBTtgLu2ELEl/EVV+9c/eVFI9t8YykAZ4WzgY/Q5jhHGyEvfixrEcLc23Tdt6cLxiBWdPiUb8UQ0+Nftlgaocrnam1DYkMAXVqm/Rdv7S92pxpaNs6/zDTZ4uYfRIACUh6KgIEY3loJKZufkw9AvIrt97e/Oqvvrj59V//9e3AJgLh5F/6pea833nTtoic+6WYLhzljnLAn+JrlAhICe4iCttGAUIfDacLDfEM+/knqa76TL1duCbmObuOwVaMkvDJIWyE3cAJdmQ7vIWdus7P2c7Q8dS26bp+Xzyj3jIfUkaOwtiMoMZWYEWSE2I6tmNbDoaGbLh48YggRAQOveSih/bmzm7HytRwJpwsBFYfCDgeR5TsJnZIhGt2OcLU28ceRhK7jU1God1LklMYAMN2h5RT6s/5/MI6jrkOoU6NJb/+fMLzI1d9rOGN0r6eEILdccc9p/nSV/5+sn+KSW3znFEhOJhgDp928TH+xjH8OIYf9ddCAeGQ41NzB3Zt05BrUp8fLkLsdPELdkIgYacxeyFL8XNM/A+xgX0EG5TE7/Bte213EaByjt6Xuzw3xmbpeUQsvv0P37Ey6CmnnNK89rWvXS2/+MUvWQ2PaCFpIbtdJ1ODgCQbw5lECAIuHAzQtYGD8yT7BXg5PVCaMOZcXsdeYgtxRuwk9cd+/FKFlFxzqCxFTrRNVwAMe5wJXl2Y4ViNL4IetqMck5TEjnOT05wY3rR70eOIcIwJ9mDpp37qWStsjf1PMTl2z3lZBp+ARwTLXSW+xrHnnnvuDtHY54dd19LbS/pO2xCsfra+ZeqNPbo4SJ8rgijmWH1e13Ipfua+Xc8Ubpd4D+/ye/nLX74qY/gX3yO+9SVv4f361uce5p9cPDKPRr6XhKF15THaq171qtWwifRITvU/qCkklZupARgAhEgM6wpQRFRqsOBobBfwIZ70fm2vvuWSwyK59pL6iBMhnsNghh0hMOxDKeeMUfLfpSm4GPPYoQAow0TUG4LRWSyYwVaS7YZkDQ4h/FjSj7VlyQA4pu03/Vok6M95zs909iS14QFOe+cfX1zMX6TNcv5vWPyhrV5t2/CnZz3rSbHcly3OiCYAACAASURBVPC3ndu17Z7v3FvMdrn8DPfCPyEnd9WR7fASNus7JnaftPncZYp4lLpgIxL55z3veUlxilgPj8t11ikXJR7ft+dPV3NpQiEVGujJQPnsbQFV6h9SBKRdvULhc+t1CIogP+RoIjCvv/760YZEeI6SgT3HXmI77AVBYRfZ1lZyXCii2o5L2SbtPXcZGwAJYhAx9uEniUWsMCQpGVNA0oMxt638fuMPY/PCC3McU3wFLIJB+eu2Uu2SE9jxgSF+CW1BohrTUxme17U+d2DX7ZMrHonLqTYg1sPTXXZI2a7rMOdyDsaol9Q9TOaH6iy8PnTc0P65MTZZzyNv79HjGGtInPX0X/u1hvPmBErbvYZ6hcJGTM3QILIjjzxyRcY4GnWPtVN4b1mvVTziOLpXTerTVoqAHBLobee2bWtr+zm2pZIT+JIpDeAlRRByXmoAaLMV2+YmpznaYhPvcdmf7EnqHRE8MEpUmp9TfYdnR/RKHWJLOGasHiHuWdJ3csUjPWk5o2DYrWt+ZKz9Oa6Ub+ZgjOclrsO3KXXkWOI/v9TzwuOZPjanzSYTj684+5XJ2R5v95Ump9heId1wBOfUrnoc83Wve93aolGeo+SwSG7PI86GHaQOMSVOluOg4bVJEOZ0NH2vXHKCkI8++ugkYpYeIwRoaIPU9ZIBUNvPl9frjeRzPDnBHd+TaUXSG15DSbKVinWOr6FuUz4jdsvBCZyec55uo5KdIbn8nCsCEeipcVDbSpZ57jm5cRLxyNDGcccdl+yw9EAx1D2nAcJ75QCH3qDU4DwWYAQ4JQN7rnjEYVKHk6SXV+qdW9ZIThByTiAkuYnt3e2zJx/ODf3F19cTciXslyseSZDfeP7vrP7liy9glPjx7PBG7A9/ye1BRJjF3mfoOJ67hL245xveeF5WPXj5I0cEYouc8zT31MjPueIxt8dS24vlRYhH3q5miCOs3NA6gHv1a17T8JdXpX7XXPvx7W5kAUNf+a53vStrjof0CPVdO2XfR676aDGbffDyy5NsJvViUnqq6AZDYwyL1EpOqT3c2Ctn7lKbr85NTiWE1Sbck5cY8cG2Nu7bxjzJOb+129YWOck9IjB1WhCxKFd0ttmwpO/kDlszwpOa3FN37Lbu1KIa+TlnJA17wek5/hjibO4XQCfpeYRgyD7Cyg2t47C/fdYrqhsuyKkrtphyyKGWaw9hom2/Z7aHknwLv8rFqLZ/yQDYJiR8W16vJ1ODmCKk23ZoWXr89WfVStg/RzyC/VQRlDMVqc+Gcwd23Ta54pGkM5U34JoXvOAFSdhqs1uN4nH//v2rmJ6aqIwhtrGhbvM5licTj7k9j69/wxtX2S0CtMTvtjsOrbrccYKY37XXXrsCTJsD9G0TMo65R8wxPHcJe3HP/ftvjrJVWI+TTjopK0Mdw9lKDvPnBECwRHaa8/IL5+X0WIb4dfGYJ9bmIPLUe/CvMilTGeiFOv9Nvzt7gArrleM78jmU2KBOrxnJd86oSOgzsh7WY871XPGIvZiSBW9LPYZKxKa81JdyXnjde7/7T8WwloMxkhPiEjEthaPxwZypSKG9WJ8TU9xrEvFIdpozVECAY0hlbiPo++UAJ0fM5HZxt4GGbSUDO1li13P1bScgpQQwrgWhQ059143ZV6N4hIzBWkz99DG5w0/6GizzzwvaV3y5XjFJ0hf7kXCSj5/7ueetOJ05dCU/15PDz2AXH0DYDAlI9hPMxxhG1P5T0ldyxSPPj/CGb2OGoRFNp5566srOMvKFzXNEeEl+TnlpFk6mjlLfCy64YGUv6ek++IUDzYFPfXLH75ab9684nGM4L8a2Gktdy3NjbBLxSCX4R5kUB8RpITM+Fj63EfT9csgJ0ZuSbdD4iAABWBcYUrbXKB6pf6oYws6Q+zpZLXYtSU45GOOZsdeJJ56Y9PkM6eEeCpoxWNN+4sv1Ckdpu8/93ZMfgYan2/ABdhBdfFD8jkN3Nq969WtWwe6EE08s9lWMXN+hfgT5Pu7AvxBKqVxu3XfWEY/CO9ilK9EHJ2JbwZEkuiKqsKnsi7FXSX7GP4aeUXxD6kf9RQRSYi9857rLLmk+8Nyf3PG7+j+9eqWNOGZMDSB+PVc5mXhEBMZmtjQU4Np18i+tXvqYq/Jt98khJ5wiBQiQ9Vhd1QLytrrMtS2355Fnxw6xQ6oQ0jOf+cztLA/nxInFBillSXJKxZgm4qOOOmoluGOImGOwb0oS12fDufDk95lPmMLT5/3Om1ZcjT+BFX5MOyIw8vULPc+RFxklYJb4M4dU3wnxTN3gauEd1lexZ9eulV/R0xaeM8Z6SUyvKx6pPxyEzbAd9hKcyDY4vI2TRJCDGc7lvLbjQhuX5GfaKnweWefZqav4AJ0f2Eb2S8lx2OncZxyxQzgiJN/xM89ciW0Rm3LOuuXcGJtMPFIRMlsEZJtxxVBi5DN/+6zmucefsGqUkkMjueQE6QCooUxCyKt24GigriMeEX+QypCAlOET7KvFFDbvIi7BWFtplZz0s4IRPSTCMvaClCDtPgzhVxzDT19znWXd5r48n8Cbw9YMRfPPM/KVC16q0aJRPwND3vK9R8o5R4ty+TnEPRwiAoiyz5fCc3PWtf3mXh5DPEqdsRM9kGI7eBmukf1tJfsl7sHXMaNuFvlZ14GYNRTrscXfvv9PDhOPH31t+svEbXbV20p8t3hS8YiTICCPO+45q4CnszqCICDkrT8mYkNUEBjCEYCVGhpZh5wgJEBFkNdORV0BGk4zFPQ1IFKW5yYkfb91xCN1hJCwi5AK9mI7pIMdsSd21fhhPzZlO3ihxLljbUY76zrMvdz3nCIQqRc/bBMmYNSVfQhJvQ9bCsmxb4jY+54j3De3jfx+dgUqfE3Po2AU0TlHe63DzyGe51r/2l13zWKbLvuPKR7XsVkMr8n1LYlHid2Cdfg1llc/+ecfOEw8/tV5r4uOU2KPoZIY3NX+U22fXDzy4IjCaz9xXXPWK378GR7m0TAvsu0fZUoOjaxLToAKUax7jAAdQ0IxmcoQSLr2TwWQmOuuKx6lTtgHO4kgxG4IJ+zZ5axsFyHF8SJA5ZpdpUXxKHWR+g/VBTKm15XjhNhYDgVllw1St8dgwY+xK/imaBv4m0Qf/M0xYrQuP6difozjSwR23dZWxKPYkgRXx0eWpcNAjrn/gQdnF0PaZjwHSbl+Tng1fE553q7SxeMT8xOiHhphovZcQyM1khPA1cCfe3ks8djlgDHbw6wWp9c9cuE1rIlHnd1KL2qXYA7rMsd66d6TuTHt94vn/DlHjGrkZxeP7d+lhZ914qtHSkryM3imE0MS8qFY0se/Lh4LiEfIm6GRP37Xu7cb8dOfvWlykVQjOZWY76CDqwXxKA4cZouQQFu2WJKcsJ1+XnpXhag0gcoxFsrSAVDjzZfjhd2ctppjxKhGfi7tO9Z6HkM+I3GW0RZJnEvwM3rjqo/95TYXI2zDqVLhsw+tu3gsJB6F+JjIrYdGaGTZN3bp5JQemCyJR3FmnF5nteE8lRLkpLGKoNVDIiy3iVypT+mydADUtvPldB+dy2aMEE35Mo3zc3rbWxePcFs4Zeelp562eoFrLtyS+IjGoGSq1Bic6+KxsHgEQJDSHN8Zc3JKJyeL4lEcHxLQWa2QQinxGL5ogMDtG16XepQuXTym+8Vcgc/afUKMj/0yTWlfSL1/ad+pQTyKTcPpR8yjZQrbVBinY0qSHUZ/wCr4ledZt5xLPH7zW/dMZqMu28/ywkzXzXO2625llnOu0XeOi8f0IGlZPOL8ktXK0DCC7Su33j46dnpx9fAjK2KS7BZBO+ULVOuSXnh+6QDYZ1vfl+6zc9hsqpdpQmxaXy8R2HX71iQepS2/dvc3tr+8Am8zfY25iLpe6ywjSOXLLlyfLwfo68tzrFvOJR5p43XskXNudeKRStLwEoTHfpnm4UcfHy3rWBd4seeXDuzWxaPYkaxWT4SeOqsVh9TZLbglu7X0MozYp68sjTGxpZc2hWJXu0zxMk0fTi3uKxHYdXvUKB6Jw9RBvziLyKPDaJ1pa+BRv0fRFQPGwpGLRwPD1toZWAZAAgIC8pgv04wFnLmuUzqw1yIepT0YJu7LOkOs5a73ZbfyLLWU93zn3tkz21y7+3n2BCYJk/T8r/vPNLX4jDyni8f2t63FPm1l6MPEd+kwkgQ8PKZvHb2gRy0Zqm77TKBco+2Zcra5eDQoHqWRAZWQEmJynaxErpkDkpLnlB4WqU080la0te4RBEMy30VwkFu2Zbfhp6ZK4iXn3qUDYG5b+Hl2hORYL9Pk4LfkOaV9p8aexza/JbbrJAQBCIe3Hau3hcIzpqNpLLy4eDQsHgGJfpkGQNHjo8GTujwWcOa6TmlyqlU8Ci4gJJ3VxhCSnKvLtuy2C4tzYWOs+5TGmLazL9sRhKltgY+s+880Y2F6ruuU9p2liEfBGsm5xlDX0DM9i20vw8h1+sqxsOHi0bh4BARh4EYQ9IGjb99YwJnrOqXJqXbx2Iaf1CQkFKBD2e1c2BjrPqUx1uevvq8+MbnOyzRjYXqu65T2naWJR/H3cFqQvFQTbg9fhpHz+8qxsDGXePz+gw9l650+O/Ttq/KFmb4KaVLiZRqylL7j2/aNBZy5rlOanGoTjzxvW7uzLWbIWZ+bO/Q9FzbGuk9pjGmb+3J9YrGtzfA1mXtMz3/fHDR9/liYnus6JQK7tldt4jH1Ty/CHkaZxtbVI6lt07U8FjbmEo8lPj23OPEIGEJSSh2GHAs4c12ndGBfkngUMiF7le+KQkZh9rpudjsXNsa6T2mMSbt4uQzhqNtRz2OLmbc+Fqbnuk6JwK7tW5t47Evudb1kOZwLCV8fc8yxq/mRckxqORY2XDxWMGzdBg5NSgR/QNZ2XLhtLODMdZ3SgX2J4lEwoXsW6R3hjb3L9rx/+yWt3Ox2LmyMdZ/SAVDaw8vliUfaNHyZhuSsq63HwvRc1yntO0sWj+HLMNdc+9dZL9WEWBsLGy4eKxWPbaQUvvUagob1sYAz13VKD4ssWTyCB5IOSOmoo35yWzS+4AUvjB5mWwLGSgfANhv6tmUJSfxMvwjRNW99Ll4d6z6lfWeJ4jEcqg6//8joo8ZSapI/Vtu7eKxYPErwl29CyidZ+gLPWMCZ6zqlyWnp4lFntz/xEz+xLSAZ1u7rIXGMLUvc9LWn7xuvrYfmrc/Fq2PdpzQ/L0k8htOF5CWZLv8Ljw+nH3WdN1bbzyUeu+ox5fZFznnsMhhDkPJJFjKRrmHssYAz13VKk1Nt4jF2mL8ru9VzaklGwBLbunDXtn0ubIx1n9IYa7OhbxtPsFmzpfYxOFvPWx8L03Nd55EfPpHEDWO3RW3i8d7v/tNh9lq3JzHkcnq1u+I/9h8LGy4eK+951M4ICOVFiK43/MYCzlzXKR3Ycfa56jrGfYbEY5itdmW3HCdYkpdq+ghJ43CMesx5jYd+8OhhhK7r48vLFXIl21bPW5eXaebE/Rj3Kmk/7l2beNTTsOBTjYHYD4N32VyPIhH/uz6pNka7c405xGOpPwnZqJ5HDSgNyHC+xFjAmes6pcVjbeTUJR5zs1vdow0hDWW14HAubIx1H+07vuxCcU4MhC/T8PeiY+F66ut87a67iiddtfGzYCsUevCq7FunbBOk9Ezqa46FiznE4z/f//0dz67rMeXyxopHjErPEcGeXiN6kORlmrGAM9d1fFgk7b9TdWYLDoRMBAs52W3qNebCxhj3sRAApyRBv7Z9MYx/6Rcg9uzZU4WAtPCf8DWJR3rRwiHmsHNnLH+ls0C/C6FfqhmDN7nGHOLx4Ucfd/E4FihSrgMpCYCkG3ss4Mx1nZT6TnFsTeREm2ix3dZruI6Nwt7Lrpdq5sLGGPexEADXaRM/1744jG0jhMWxxx67SvjPOOOM5sCBA6ZFZJioxtZzzONq4eebbrqpecMbz9t+IbFrutCYtuFa4TQlkpSxcDW1eCyZ2G90z6MGoe4iP//885uDBw+aJiURBalf49d1Hmu5FnLCZrzcI4Sh//d07OyWXmwyWXq1+YVEKO1XQ2khAI6FVb9O/UKSwH7OOees/AohefXVV5vlap2olsKedX6mPS+88MJtrtQ9gHPajI4EHRPo3V5XB0wtHkvNd6RdXDyql4EI+PICBKRUw9waC71C1slJC7Q7Dv3DDlGX86Z0CqGR1WpCEpGqn8n6soUAmGJzP7Z+gdjXhuIvBHdJziwm/F//eveHzvvqN/Y+q/yMMKMNpSd5165dO96qH9sOsddjbqU8E+UVV1yRnZxMLR5LzXfEli4elXjEIAxjX3zxxdukxLKQlcXSQq+QVXLS7RVmt13DybEEk3pcODxey5wtKwEw1d5+/HIFpPZrhjoRHYhISksJf9snZ0rg0iI/01usBRp8aIlrELZaB4CtvXv3JmuBqcVjyZdlXTwG4hHnhpwAioDb8twaC71CFslJAkyY3ea8DDMW4ctLNdJbAiFZHnLDhlYC4Fht4NepX1SKb0uJj+thTyuJ2f0PPFjkRYYQ45b4GXEvYh8eRKDRfrSlhVE0sZ1gi04HerWFs5kukZKgTC0e5XlLlC4eO8Qj4AHUlufWWMnULJGTOD0lwkyIikTgg5df3vth2LkckJdqdLBLJSRdx6mXrQTAudrG72NfXHZhPjXhRxggBES8dF03d7uVb6OOzc/YC7vR6xtrG46VWIoQYxn76/N5Tiv+p5+LZeqrnx/+Dp8/PIf1KcVjyZdlaCcXjz3iUcDAnAfJPCzNrbHSKzQ2OYndc0scnd5iaTMcHcKzYi8cj7qFhAS2Yggp1y4551kJgFaCij9HeXHZh2P8R4I8CWPYs89++IB9/ORYkkzdC9Z3j9h9VrAyBj/Dn/ToSjKO3WQZ3oLL2uwi9hYuhpe7ji05BBu2VVtd2KY7JKgTNulKPkhmLjr1V5sPPPcnd/wu/oXjD8Nl1/36tsvLn+Gzz7Xu4jFCPNKA4dyalKyrDwDr7LPSKzQGOa1jBzlXBw4cG4Jjm+y3Yi+cW56JEpIRIh4iJH3eHMtzEZHfp7woq6UNYnBPUBfBIgk/gZ9tiETNC1wPPhdRiT/G3KPvmNKBXbfluvwssQ8+DW2DHbE1Qhy7ik1EbLIdm8NvoZCXY6Us9b1CbStZlmfqKqXO1I066pdqqDuYo85XvvXNO4QjQvKDv3XGah9Cukt4dt1Xb6dd5XlLlC4eI8UjjUZDQzBCSgBIN6ZexsnYL7+ubEufk7pspVdoXXLS9YaoxGaUIVnpY2U5bBects3e1jNbCEjINiQkqWtYQt6QstiM5TAwhufErlsKgCXI0e9pU9DG4ldED3z9G7/xGyvfYlvf+SIw2/ij77xwn6X5e+vwM/aK4SI4BzFEfMSGmsfgphiRZMnfwvZsW6dOCGbRAxJ3sIMIwwOf+uRq6Jrha/nt/y/XrDCIreS4tusPbSv5pjVt5eIxQTxKYyJoxDnC3i0chX2AAmCxDkgAFr8YMST3GSqtONs65CR1xC5iI+yF3bAfdsSerMuxUuK8Ym/JACEu2R+WVuzFc4TPJutSJ01IbZjhOOzEcWAQO/Aj48VebBsKlHLPrrLkN8QstZU/iy0R2YXXtu34yUUXXbTyk1h/EPHDuW3XjNlWuldIY3YdfoZ/27i3zQbY65hjjmmOPvrolb3hp1gbWpm/L3Zrq1/XNoQzvCsxKEUQch526rp23/bSnSEuHjPEIw0qmZYA5pprrlkFbIDTlbWK6MwFiwaSpV6hdciJOmEPBE+X8MOe2FU7JcciNsX+EFwfUVn4mLoQE6Vuy7ZlTUgiEAVX0hvQRc7YAXv02bTtnuE2SwFQ286XbYm5udsjxOnQOn6ih1SHjmc/yZceiow5Rx9j4RNq0i65/CwJva7X0DK8fPLJJyePfliKZ9htqJ5t++FnhLPwdNsx4Ta4Gn6H78N9Q+ulh/ldPGaKR2lYgjSN//M///M7xI3sD0vAggiKzebC82V9KcMi2AER2Cf8pM4EgTPPPHNF7NicH9tiHK9WcoKICGRS3ze/+c3RohDy57zYHhexs5SWAqAEQi83WzjmBHaSqBiOENxT4jv4nd6Wsly6V0j7CXO9U55djoVbcwQ0nJNqb0svM+ZgDJvB1cR2sV9smWtn3cYlll08rikeAcgHPvCB5qSTTooSQByPY+U4mAajpV6h3MxW7BArbhCY2PnII49cEXvsedjNktjOISfpaaX+DHVoLPQtQ/45hMY1LQXAEuTo97QpVPvwHu6DYxCP4fahdekRIrnN+fEvJVZ+11z78aw6kKin9KKJTRHdqedZimc5/EzdwUlqDzfnwdEISLFfTGlhJM3F4wjikWDeNeTaBQRAlgoYfS1LvUK54jHHBtj59NNPT3I07LYEchKxHdNLq7FCz26K0JZzLXyA3gWcTQFXsl0EnzGl9NzHHBseI739m1qSdKaKQGyYIx4txbN1xCMCMsTR0HoORi2MpLl4HEE8Qi6pAR3AENSHgNW131KvUK54hGQYHuqqY9f2HHtb+kxPLjkhnHOG0hDpOaRWUiD4vV00dmGgixfatkvC1bavb5ucB0+n/vbvv7nhP+2t/G6748kh1dR6nH322bOJR0vxLJef4dicDqGcHksXjy3CrYsw5tzeRyrhPnp0ckUgIggxkPP7vQve1lj5veGN52XVIUcEYn/sBRGGbdG3vhRyyhGBiM6UoW7saO3txzn93+9lW7j2+XnbPoatU3vec3xG7m0hsGsMw33ybCklSSe/lHNkuD+1M6X0yx/aXiyn1FmOJSblaIGckUsLI2ne89giYAUMMSWAyZ1Thnja9F+MjcNjcsSjlW9iCkmFdYpZRzjmiMecyf/WAqDYzUvbwm6O9onxFX1MzvQYRAACUl8ndtnayx+54pHYhvBOEYLwU2qiil3nwE3KPWLbOjwO3KSMppHU5HSiuHhsEW4pDTzVsSEghtZp/KFjwv3r9Fha6xXKHbbOnVODvRlWCm3atz4VVnKv2/esXftye0NyRKe1F4xy7eznLU9sdvlH13bEDyIoVgziL7kdAjyDhcCucZ8rHqkLQjB2KJaYltPLy33081pY7sLS0HaEIwIyRnBzDDjL6RCwMEfUex5bBOwQQML9ACCWmORcABPrlHKOlNZ6hXLFI/VPHRYR5xRbxJYWCEk/Q+xz6+MQzKk9AZyfmg1zjrUAqG3ny8sThCltqn0idhneIOkc4ml4OVcAybOU/ueP0JbriEcROHB1nyCSXsoh+4qNdGktnmE//Xypy9gKTdA3VULsmpuk0KZhO8+97uJxBPGIw6SAAOBAUDhcKjA53lqvUK54FDGU0ovIkHVqprYkckqtP9hEPKbizMXjZgu0uQNRyv1SsSzHi8DBhxCTIobgH/GToaAv1+orLQR2bc91xCP1xE7YDB7hszKar7EjYol4liMcuf6S+FlwQYwiWcE2Os4jKCVBGRLkcq220sIcURePI4hHGhfSAQxtDa23ScYRc6w+Ty9bC+y54pE60fOI7YTIdT3DZWyWItLl/CWRkwwNxRC1HAvBiy1iS2sBUAdDX95sYRuL4bbj4BkEEGKI4C6/nJcW2q7PNmu+s654lHrCI9gJoSh2g48RQzH8LdcJS2tzROEXYkb4nKnriGziG6Jb7MUycUwLytTrWvjGIzZy8TiSeBRRiHPpzEwDg+04W6xY0ufqZWvDIuuIR+olorCrmx/bYlccr8u22j7hsrWeWhwvfMaUdYQjZEQQ7DqPY9bpDbAWAF0wbrZg1O3fhXkr2/WzWlgeSzxOZV+LXDOGeJzKXt/81j3Fh6zBtYvHkcQjQEHkIIQI7JQEdzIMMjPED9tZXhdU1pxtXfGIPaQrX4ZlsRv2w46IIMrc7NZaTy2O97W77loLBwhtkhAENdktYpGeAezINn45PY6CTf9AuIs1C8Kn7RkEoxZL/LrtmUtusywerfSihe1jWTxa+Waxi8cRxaOQGb1jInwQQxLcc8WPXFfKJYpH6oZ9EEHYC7uJAM/pbRRbUVp4M20qckJESnIiwnsd0Yi9LAbA0H6+vrniVvu2tWWLQ7CWxaPFKUVwi2XxaGG+IzZy8TiBeJya0KwFzjF6Hqe0mTV7WScniwHQYhv6M5URsFNyxbrXtpioWhaPFkeFLPOzpZ5aF4+ViUeLvUKWxaOV+SGh0LCc2VoMgKH9fL2McLNgd8u+Y3G6h2XxaG0UTfBtFWM8lzxj6dLFY2Xi0WKvkGXx6JntoeS5lRYDYGmi9PvbEatWA7u1P28QzFoWj1aGYMVWUlrFmKV45uKxRTzSNbzu8MVU51vsFbIsHj2zTROPFnu2hdC9tCPgSraF1cBu8asOtJNl8VgSR333tooxKy/LYDsXjy3i0SpwEKQWe4Usi0eL9sLxrGLM6jB/H9H7vs0SlVZ9x1KvkPYJq+LRak+tZX621Bni4rEi8WjV2ayKR0uTizWZWyYnqwEwtJ+vb5Zg1O1tVTxaHBXCbnni8cZmz2lPb7ZO29PcfCht9CJ21I121O1qaTkLYzfvaU7benpz2p4bJxu5tDTM7+KxIvFotVcoj5ymISRNXIsjp4lIXNvMagC0FFj8WcoK1+jAPkMw175jqVdIYzSPn6cXjxbn74vdojGmOXkGvMnzWShdPFYkHq32ClklJ6tzkHD8ZHKagZgIhFYDoAWy9GcoKxrF/tG+M5PPiICU57NWWuVnq/GM9ovGmItHG6RgxenigDN9ZiakJKXVXiEnp3T/icOY6p2dKRBanSNqhRv8OdKxPrbNon1nJp8Rfh67nmNdj6FOecb4cvr45uJR8bsWoR3L4H4sTIxxHe95zO55nN65Qke32itkVTxa+w9w7bDRAVCIZKZAqJ/Rl8sLJW+Dw9sg2ndm8hl42vpXCsJYMrw+fXyzGs/wuWiMCT9TTow3kDaYWwAAEFxJREFUF48tYs0aQcYBZ3rnCh3cmp3keayKx0WR08TEBNYsv2AkWPPycDG1aTaJ4+fpg7nmZ2uBPcSEfta45enj26L42cWjExNOF0dO0ztX6OQhIVhZd/GY7jdxGFPDGjOIR+sB0Are/TnS8T6mzaJ9p9dnbm0+s+eVzQlP/9nmLR//csawrvLNQ4dWMWPMOo59rTCWDK93x7c7brikeekJz29++dQXNsc+77zmQzffmmW/TRKPt1+3uzn+hFOaU1/4nOa4l7+3ueHgV5NtZm0Ovw9bt/SExpFTt3MNO+ZO4ok53vKwiIvH9GAahzGFk95AqI7TwyiJyy4e09tx7CDv1xtug2jfGfQZOPyFo4hHq1/CEDzFxJidx/TEty9/vvlvX76jOXToK80N73xp89y3/01zRyLXcK+HfvCoqTl8YitK3gTfaY8Iju3B221f/GLzZWz01U817961q9l9XXrCYm2OqIvHSsSj5cA+tngcK7PVZGBtOToACin3ENOh2/c2u4//2Sd7Ao47q3nvDenEBFFaxpi19vPnGRZ5U9ko2nf6fGblV+OJR2uBPbR9shA61CMehZMOfbn527e/pDn53Z/MEo/hM1papz2TbTaIt0PNodv+pnn7L5zZ7Nl/W/L1rWHMxeMk4nHcIRHrgX1s8XhopMzWEhmFzxIdAIWo+4jpti81X1j1BPx985l3n9o8a/fe5nY5L6G0/N210H6+Xk68lbZ9tO/0+czKL1w8dgukp8Tj1lazteP3m82em29vDh26o7ll38XNy3a9pfmrA6xH9MwFx5TGUd/988VjaK+tpz60/oXmuvee35z5i89tnr/7r5uvBLaIsZ+Lxxax1teIJfbFkdNQZjYeMQEsy8Mio4vHbcfyzHabVAYDIeSNvU5rXrbns81Xt20YT+rWyKmE7/s97YtSuHDbL/pwvvKZrmCOX4zH0dZ9J8pefbYM9t128+XNuS8+P3u+I89j2deyxGNgo8Ntfkfz5c9e1ex+8Uub3Xu/FIdhdU1L/2tN23nPY4uYtSgeLZPTWuJxR1YL0Y+T2Vp/cziZnHoD4R3NLddd2rz+zJObY5//+83er6RPxoboLGPMcqDxZ5tXcCb7jgrAOwP6eOLR8mfBwOfOescnlK3nfeWvm93PP7V5+75bsq9reQ4/9hoPY6GtP998+NwXNGdd8blk2xFnLXGNi8d1xWOn+BmPmKwH9jzxGDrVzvV1M1sSAEuOFj7LJOT05f/afHT3y5pfWMiwSGgzX59XpFm193i+Mx5HWwvsYdu1isBOUb2Ti3eee0dz4IpXNv/+3/2H5oWnntacdtrpzW9dekPynMfN4ufbm8//2dnNsS98yVNvW7+n2XcLLxz12fnwfdYw5uKxRTxGD4v0Nv54xLRx4nGEzHazyEmI5o7mix9+TfP0s65oDvRiU47fWVr9B6MwEPr6ZovI8cTjTvynBnN9vLXAHvqIflYLy5vJz+vhzdrb6S4eW8TjOOQ0rnjcnGERz2yTyf3zf9a8/NgXNqfy3bXjzmzeve+LyVkt97QeAMOA6OubKSLH4ef1Annoo9Z9h2k84TOXXLf2zcKQSyxiLHzG0usuHisRj9bJqSQRtd3bySk9OFrHWGmy9PvbEKsWA7v1/4Snp6+NJ0ttow0t+5NFjFmzl4vHycRjevDuc2Trgb3v2Uvsc3JKx9/Djz5umtCtkac/Txkx6YE93e7WxKP1kTRrGPv6179hjptdPLp4HAWUJQRi3z1dPKaLRxdD6UHZbTa/zawFdutfdgCj1sSj9c4Q5n/3xZe591mcI+risRLxaH1YZG5nGrqfdXKyFgCxpwuh+YWQ2zzd5tZ8x2JgD3FlTTxae/kjtBfxYyjGzLnf4h84uHisRDyG4La2PqcjxdzLxWNaz2MNAdAa5v150oXfGDazJh4t/4GD2NuaeJTnslpaE48Wh/ldPFYgHmsYFokRdHMeY72n1ho51RAArQYaf655RaS1IUXErHUMWBKPNSSq1vjZYk+ti8cKxGMNzjanMBy6Vw1i2xo51RAArQdof755RKQ136nh+6iWxKPFXrTQdy1hzOq/8bh4rEA81tArNCTo5txfg9i2RE60TQ0BMCR4X59HrFmzszXfqeErBeP88UXaVJguzq/BXpYwZnG+I5zg4rFFPPqwSHpQspTZWnU2HYQtkRMkXwOha/v5crqPLsVmlnzH4idU2trZyjxR69/fFdtZwphVbnbx2CIeLQGnll4hS+LR4vwQISUpLWGslgAotvNyc4UjbW/Jd+5/4EHz8x2xGc/Z1RM413amE1kVQm2cwvPOZZuu+1juCHHxWIF4rMHhrIjHWoSQB8DNFkBtwcq3xWHCiu8gLqy/mKcxRa9fl0iZY3stQltsVnoE0novrYtH4+KxFjFkRTzWQlD0js5B2EP3qC0ACrF7GSe0lmonXiIYwvbU+2ucJ8zw9dw9aoigGjpA2nwFniYGT40lfX3uV0Mcc/FoXDzW8GYaTmdhWAQB20YAVrfNTUqaoGS5xgBotT39ueYTtAT1uUWQ+AxlDcG9C48IOYZDp7IfvMb1l8QttPdUfE078EIT96hJZLt4NCweAVVNwyIQhibYOZdxvppsBbHzvFMR0pDtwVbNAbArMPr2+QRcaVvjP3MOxdLbCcfVFOCH2giBhw1JvGN/9F7qHzzCVIIa5poP2WNoP21P3WNtxXHYV9uLZezFr7aYpe3j4rFFPGIgC8MitfQ6akDhEHMJIgQQjsk99TPUtgyZUJchwTfGftoGXNVMWrW1rz/vtIKWgA4PjO1D+ApJKf6yCcLIcTotTpdmXxePHeKx9LAIGW7NYEPQjf1tMbK4pZI5Yo4gNWbSwrWwGViid8AFoweHmjkl5tnpSQt7eYbWpecMzuLnfuJ+EoO1TT/GxWOHeAQYZLRjC6C+3qOl9KRpp4KIIeeQwBFKQtZ95ZKGiLRd+pZJXLBPaDMCY5+tZF/ftX2fB0bHgGPAMeAYWBcDLh57xKMYl2DOsEif8MvZh1ikZwiRQOCX+3npju0YcAw4BhwDjgHHgFUMuHiMEI/SeNKLhpAU0Rf2DnWt66ERnz/jhCCY8tKx4BhwDDgGHAO1YcDFY4J4rK1x/XmdkBwDjgHHgGPAMeAYGBsDLh5dPPpwuWPAMeAYcAw4BhwDjoFoDLh4dLBEg2XszMWv59mwY8Ax4BhwDDgG6sOAi0cXjy4eHQOOAceAY8Ax4BhwDERjwMWjgyUaLJ4d1pcdept5mzkGHAOOAcfA2Bhw8eji0cWjY8Ax4BhwDDgGVhh45L4vNZdd+pnmnlh7PPbV5so/2Nfc+dC/OYZibbaA41w8LqARx84o/HqepToGHAOOgTEx8FBz582faC45+9nN1tbWU79fad764X3NjXc/ZEZ0PXLf/mb3Sac2u2/+bvPIEz9qfnDr+5pn8Lxn79sWk4dte/zbzd5zn90ccfbVzX93AWmmLaf2XxePLh5nB3tvZutZ7OztMTXJ+PXHFCF+rerw9NCdzZU7RKOIx6fKZ7yvueUxA+0qIvDcfc23Hn/yeQ4Tih2C8pHv7GvOOeJpzYsuPdg84DF1IzjcxeNigL6QzFYIzLPYjSCg6oTAYvjCgFjZCFs+2Nxy6ak/7mn82MHmnqeE2WNPwNn7miv/4GoD4vHfmgdufX/zoq3jm7fe/C8Z3PNoc+eHf7PZ2vrN5sq7H8043/FYGxe6eFwCgS0ss/Us1om0NiL153XMtmLgXz/XvPUIehif3Zxz/bdXQ8Gtxz0Vhx6577bm+g/vbl4kQ9tHvLK55MZvqN68f2seuPvGYPj7qOas6+9Vgu2h5s4b39+ctbrvVrN12DXa2upfmhvfdnyzdcRFzY3/+uO5i7E9j9Tpkbuvak7ZelpzyofvHqxnnw18X1v72Nvm4rF68bjEzNazWCdQe2TpbeJtkoqBJwUV4vH1zd77/p8SeG22fLi55dJfVHMiZXhb9eY9dLC55KSnBcdo8ajjgZxPOdCj+NhtzSXP2Gq2giH0FPH4mAhlNT8y1V5+fBsubG5z8Vi7eBSHXVBmC4F4FmuTMJzcvV0cA/EY2BZfgShrt+HDzcHrr24+Iy/QbAtFJQ7v29ecRa/kEa9urvxay4s2Eg9O+s/Njff9sHnsiR8237r+vOaIra3miLd9rvmXrngn5wXCb/v51fa2bav6dAjQ9rrG29DPt2krF49dzlTJ9iVmtiuy6CAzJxKbROLt4u3iGDgcA2n8HJ5/b7P37KOarS0lHp8IehZP2t1cefOPh7W3hZ0Me+tSCcDD2qqDb7evp85t27a6novHgZ7lsH3rXnfxWIlIPMzZn3rubUdeUGbrRFQ3qXRh1bd7u24cBkSUbcW8ifzD5p5bP9Vc+bZf6RmWBkMct0/Ne3xa86IL969exNmOB798VXPn9os5EbjrEH7b14sRj1JXdezGtXfleiKlvVw8Vt7YS8xsVwDuILMUcPuxEUGjcvx7G3sb28aA7il8dnPWpTeqj2nz8svfNR//033Nwcdkqs5Ws/WU8Hvym4vMb9Q9jzvbe5v/5UUXEXBbz27O2vMl9Wb3zvMOt5m/MHO4TYZsttn7XTzWHjy3yWI5me3KiaVensVu1FCIE/hmB6RFtn/k1zC2e/lkqPmIX2vOOlM+Kv6LzSW3Ptw8JnMe5ZinyiO2v8344zmOP/4Y+VMvzvRyafunerafSZ3btu2xJ/wlx0Vit0cfuXjsMU4dYFheZovdn8yo/bMPdWDQBY+3k2OgHwNt3+GlJ/LjzfW3fu/JT9s8/r3mi3teuXq5Zeuki5q9dz/YPHD3vuatq7ernxKPD93d7N0xrM019jW3rF6OkTbgXlc9dZ5641oJwNZnlW/sbgvRyH+Yga/9I+Ebl+S7eKxePP6oeWxhma1nsRIEvGwNckvwWa/DxgXbGrAc/j1h1DOL6PQ/dtgoTLt4XAyJLyez9SzWRWNU0FqM73p7e3vbwUDv38e2+Zz/pexGiUbxVRePbc7g2yZzhsHM1rPYyWwvTu+lnUDtbeFt4RhwDNSIARePLhRnFyu9ma1nsbO3R43E5c/sAdcx4BhwDJTDgItHF48uVhwDjgHHgGPAMeAYcAxEY8DFo4MlGiye5ZXL8tz2bnvHgGPAMeAYsIIBF48uHl08OgYcA44Bx4BjwDHgGIjGgItHB0s0WKxkPP4cnn07BhwDjgHHgGOgHAZcPLp4dPHoGHAMOAYcA44Bx4BjIBoDLh4dLNFg8SyvXJbntnfbOwYcA44Bx4AVDLh4dPHo4tEx4BhwDDgGHAOOAcdANAZcPDpYosFiJePx5/Ds2zHgGHAMOAYcA+Uw4OLRxaOLR8eAY8Ax4BhwDDgGHAPRGHDx6GCJBotneeWyPLe9294x4BhwDDgGrGDAxaOLRxePjgHHgGPAMeAYcAw4BqIx4OLRwRINFisZjz+HZ9+OAceAY8Ax4BgohwEXjy4eXTw6BhwDjgHHgGPAMeAYiMaAi0cHSzRYPMsrl+W57d32jgHHgGPAMWAFAy4eXTy6eHQMOAYcA44Bx4BjwDEQjQEXjw6WaLBYyXj8OTz7dgw4BhwDjgHHQDkM/H+nbwIABkHVKQAAAABJRU5ErkJggg==)"
      ]
    },
    {
      "cell_type": "markdown",
      "metadata": {
        "id": "s_lKsW2DhVX9"
      },
      "source": [
        "**Proposition**. A undirected graph is bipartite if and only if it contains no cycle of odd length.\n",
        "\n",
        "**Proof.** Let $G$ be an undirected graph.\n",
        "\n",
        "As mentioned previously, if $G$ contains an odd-length cycle, it is not bipartite. \n",
        "\n",
        "Conversely, suppose $G$ does not contain an odd-length cycle. We can color the graph using two colors as follows. Pick a node $s$ in $G$ and perform a breadth-first search. For each node $u$ reachable from $s$, if level($u$) is even, color it blue; otherwise, color it white. Since $G$ does not contain an odd-length cycle, by the previous lemma and a property above, each edge may only connect nodes whose levels differ by one, i.e. nodes in adjacent levels. Since nodes in adjacent levels are assigned different colors, it follows that there is no edge connecting nodes of the same color.\n",
        "\n",
        "This process can be repeated until all the nodes in $G$ are colored.\n",
        "\n"
      ]
    },
    {
      "cell_type": "markdown",
      "metadata": {
        "id": "P3dA3rZ6HKQD"
      },
      "source": [
        "**Task**: Implement function bipartiteCheck(G) which returns True if the given undirected graph G is bipartite and returns False otherwise. "
      ]
    },
    {
      "cell_type": "code",
      "metadata": {
        "id": "HdZfWT7Fo4ft",
        "outputId": "62feb966-9a2e-4892-91ec-95bae7fa23a8",
        "colab": {
          "base_uri": "https://localhost:8080/",
          "height": 270
        }
      },
      "source": [
        "import heapq\n",
        "from collections import deque\n",
        "\n",
        "# Declaring constants\n",
        "UNDISCOVERED = 0\n",
        "DISCOVERED = 1\n",
        "\n",
        "class UGraphAdjLst:\n",
        "  def __init__(self, N):\n",
        "    self.adjLst = [deque() for j in range(N)]\n",
        "    self.numNodes = N\n",
        "    self.numEdges = 0\n",
        "\n",
        "  def addEdge(self,u,v):\n",
        "    if not self.isAdjacent(u,v):\n",
        "      self.adjLst[u].append(v)\n",
        "      if u!=v:\n",
        "        self.adjLst[v].append(u)\n",
        "      self.numEdges+=1\n",
        "  \n",
        "  def removeEdge(self,u,v):\n",
        "    if self.isAdjacent(u,v):\n",
        "      self.adjLst[u].remove(v)\n",
        "      if u!=v:\n",
        "        self.adjLst[v].remove(u)\n",
        "      self.numEdges-=1\n",
        "\n",
        "  def isAdjacent(self,u,v):\n",
        "    for w in self.adjLst[u]:\n",
        "      if w == v:\n",
        "        return True\n",
        "    return False\n",
        "\n",
        "  def neighbors(self,u):\n",
        "    return list(self.adjLst[u])\n",
        "    \n",
        "  def edges(self):\n",
        "    L = []\n",
        "    for u in range(self.numNodes):\n",
        "      for v in self.adjLst[u]:\n",
        "        if u <= v:\n",
        "          L.append((u,v))\n",
        "    return L\n",
        "\n",
        "def bipartiteCheck(G, s = 0):\n",
        "  state = [UNDISCOVERED for i in range(G.numNodes)]\n",
        "  queue = []\n",
        "  queue.append(s)\n",
        "  state[s] = DISCOVERED\n",
        "  level = 0\n",
        "  firstNode = True\n",
        "\n",
        "  while len(queue)>0:\n",
        "    u = queue.pop(0)\n",
        "\n",
        "    if (u == None):\n",
        "      level += 1\n",
        "      continue\n",
        "\n",
        "    print(\"Exploring Node \" + str(u) + \" Level: \" + str(level))\n",
        "\n",
        "    if firstNode:\n",
        "      firstNode = False\n",
        "      level += 1\n",
        "    \n",
        "    for v in G.neighbors(u):\n",
        "      if state[v] == UNDISCOVERED:\n",
        "        state[v] = DISCOVERED\n",
        "        queue.append(v)\n",
        "    queue.append(None)\n",
        "  print(state)\n",
        "\n",
        "Gb = UGraphAdjLst(9)\n",
        "Gb.addEdge(0,1)\n",
        "Gb.addEdge(0,3)       \n",
        "Gb.addEdge(0,5)\n",
        "Gb.addEdge(1,2)\n",
        "Gb.addEdge(1,4)\n",
        "Gb.addEdge(2,4)\n",
        "Gb.addEdge(2,5)\n",
        "Gb.addEdge(3,4)\n",
        "Gb.addEdge(4,5)\n",
        "Gb.addEdge(6,7)\n",
        "bipartiteCheck(Gb) # Should return False\n",
        "print(\"*************\")\n",
        "Gb.removeEdge(2,4)\n",
        "bipartiteCheck(Gb) # Should return True"
      ],
      "execution_count": null,
      "outputs": [
        {
          "output_type": "stream",
          "text": [
            "Exploring Node 0 Level: 0\n",
            "Exploring Node 1 Level: 1\n",
            "Exploring Node 3 Level: 1\n",
            "Exploring Node 5 Level: 1\n",
            "Exploring Node 2 Level: 2\n",
            "Exploring Node 4 Level: 2\n",
            "[1, 1, 1, 1, 1, 1, 0, 0, 0]\n",
            "*************\n",
            "Exploring Node 0 Level: 0\n",
            "Exploring Node 1 Level: 1\n",
            "Exploring Node 3 Level: 1\n",
            "Exploring Node 5 Level: 1\n",
            "Exploring Node 2 Level: 2\n",
            "Exploring Node 4 Level: 2\n",
            "[1, 1, 1, 1, 1, 1, 0, 0, 0]\n"
          ],
          "name": "stdout"
        }
      ]
    },
    {
      "cell_type": "markdown",
      "metadata": {
        "id": "CSsv291qqanL"
      },
      "source": [
        "# Depth-First Search (Revisited)"
      ]
    },
    {
      "cell_type": "markdown",
      "metadata": {
        "id": "gz05v9f9qYc_"
      },
      "source": [
        "Below is a recursive implementation of depth-first search.\n"
      ]
    },
    {
      "cell_type": "code",
      "metadata": {
        "id": "oIRV3wePwiLB"
      },
      "source": [
        "# Declaring constants\n",
        "UNDISCOVERED = 0\n",
        "DISCOVERED = 1\n",
        "EXPLORED = 2\n",
        "\n",
        "def dfs(G,s):\n",
        "  global state\n",
        "  state = [UNDISCOVERED for i in range(G.numNodes)]\n",
        "  state[s] = DISCOVERED\n",
        "  dfsRec(G,s)\n",
        "\n",
        "def dfsRec(G,u):\n",
        "  global state\n",
        "  for v in G.neighbors(u):\n",
        "    if state[v]==UNDISCOVERED:\n",
        "      state[v] = DISCOVERED\n",
        "      dfsRec(G,v)\n",
        "  state[u] = EXPLORED"
      ],
      "execution_count": null,
      "outputs": []
    },
    {
      "cell_type": "markdown",
      "metadata": {
        "id": "xwk3HX3kwsKB"
      },
      "source": [
        "Below is the same implemention as above but with printing."
      ]
    },
    {
      "cell_type": "code",
      "metadata": {
        "id": "eOCzRmBHqsmw"
      },
      "source": [
        "# Declaring constants\n",
        "UNDISCOVERED = 0\n",
        "DISCOVERED = 1\n",
        "EXPLORED = 2\n",
        "\n",
        "def dfsPrint(G,s):\n",
        "  global state\n",
        "  state = [UNDISCOVERED for i in range(G.numNodes)]\n",
        "  state[s] = DISCOVERED\n",
        "  dfsRecPrint(G,s,0)\n",
        "\n",
        "def dfsPrintRec(G,u,depth):\n",
        "  global state\n",
        "  print(\".  \"*depth + \"Exploring \" + str(u))\n",
        "  for v in G.neighbors(u):\n",
        "    if state[v]==UNDISCOVERED:\n",
        "      state[v] = DISCOVERED\n",
        "      print(\".  \"*depth + \"Discovered \" + str(v))\n",
        "      dfsPrintRec(G,v,depth+1)\n",
        "  state[u] = EXPLORED\n",
        "  print(\".  \"*depth + \"Explored \" + str(u))\n",
        " \n",
        "G3 = DGraphAdjLst(7)\n",
        "G3.addEdge(0,1)\n",
        "G3.addEdge(0,5)\n",
        "G3.addEdge(1,2)\n",
        "G3.addEdge(1,4)\n",
        "G3.addEdge(2,0)\n",
        "G3.addEdge(2,3)\n",
        "G3.addEdge(2,4)\n",
        "G3.addEdge(3,1)\n",
        "G3.addEdge(5,2)\n",
        "G3.addEdge(5,6)\n",
        "G3.addEdge(6,6)\n",
        "\n",
        "dfsPrint(G3,0) "
      ],
      "execution_count": null,
      "outputs": []
    },
    {
      "cell_type": "markdown",
      "metadata": {
        "id": "o2vnJvrvxqU6"
      },
      "source": [
        "DFS tree on a directed graph\n"
      ]
    },
    {
      "cell_type": "code",
      "metadata": {
        "id": "_NudekdZxqhy"
      },
      "source": [
        "# Declaring constants\n",
        "UNDISCOVERED = 0\n",
        "DISCOVERED = 1\n",
        "EXPLORED = 2\n",
        "\n",
        "def dfsTreeDG(G,s):\n",
        "  global state\n",
        "  state = [UNDISCOVERED for i in range(G.numNodes)]\n",
        "  state[s] = DISCOVERED\n",
        "  dfsTreeDGRec(G,s)\n",
        "\n",
        "def dfsTreeDGRec(G,u):\n",
        "  global state\n",
        "\n",
        "  for v in G.neighbors(u):\n",
        "    if state[v]==UNDISCOVERED:\n",
        "      # Tree edge: DISCOVERED -> UNDISCOVERED\n",
        "      print(str(u)+\"-\"+str(v)+\" is a tree edge\")\n",
        "      state[v] = DISCOVERED\n",
        "      dfsTreeDGRec(G,v)\n",
        "\n",
        "    elif state[v]==DISCOVERED:\n",
        "      # Back edge: DISCOVERED -> DISCOVERED\n",
        "      print(str(u)+\"-\"+str(v)+\" is a back edge\")\n",
        "\n",
        "    elif state[v]==EXPLORED:\n",
        "      # Forward/Cross edge: DISCOVERED -> EXPLORED\n",
        "      print(str(u)+\"-\"+str(v)+\" is a forward/cross edge\")\n",
        "\n",
        "  state[u] = EXPLORED\n",
        "\n",
        "G3 = DGraphAdjLst(7)\n",
        "G3.addEdge(0,1)\n",
        "G3.addEdge(0,5)\n",
        "G3.addEdge(1,2)\n",
        "G3.addEdge(1,4)\n",
        "G3.addEdge(2,0)\n",
        "G3.addEdge(2,3)\n",
        "G3.addEdge(2,4)\n",
        "G3.addEdge(3,1)\n",
        "G3.addEdge(5,2)\n",
        "G3.addEdge(5,6)\n",
        "G3.addEdge(6,6)\n",
        "\n",
        "dfsTreeDG(G3,0)"
      ],
      "execution_count": null,
      "outputs": []
    },
    {
      "cell_type": "markdown",
      "metadata": {
        "id": "ho8Nv0ET1vH_"
      },
      "source": [
        "DFS tree on an undirected graph"
      ]
    },
    {
      "cell_type": "code",
      "metadata": {
        "id": "UIhKkKjd0El0"
      },
      "source": [
        "# Declaring constants\n",
        "UNDISCOVERED = 0\n",
        "DISCOVERED = 1\n",
        "EXPLORED = 2\n",
        "\n",
        "def dfsTreeUG(G,s):\n",
        "  global state, parent\n",
        "  state = [UNDISCOVERED for i in range(G.numNodes)]\n",
        "  parent = [None for i in range(G.numNodes)]\n",
        "  state[s] = DISCOVERED\n",
        "  dfsTreeUGRec(G,s)\n",
        "\n",
        "def dfsTreeUGRec(G,u):\n",
        "  global state, parent\n",
        "\n",
        "  for v in G.neighbors(u):\n",
        "    # Skip the edge back to the parent\n",
        "    if v == parent[u]:\n",
        "        continue\n",
        "\n",
        "    if state[v]==UNDISCOVERED:\n",
        "      # Tree edge: DISCOVERED -> UNDISCOVERED\n",
        "      print(str(u)+\"-\"+str(v)+\" is a tree edge\")\n",
        "      state[v] = DISCOVERED\n",
        "      parent[v] = u\n",
        "      dfsTreeUGRec(G,v)\n",
        "\n",
        "    elif state[v]==DISCOVERED:\n",
        "      # Back edge: DISCOVERED -> DISCOVERED\n",
        "      print(str(u)+\"-\"+str(v)+\" is a back edge\")\n",
        "\n",
        "    elif state[v]==EXPLORED:\n",
        "      # Can skip this case because v-u must have previously been \n",
        "      # declared as a back edge when v was being explored.\n",
        "      pass\n",
        "\n",
        "  state[u] = EXPLORED\n",
        "\n",
        "G4 = UGraphAdjLst(7)\n",
        "G4.addEdge(0,1)\n",
        "G4.addEdge(0,5)\n",
        "G4.addEdge(1,2)\n",
        "G4.addEdge(1,4)\n",
        "G4.addEdge(2,0)\n",
        "G4.addEdge(2,3)\n",
        "G4.addEdge(2,4)\n",
        "G4.addEdge(3,1)\n",
        "G4.addEdge(5,2)\n",
        "G4.addEdge(5,6)\n",
        "G4.addEdge(6,6)\n",
        "\n",
        "dfsTreeUG(G4,0)"
      ],
      "execution_count": null,
      "outputs": []
    },
    {
      "cell_type": "markdown",
      "metadata": {
        "id": "9d7YPd4BqV8J"
      },
      "source": [
        "# Cycle Detection"
      ]
    },
    {
      "cell_type": "markdown",
      "metadata": {
        "id": "T09YK4UjqY-t"
      },
      "source": [
        "One application of depth-first search is the detection of a cycle in a graph. Basically, the existence of a back edge implies that there is a cycle in the graph.\n",
        "\n",
        "**Proposition.** Suppose $G$ is a (directed or undirected) graph and $s$ is a node. $s$ is part of a cycle in $G$ if and only if when performing a depth-first search from node $s$, there is a back edge to $s$.\n",
        "\n",
        "\n",
        "\n",
        "**Task**: Implement the function isCyclicDG(G) which returns True if the given directed graph G has a cycle, and returns False otherwise. Simlarly, implement isCyclicUG(G) which return True, and returns False otherwise. Make sure the running times for both functions are O(N+M), where N is the number of nodes and M is the number of edges in the given graph."
      ]
    },
    {
      "cell_type": "code",
      "metadata": {
        "id": "BDbFD5ixrn9s"
      },
      "source": [
        "# A Python3 program to check if there is a cycle in   \n",
        "# directed graph using BFS.  \n",
        "import math \n",
        "import sys \n",
        "from collections import defaultdict \n",
        "  \n",
        "# Class to represent a graph  \n",
        "class Graph: \n",
        "    def __init__(self,vertices): \n",
        "        self.graph=defaultdict(list) \n",
        "        self.V=vertices # No. of vertices'  \n",
        "      \n",
        "    # function to add an edge to graph \n",
        "    def addEdge(self,u,v): \n",
        "        self.graph[u].append(v) \n",
        "  \n",
        "# This function returns true if there is a cycle  \n",
        "# in directed graph, else returns false.  \n",
        "def isCycleDG(n,graph): \n",
        "  \n",
        "    # Create a vector to store indegrees of all  \n",
        "    # vertices. Initialize all indegrees as 0.  \n",
        "    in_degree=[0]*n \n",
        "  \n",
        "    # Traverse adjacency lists to fill indegrees of  \n",
        "    # vertices. This step takes O(V+E) time \n",
        "    for i in range(n): \n",
        "        for j in graph[i]: \n",
        "            in_degree[j]+=1\n",
        "      \n",
        "    # Create an queue and enqueue all vertices with  \n",
        "    # indegree 0 \n",
        "    queue=[] \n",
        "    for i in range(len(in_degree)): \n",
        "        if in_degree[i]==0: \n",
        "            queue.append(i) \n",
        "      \n",
        "    # Initialize count of visited vertices \n",
        "    cnt=0\n",
        "  \n",
        "    # One by one dequeue vertices from queue and enqueue  \n",
        "    # adjacents if indegree of adjacent becomes 0  \n",
        "    while(queue): \n",
        "  \n",
        "        # Extract front of queue (or perform dequeue)  \n",
        "        # and add it to topological order  \n",
        "        nu=queue.pop(0) \n",
        "  \n",
        "        # Iterate through all its neighbouring nodes  \n",
        "        # of dequeued node u and decrease their in-degree  \n",
        "        # by 1  \n",
        "        for v in graph[nu]: \n",
        "            in_degree[v]-=1\n",
        "  \n",
        "            # If in-degree becomes zero, add it to queue \n",
        "            if in_degree[v]==0: \n",
        "                queue.append(v) \n",
        "        cnt+=1\n",
        "  \n",
        "    # Check if there was a cycle  \n",
        "    if cnt==n: \n",
        "        return False\n",
        "    else: \n",
        "        return True\n",
        "          \n",
        "  \n",
        "# Driver program to test above functions  \n",
        "# if __name__=='__main__': \n",
        "  \n",
        "#     # Create a graph given in the above diagram \n",
        "#     g=Graph(6) \n",
        "#     g.addEdge(0,1) \n",
        "#     g.addEdge(1,2) \n",
        "#     g.addEdge(2,0) \n",
        "#     g.addEdge(3,4) \n",
        "#     g.addEdge(4,5) \n",
        "      \n",
        "#     if isCycleDG(g.V,g.graph): \n",
        "#         print(\"Yes\") \n",
        "#     else: \n",
        "#         print(\"No\") \n",
        "\n",
        "# Python Program to detect cycle in an undirected graph \n",
        "  \n",
        "from collections import defaultdict \n",
        "   \n",
        "#This class represents a undirected graph using adjacency list representation \n",
        "class Graph: \n",
        "   \n",
        "    def __init__(self,vertices): \n",
        "        self.V= vertices #No. of vertices \n",
        "        self.graph = defaultdict(list) # default dictionary to store graph \n",
        "  \n",
        "   \n",
        "    # function to add an edge to graph \n",
        "    def addEdge(self,v,w): \n",
        "        self.graph[v].append(w) #Add w to v_s list \n",
        "        self.graph[w].append(v) #Add v to w_s list \n",
        "   \n",
        "    # A recursive function that uses visited[] and parent to detect \n",
        "    # cycle in subgraph reachable from vertex v. \n",
        "    def isCyclicUtil(self,v,visited,parent): \n",
        "  \n",
        "        #Mark the current node as visited  \n",
        "        visited[v]= True\n",
        "  \n",
        "        #Recur for all the vertices adjacent to this vertex \n",
        "        for i in self.graph[v]: \n",
        "            # If the node is not visited then recurse on it \n",
        "            if  visited[i]==False :  \n",
        "                if(self.isCyclicUtil(i,visited,v)): \n",
        "                    return True\n",
        "            # If an adjacent vertex is visited and not parent of current vertex, \n",
        "            # then there is a cycle \n",
        "            elif  parent!=i: \n",
        "                return True\n",
        "          \n",
        "        return False\n",
        "           \n",
        "   \n",
        "    #Returns true if the graph contains a cycle, else false. \n",
        "    def isCycleUG(self): \n",
        "        # Mark all the vertices as not visited \n",
        "        visited =[False]*(self.V) \n",
        "        # Call the recursive helper function to detect cycle in different \n",
        "        #DFS trees \n",
        "        for i in range(self.V): \n",
        "            if visited[i] ==False: #Don't recur for u if it is already visited \n",
        "                if(self.isCyclicUtil(i,visited,-1))== True: \n",
        "                    return True\n",
        "          \n",
        "        return False\n",
        "  \n",
        "# Create a graph given in the above diagram \n",
        "# g = Graph(5) \n",
        "# g.addEdge(1, 0) \n",
        "# g.addEdge(0, 2) \n",
        "# g.addEdge(2, 0) \n",
        "# g.addEdge(0, 3) \n",
        "# g.addEdge(3, 4) \n",
        "  \n",
        "# if g.isCycleUG(): \n",
        "#     print \"Graph contains cycle\"\n",
        "# else : \n",
        "#     print \"Graph does not contain cycle \"\n",
        "# g1 = Graph(3) \n",
        "# g1.addEdge(0,1) \n",
        "# g1.addEdge(1,2) \n",
        "  \n",
        "  \n",
        "# if g1.isCycleUG(): \n",
        "#     print \"Graph contains cycle\"\n",
        "# else : \n",
        "#     print \"Graph does not contain cycle \""
      ],
      "execution_count": null,
      "outputs": []
    },
    {
      "cell_type": "markdown",
      "metadata": {
        "id": "Z5RiRRQ_DUa7"
      },
      "source": [
        "# Connectivity in Undirected Graphs"
      ]
    },
    {
      "cell_type": "markdown",
      "metadata": {
        "id": "maz6KnO5DgUB"
      },
      "source": [
        "**Definition (Connected Undirected Graph)**. An undirected graph is said to be *connected* if and only if there is a path between any two distinct nodes.\n",
        "\n",
        "**Definition (Connected Components in Undirected Graph)**. A *connected component* in a graph is a maximal set S of nodes in the graph such that there is a path between any two distinct nodes in S.\n",
        "\n",
        "Hence, a connected non-empty undirected graph has exactly one connected component. \n",
        "\n",
        "Graph travesal algorithms, such as breadth-first search or depth-first search, can be easily used to check whether an undirected graph is connected or not and to compute the connected components in an undirected graph.\n",
        "\n",
        "Below is the pseudocode of an algorithm for computing the connected components of a given undirected graph\n",
        "\n",
        "```\n",
        "  1:  findCC(undirected graph G):\n",
        "  2:    Set the state of all nodes in G to UNDISCOVERED\n",
        "  3:      For each node s in G\n",
        "  4:        Perform breadth-first search or depth-first search from node s\n",
        "  5:          Mark all nodes visited during the search as DISCOVERED and \n",
        "  6:          collect the visited nodes in a list C\n",
        "  7:        Print out the connected component C\n",
        "```\n"
      ]
    },
    {
      "cell_type": "markdown",
      "metadata": {
        "id": "oQEwcOtdG4Su"
      },
      "source": [
        "**Task**: Implement the function findCC(G) which prints out the nodes in each connected component in the given undirected graph G"
      ]
    },
    {
      "cell_type": "code",
      "metadata": {
        "id": "2Z_8aS9aFEas",
        "outputId": "30928a46-7709-4120-fc33-f4241a5cef49",
        "colab": {
          "base_uri": "https://localhost:8080/",
          "height": 51
        }
      },
      "source": [
        "class Graph: \n",
        "      \n",
        "    # init function to declare class variables \n",
        "    def __init__(self,V): \n",
        "        self.V = V \n",
        "        self.adj = [[] for i in range(V)] \n",
        "  \n",
        "    def DFSUtil(self, temp, v, visited): \n",
        "  \n",
        "        # Mark the current vertex as visited \n",
        "        visited[v] = True\n",
        "  \n",
        "        # Store the vertex to list \n",
        "        temp.append(v) \n",
        "  \n",
        "        # Repeat for all vertices adjacent \n",
        "        # to this vertex v \n",
        "        for i in self.adj[v]: \n",
        "            if visited[i] == False: \n",
        "                  \n",
        "                # Update the list \n",
        "                temp = self.DFSUtil(temp, i, visited) \n",
        "        return temp \n",
        "  \n",
        "    # method to add an undirected edge \n",
        "    def addEdge(self, v, w): \n",
        "        self.adj[v].append(w) \n",
        "        self.adj[w].append(v) \n",
        "  \n",
        "    # Method to retrieve connected components \n",
        "    # in an undirected graph \n",
        "    def connectedComponents(self): \n",
        "        visited = [] \n",
        "        cc = [] \n",
        "        for i in range(self.V): \n",
        "            visited.append(False) \n",
        "        for v in range(self.V): \n",
        "            if visited[v] == False: \n",
        "                temp = [] \n",
        "                cc.append(self.DFSUtil(temp, v, visited)) \n",
        "        return cc  \n",
        "\n",
        "Gb = Graph(9)\n",
        "Gb.addEdge(0,1)\n",
        "Gb.addEdge(0,3)\n",
        "Gb.addEdge(0,5)\n",
        "Gb.addEdge(1,2)\n",
        "Gb.addEdge(1,4)\n",
        "Gb.addEdge(2,4)\n",
        "Gb.addEdge(2,5)\n",
        "Gb.addEdge(3,4)\n",
        "Gb.addEdge(4,5)\n",
        "Gb.addEdge(6,7)\n",
        "cc = Gb.connectedComponents() \n",
        "print(\"Following are connected components\") \n",
        "print(cc) \n",
        "\n",
        "# Expected output\n",
        "# 0 1 2 3 4 5\n",
        "# 6 7\n",
        "# 8"
      ],
      "execution_count": null,
      "outputs": [
        {
          "output_type": "stream",
          "text": [
            "Following are connected components\n",
            "[[0, 1, 2, 4, 3, 5], [6, 7], [8]]\n"
          ],
          "name": "stdout"
        }
      ]
    },
    {
      "cell_type": "markdown",
      "metadata": {
        "id": "gCMJHrA0EmS2"
      },
      "source": [
        "**Definition (Articulation Point)**. A vertex in a undirected graph is called an *articulation point* (also called a *cut vertex*) if and only if removing such vertex increases the number of connected components in the graph.\n",
        "\n",
        "**Definition (Bridge)**. An edge in a undirected graph is called a *bridge* if and only if removing such edge increases the number of connected components in the graph.\n",
        "\n",
        "Below is an implementation of the algorithm for finding articulation points and bridges in a connected undirected graph using depth-first search."
      ]
    },
    {
      "cell_type": "code",
      "metadata": {
        "id": "ZZ_HuofeDk1X"
      },
      "source": [
        "# Declaring constants\n",
        "UNDISCOVERED = 0\n",
        "DISCOVERED = 1\n",
        "EXPLORED = 2\n",
        "\n",
        "def findArtBridge(G,s):\n",
        "  global state, parent, counter, low, num, root\n",
        "  state = [UNDISCOVERED for i in range(G.numNodes)]\n",
        "  parent = [None for i in range(G.numNodes)]\n",
        "  low = [0 for i in range(G.numNodes)]\n",
        "  num = [0 for i in range(G.numNodes)]\n",
        "  root = s\n",
        "  counter = 1\n",
        "  state[s] = DISCOVERED\n",
        "  dfsArtBridge(G,s)\n",
        "\n",
        "  # Checking whether the root s is an articulation point\n",
        "  numRootChildren = 0\n",
        "  for v in G.neighbors(s):\n",
        "    if parent[v] == s:\n",
        "      numRootChildren+=1\n",
        "  if numRootChildren > 1:\n",
        "    print(str(s) + \" is an articulation point.\")\n",
        "\n",
        "def dfsArtBridge(G,u):\n",
        "  global state, parent, counter, low, num, root\n",
        "  low[u] = num[u] = counter\n",
        "  counter+=1\n",
        "\n",
        "  for v in G.neighbors(u):\n",
        "    # Skip the edge back to the parent\n",
        "    if v == parent[u]:\n",
        "        continue\n",
        "    if state[v]==UNDISCOVERED:\n",
        "      # Tree edge: DISCOVERED -> UNDISCOVERED\n",
        "      state[v] = DISCOVERED\n",
        "      parent[v] = u\n",
        "      dfsArtBridge(G,v)\n",
        "      low[u] = min(low[u],low[v])\n",
        "      # Check whether u-v is a bridge\n",
        "      if low[v] > num[u]:\n",
        "        print(str(u) + \"-\" + str(v) + \" is a bridge.\")\n",
        "      # Check whether u is an articulation point\n",
        "      if(u != root) and (low[v] >= num[u]):\n",
        "        print(str(u) + \" is an articulation point.\")\n",
        "    elif state[v]==DISCOVERED:\n",
        "      # Back edge: DISCOVERED -> DISCOVERED\n",
        "      low[u] = min(low[u],num[v])\n",
        "    elif state[v]==EXPLORED:\n",
        "      # Can skip this case because v-u must have previously been \n",
        "      # labelled as a back edge when v was being explored.\n",
        "      pass\n",
        "\n",
        "  state[u] = EXPLORED\n",
        "\n",
        "G6 = UGraphAdjLst(12)\n",
        "G6.addEdge(0,1)\n",
        "G6.addEdge(0,5)\n",
        "G6.addEdge(1,2)\n",
        "G6.addEdge(1,4)\n",
        "G6.addEdge(2,0)\n",
        "G6.addEdge(2,3)\n",
        "G6.addEdge(2,4)\n",
        "G6.addEdge(3,1)\n",
        "G6.addEdge(5,2)\n",
        "G6.addEdge(5,6)\n",
        "G6.addEdge(6,6)\n",
        "G6.addEdge(7,6)\n",
        "G6.addEdge(7,8)\n",
        "G6.addEdge(7,9)\n",
        "G6.addEdge(8,10)\n",
        "G6.addEdge(9,11)\n",
        "G6.addEdge(10,9)\n",
        "G6.addEdge(10,10)\n",
        "G6.addEdge(11,10)\n",
        "\n",
        "findArtBridge(G6,0)"
      ],
      "execution_count": null,
      "outputs": []
    },
    {
      "cell_type": "markdown",
      "metadata": {
        "id": "eYtvDhnTM9sS"
      },
      "source": [
        "# Strong Connectivity in Directed Graphs"
      ]
    },
    {
      "cell_type": "markdown",
      "metadata": {
        "id": "SQMCBUw2I0bG"
      },
      "source": [
        "**Definition (Strongly Connected Directed Graph)**. A directed graph is said to be *strongly connected* if and only if, for any two distinct nodes u and v, there is a path from u to v and a path from v to u.\n",
        "\n",
        "**Definition (Strongly Connected Component)**. A *strongly-connected component* (SCC) in a graph is a maximal set S of nodes in the graph such that, for any two distinct nodes u and v in S, there is a path from u to v and a path from v to u.\n",
        "\n",
        "Below is a resursive implemention of Tarjan's algorithm for computing strongly-connected components.\n"
      ]
    },
    {
      "cell_type": "code",
      "metadata": {
        "id": "Pjdsd-MHI00t"
      },
      "source": [
        "# Declaring constants\n",
        "UNDISCOVERED = 0\n",
        "DISCOVERED = 1\n",
        "EXPLORED = 2\n",
        "DELETED = 3\n",
        "\n",
        "def findSCC(G):\n",
        "  global state, counter, low, num, stack\n",
        "  state = [UNDISCOVERED for i in range(G.numNodes)]\n",
        "  low = [0 for i in range(G.numNodes)]\n",
        "  num = [0 for i in range(G.numNodes)]\n",
        "  counter = 1\n",
        "  stack = []\n",
        "  for s in range(G.numNodes):\n",
        "    if state[s]==UNDISCOVERED:\n",
        "      state[s] = DISCOVERED\n",
        "      dfsTarjan(G,s)\n",
        "\n",
        "def dfsTarjan(G,u):\n",
        "  global state, counter, low, num, stack\n",
        "  low[u] = num[u] = counter\n",
        "  counter+=1\n",
        "  stack.append(u)\n",
        "\n",
        "  for v in G.neighbors(u):\n",
        "    if state[v]==UNDISCOVERED:\n",
        "      # Tree edge: DISCOVERED -> UNDISCOVERED\n",
        "      state[v] = DISCOVERED\n",
        "      dfsTarjan(G,v)\n",
        "      low[u] = min(low[u],low[v])\n",
        "    elif state[v]==DISCOVERED:\n",
        "      # Back edge: DISCOVERED -> DISCOVERED\n",
        "      low[u] = min(low[u],num[v])\n",
        "    elif state[v]==EXPLORED:\n",
        "      # Forward/cross edge: DISCOVERED -> EXPLORED\n",
        "      low[u] = min(low[u],num[v])\n",
        "\n",
        "  if low[u]==num[u]:\n",
        "    scc = []\n",
        "    while(True):\n",
        "      v = stack.pop()\n",
        "      state[v] = DELETED\n",
        "      scc.append(v)\n",
        "      if u==v:\n",
        "        break\n",
        "    print(scc)\n",
        "  else:\n",
        "    state[u] = EXPLORED\n",
        "\n",
        "G5 = DGraphAdjLst(12)\n",
        "G5.addEdge(0,1)\n",
        "G5.addEdge(0,5)\n",
        "G5.addEdge(1,2)\n",
        "G5.addEdge(1,4)\n",
        "G5.addEdge(2,0)\n",
        "G5.addEdge(2,3)\n",
        "G5.addEdge(2,4)\n",
        "G5.addEdge(3,1)\n",
        "G5.addEdge(5,2)\n",
        "G5.addEdge(5,6)\n",
        "G5.addEdge(6,6)\n",
        "G5.addEdge(7,6)\n",
        "G5.addEdge(7,8)\n",
        "G5.addEdge(7,9)\n",
        "G5.addEdge(8,7)\n",
        "G5.addEdge(8,10)\n",
        "G5.addEdge(9,11)\n",
        "G5.addEdge(10,9)\n",
        "G5.addEdge(10,10)\n",
        "G5.addEdge(11,9)\n",
        "G5.addEdge(11,10)\n",
        "\n",
        "findSCC(G5)"
      ],
      "execution_count": null,
      "outputs": []
    },
    {
      "cell_type": "code",
      "metadata": {
        "id": "vwVwuzq1OFab",
        "outputId": "43aa07be-1d44-4051-d94a-0370cc351ec7",
        "colab": {
          "base_uri": "https://localhost:8080/",
          "height": 169
        }
      },
      "source": [
        "# Python program to find strongly connected components in a given \n",
        "# directed graph using Tarjan's algorithm (single DFS) \n",
        "#Complexity : O(V+E) \n",
        "   \n",
        "from collections import defaultdict \n",
        "   \n",
        "#This class represents an directed graph  \n",
        "# using adjacency list representation \n",
        "class Graph: \n",
        "   \n",
        "    def __init__(self,vertices): \n",
        "        #No. of vertices \n",
        "        self.V= vertices  \n",
        "          \n",
        "        # default dictionary to store graph \n",
        "        self.graph = defaultdict(list)  \n",
        "          \n",
        "        self.Time = 0\n",
        "   \n",
        "    # function to add an edge to graph \n",
        "    def addEdge(self,u,v): \n",
        "        self.graph[u].append(v) \n",
        "          \n",
        "   \n",
        "    '''A recursive function that find finds and prints strongly connected \n",
        "    components using DFS traversal \n",
        "    u --> The vertex to be visited next \n",
        "    disc[] --> Stores discovery times of visited vertices \n",
        "    low[] -- >> earliest visited vertex (the vertex with minimum \n",
        "                discovery time) that can be reached from subtree \n",
        "                rooted with current vertex \n",
        "     st -- >> To store all the connected ancestors (could be part \n",
        "           of SCC) \n",
        "     stackMember[] --> bit/index array for faster check whether \n",
        "                  a node is in stack \n",
        "    '''\n",
        "    def SCCUtil(self,u, low, disc, stackMember, st): \n",
        "  \n",
        "        # Initialize discovery time and low value \n",
        "        disc[u] = self.Time \n",
        "        low[u] = self.Time \n",
        "        self.Time += 1\n",
        "        stackMember[u] = True\n",
        "        st.append(u) \n",
        "  \n",
        "        # Go through all vertices adjacent to this \n",
        "        for v in self.graph[u]: \n",
        "              \n",
        "            # If v is not visited yet, then recur for it \n",
        "            if disc[v] == -1 : \n",
        "              \n",
        "                self.SCCUtil(v, low, disc, stackMember, st) \n",
        "  \n",
        "                # Check if the subtree rooted with v has a connection to \n",
        "                # one of the ancestors of u \n",
        "                # Case 1 (per above discussion on Disc and Low value) \n",
        "                low[u] = min(low[u], low[v]) \n",
        "                          \n",
        "            elif stackMember[v] == True:  \n",
        "  \n",
        "                '''Update low value of 'u' only if 'v' is still in stack \n",
        "                (i.e. it's a back edge, not cross edge). \n",
        "                Case 2 (per above discussion on Disc and Low value) '''\n",
        "                low[u] = min(low[u], disc[v]) \n",
        "  \n",
        "        # head node found, pop the stack and print an SCC \n",
        "        w = -1 #To store stack extracted vertices \n",
        "        if low[u] == disc[u]: \n",
        "            while w != u: \n",
        "                w = st.pop() \n",
        "                print (w) \n",
        "                stackMember[w] = False\n",
        "                  \n",
        "            print(\"\") \n",
        "              \n",
        "      \n",
        "  \n",
        "    #The function to do DFS traversal.  \n",
        "    # It uses recursive SCCUtil() \n",
        "    def SCC(self): \n",
        "   \n",
        "        # Mark all the vertices as not visited  \n",
        "        # and Initialize parent and visited,  \n",
        "        # and ap(articulation point) arrays \n",
        "        disc = [-1] * (self.V) \n",
        "        low = [-1] * (self.V) \n",
        "        stackMember = [False] * (self.V) \n",
        "        st =[] \n",
        "          \n",
        "  \n",
        "        # Call the recursive helper function  \n",
        "        # to find articulation points \n",
        "        # in DFS tree rooted with vertex 'i' \n",
        "        for i in range(self.V): \n",
        "            if disc[i] == -1: \n",
        "                self.SCCUtil(i, low, disc, stackMember, st) \n",
        "  \n",
        "  \n",
        "   \n",
        "   \n",
        "   \n",
        "# Create a graph given in the above diagram \n",
        "g1 = Graph(6) \n",
        "g1.addEdge(0, 1) \n",
        "g1.addEdge(1, 5) \n",
        "g1.addEdge(5, 0) \n",
        "g1.addEdge(0, 4) \n",
        "g1.addEdge(5, 4)\n",
        "g1.addEdge(2, 1) \n",
        "g1.addEdge(5, 2) \n",
        "g1.addEdge(2, 3)\n",
        "g1.addEdge(5, 3) \n",
        "g1.addEdge(3, 4) \n",
        "g1.addEdge(4, 3)  \n",
        "print(\"SSC in first graph \")\n",
        "g1.SCC() \n",
        "  \n",
        "#This code is contributed by Neelam Yadav "
      ],
      "execution_count": null,
      "outputs": [
        {
          "output_type": "stream",
          "text": [
            "SSC in first graph \n",
            "3\n",
            "4\n",
            "\n",
            "2\n",
            "5\n",
            "1\n",
            "0\n",
            "\n"
          ],
          "name": "stdout"
        }
      ]
    },
    {
      "cell_type": "markdown",
      "metadata": {
        "id": "M6m1g6ERNZdJ"
      },
      "source": [
        "# Topological Ordering"
      ]
    },
    {
      "cell_type": "markdown",
      "metadata": {
        "id": "I3u9YBOWTEGU"
      },
      "source": [
        "**Definition (DAG)**. A *directed acyclic graph (DAG)* is a directed graph that contains no cycles.\n",
        "\n",
        "**Definition (Topological Ordering)**. A *topological ordering* (also called *topological sorting**) of a directed graph $G$ is an ordering of its nodes as $u_1, u_2, \\dots, u_n$ so that for every edge $(u_i, u_j)$ we have $i < j$.\n",
        "\n",
        "We can show every DAG has a topological ordering.\n",
        "\n",
        "**Lemma.** Every finite non-empty DAG $G$ has a node with in-degree $0$.\n",
        "\n",
        "**Proof** (By contradiction). Assume that $G$ is a finite non-empty DAG without any node of in-degree $0$. Pick any node $u_1$. Since $\\textrm{in-degree}(u_1)>0$, there must some node $u_2$ which has an edge to $u_1$. Similarly, since $\\textrm{in-degree}(u_2)>0$, there must some node $u_3$ which has an edge to $u_2$. We can repeat this indefinitely and obtain a sequence of nodes: $u_1, u_2, u_3, \\dots$. Since $G$ is finite, there must be some $i$ and $j$ where $i < j$ and $u_i = u_j$. Hence, $u_i, u_{i+1}, \\dots, u_j$ is a cycle. This contradicts the assumption that $G$ is a DAG.\n",
        "\n",
        "**Proposition**. Every finite non-empty DAG $G$ has a topological ordering.\n",
        "\n",
        "**Proof**. We can construct a topological ordering $L$ of the nodes in $G$ according to the pseudocode below.\n",
        "\n",
        "\n",
        "```\n",
        "  1:  L = []\n",
        "  2:  While G is not empty:\n",
        "  3:    Pick a node u in G which has no incoming edges\n",
        "  4:    Append u at the end of L\n",
        "  5:    Remove u (and all outgoing edges from u) from G\n",
        "```\n",
        "\n",
        "We can show that the following properties remain true at all time in the procedure above:\n",
        "\n",
        "A. G is a finite DAG.\n",
        "\n",
        "B. There is no edge from a node in $G$ to a node in $L$.\n",
        "\n",
        "The first property is clear because $G$ is initially a finite DAG and no node or edge is added during the procedure above. The second property must also be true because when we add a node to $L$ in Line 3, the node has no incoming edge.\n",
        "\n",
        "At Line 3, there must always be at least one node in $G$ which has no incoming edges to pick because when Line 3 is executed, $G$ is a non-empty DAG, thus by the previous lemma, there must be such a node.\n",
        "\n",
        "When the While loop terminates, $L$ contains a topological ordering of the nodes in $G$. \n",
        "\n",
        "$\\blacksquare$"
      ]
    },
    {
      "cell_type": "markdown",
      "metadata": {
        "id": "-3JJShwFUIcV"
      },
      "source": [
        "Below is an implemention of the algorithm for finding a topological ordering of a given DAG $G$. Note that, in this implementation, instead of actually removing a node from the graph, we maintain the number of incoming edges to each node and when a node $u$ is picked and added to the list $L$, we reduce the number of incoming edges of each neighbor of $u$ by one. \n",
        "\n",
        "The list $S$ is used to store the nodes without incoming edges.\n"
      ]
    },
    {
      "cell_type": "code",
      "metadata": {
        "id": "IB5XfTBKJKZH",
        "outputId": "f00db72e-5644-4395-a85c-d5037b729362",
        "colab": {
          "base_uri": "https://localhost:8080/",
          "height": 34
        }
      },
      "source": [
        "def topSort(G):\n",
        "  # Computing in-degree of each node\n",
        "  indegree = [0 for i in range(G.numNodes)]\n",
        "  for u in range(G.numNodes):\n",
        "    for v in G.neighbors(u):\n",
        "      indegree[v]+=1\n",
        "\n",
        "  S = [u for u in range(G.numNodes) if indegree[u]==0]\n",
        "  L = []\n",
        "  while len(S)>0:\n",
        "    u = S.pop()\n",
        "    L.append(u)\n",
        "    for v in G.neighbors(u):\n",
        "      indegree[v]-=1\n",
        "      if indegree[v]==0:\n",
        "        S.append(v)\n",
        "\n",
        "  return L\n",
        "\n",
        "G9 = DGraphAdjLst(9)\n",
        "G9.addEdge(0,3)\n",
        "G9.addEdge(2,3)\n",
        "G9.addEdge(2,4)\n",
        "G9.addEdge(4,0)\n",
        "G9.addEdge(4,1)\n",
        "G9.addEdge(4,3)\n",
        "G9.addEdge(6,7)\n",
        "G9.addEdge(7,5)\n",
        "\n",
        "print(topSort(G9))\n"
      ],
      "execution_count": null,
      "outputs": [
        {
          "output_type": "stream",
          "text": [
            "[8, 6, 7, 5, 2, 4, 1, 0, 3]\n"
          ],
          "name": "stdout"
        }
      ]
    },
    {
      "cell_type": "markdown",
      "metadata": {
        "id": "g0BBGIZUk6xo"
      },
      "source": [
        "It can also be shown that any directed graph which has a topological order must be acyclic.\n",
        "\n",
        "**Proposition**. If a directed graph $G$ has a topological order, then $G$ is a DAG.\n",
        "\n",
        "**Proof** (By contradiction). Suppose that $G$ has a topological order $L$. Hence, there is no edge $(v,u)$ if $u$ appears in $L$ before $v$. \n",
        "\n",
        "Suppose $G$ also has a cycle $C$. Let $u$ be the first node in $L$ that also appears $C$. Let $v$ be the node just before $u$ in the cycle; thus $(v, u)$ is an edge. By our choice of $u$, the node $u$ must appear in $L$ before $v$. This contradicts the assumption that $L$ is a topological order.\n",
        "\n",
        "$\\blacksquare$\n",
        "\n",
        "**Another way to detect cycles**. By the previous two propositions, it follows that a finite directed graph is acyclic if and only if it has a topological ordering. This fact gives us another way to check whether a directed graph has a cycle or not. Suppose $G$ is a directed graph, which may or may not be a acyclic. Execute the program to compute a topological ordering for $G$. If after the execution finishes, there remain nodes in $G$ that are *not* in the topological order computed so far, then $G$ has cycles. In particularly, all the nodes remaining in $G$ after the execution are parts of some cycles in $G$."
      ]
    },
    {
      "cell_type": "markdown",
      "metadata": {
        "id": "qsLGz6j40dxn"
      },
      "source": [
        "# Weighted Graphs"
      ]
    },
    {
      "cell_type": "markdown",
      "metadata": {
        "id": "cxqSgxxB0jJb"
      },
      "source": [
        "**Definition (Weighted Graph)**. A *weighted undirected (directed) graph* is a triple $(V,E,W)$ such that $(V,E)$ is an undirected (directed) graph and $W$ is a functionn assigning a numerical value to each edge in $E$, i.e. $W: E \\to F$, where $F$ is a set of possible weight values.  \n",
        "\n",
        "The notions of *weighted simple graphs* and *weighted simple graphs permitting loops* can be defined in the same way for unweighted graphs.\n",
        "\n",
        "For any edge $e$, the value $W(e)$ is called the *weight* of $e$. In a simple weighted graph permitting loops, for any edge $\\{u,v\\}$ (or $(u,v)$ in case of a directed graph), we shall write $W(u,v)$ to denote the weight of such edge.\n",
        "\n",
        "\n",
        "**Convention**. In what follows, by a *weighted undirected (directed) graph*, we mean a simple weighted undirected (directed) graph permitting loops with a finite number of nodes.\n"
      ]
    },
    {
      "cell_type": "markdown",
      "metadata": {
        "id": "hRQdEkwkApAF"
      },
      "source": [
        "# Computer Representations of Weighted Graphs"
      ]
    },
    {
      "cell_type": "markdown",
      "metadata": {
        "id": "3OrZT7ZEAte_"
      },
      "source": [
        "The representations of graphs using adjacency matrices and adjacency lists can be generalized for weighted graphs by include the weight of each edge.\n",
        "\n",
        "Suppose $G = (V,E,W)$ is a weighted directed graph with $N$ nodes and $M$ edges. As before, we fix an ordering of the nodes. Thus, we can identify the nodes by numbers $0,1,2,\\dots,N-1$. \n",
        "\n",
        "**Adjacency matrices**. An adjacency matrix for $G$ is an $N \\times N$ matrix $A$ such that\n",
        "\n",
        "$$\n",
        "\\begin{align}\n",
        "A_{u,v} & = \\begin{cases}\n",
        "W(u,v)  & (u,v) \\text{ is an edge} \\\\\n",
        "\\infty & \\text{otherwise.}\n",
        "\\end{cases}\n",
        "\\end{align}\n",
        "$$\n",
        "\n",
        "Here, we use the symbol $\\infty$ for $A_{u,v}$ to indicate the absence of the edge $(u,v)$.\n",
        "\n",
        "As before, an adjacency matrix can typically be stored in a computer program using a two-dimensional array. We can use any value that cannot possibly be the weight of an edge to represent $\\infty$.\n",
        "\n",
        "An adjacency matrix for an undirected graph is similar, just replacing the condition \"$(u,v)$ is an edge\" by \"$\\{u,v\\}$ is an edge\"."
      ]
    },
    {
      "cell_type": "code",
      "metadata": {
        "id": "tXIxLb2D0jUo",
        "outputId": "f6af66a2-3d36-4338-8cb5-239f5b5ef01e",
        "colab": {
          "base_uri": "https://localhost:8080/",
          "height": 50
        }
      },
      "source": [
        "INFINITY = float('inf')\n",
        "\n",
        "class WDGraphAdjMat:\n",
        "  def __init__(self, N):\n",
        "    self.adjMat = [[INFINITY for i in range(N)] for j in range(N)]\n",
        "    self.numNodes = N\n",
        "    self.numEdges = 0\n",
        "\n",
        "  def addEdge(self,u,v,d):\n",
        "    if not self.isAdjacent(u,v):\n",
        "      self.adjMat[u][v] = d\n",
        "      self.numEdges+=1\n",
        "  \n",
        "  def removeEdge(self,u,v):\n",
        "    if self.isAdjacent(u,v):\n",
        "      self.adjMat[u][v] = INFINITY\n",
        "      self.numEdges-=1\n",
        "\n",
        "  def weight(self,u,v):\n",
        "    return self.adjMat[u][v]\n",
        "\n",
        "  def isAdjacent(self,u,v):\n",
        "    return (self.adjMat[u][v] != INFINITY)\n",
        "\n",
        "  def neighbors(self,u):\n",
        "    L = []\n",
        "    for v in range(self.numNodes):\n",
        "      if self.isAdjacent(u,v):\n",
        "        L.append((v,self.adjMat[u][v]))\n",
        "    return L\n",
        "    \n",
        "  def edges(self):\n",
        "    L = []\n",
        "    for u in range(self.numNodes):\n",
        "      for v in range(self.numNodes):\n",
        "        if self.isAdjacent(u,v):\n",
        "          L.append((u,v,self.adjMat[u][v]))\n",
        "    return L\n",
        "\n",
        "G1 = WDGraphAdjMat(9)\n",
        "G1.addEdge(0,1,2)\n",
        "G1.addEdge(0,3,5)\n",
        "G1.addEdge(0,8,1)\n",
        "G1.addEdge(1,2,3)\n",
        "G1.addEdge(1,3,7)\n",
        "G1.addEdge(2,5,4)\n",
        "G1.addEdge(3,4,2)\n",
        "G1.addEdge(4,0,1)\n",
        "G1.addEdge(4,1,3)\n",
        "G1.addEdge(4,5,0)\n",
        "G1.addEdge(6,7,5)\n",
        "G1.addEdge(7,6,1)\n",
        "G1.addEdge(8,8,2)\n",
        "G1.removeEdge(0,8)\n",
        "\n",
        "print(G1.neighbors(4))\n",
        "print(G1.edges())"
      ],
      "execution_count": null,
      "outputs": [
        {
          "output_type": "stream",
          "text": [
            "[(0, 1), (1, 3), (5, 0)]\n",
            "[(0, 1, 2), (0, 3, 5), (1, 2, 3), (1, 3, 7), (2, 5, 4), (3, 4, 2), (4, 0, 1), (4, 1, 3), (4, 5, 0), (6, 7, 5), (7, 6, 1), (8, 8, 2)]\n"
          ],
          "name": "stdout"
        }
      ]
    },
    {
      "cell_type": "markdown",
      "metadata": {
        "id": "HA0IAW9mA1Uw"
      },
      "source": [
        "**Adjacency lists.** An adjacency-list representation of $G$ is a one-dimensional array $A$ of linked lists. The size of $A$ is $N$. For each node $u$, $A[u]$ stores a pointer to a linked list of pairs $(v,W(u,v))$  where $v$ is a neighbor of $u$.\n",
        "\n",
        "An adjacency-list representation for an undirected graph is similar."
      ]
    },
    {
      "cell_type": "code",
      "metadata": {
        "id": "J2kj10t2A1k_",
        "outputId": "632d562f-56f1-42d7-981d-f24663e44296",
        "colab": {
          "base_uri": "https://localhost:8080/",
          "height": 50
        }
      },
      "source": [
        "from collections import deque\n",
        "INFINITY = float('inf')\n",
        "\n",
        "class WDGraphAdjLst:\n",
        "  def __init__(self, N):\n",
        "    self.adjLst = [deque() for j in range(N)]\n",
        "    self.numNodes = N\n",
        "    self.numEdges = 0\n",
        "\n",
        "  def addEdge(self,u,v,d):\n",
        "    if not self.isAdjacent(u,v):\n",
        "      self.adjLst[u].append((v,d))\n",
        "      self.numEdges+=1\n",
        "  \n",
        "  def removeEdge(self,u,v):\n",
        "    d = self.weight(u,v) \n",
        "    if d is not None:\n",
        "      self.adjLst[u].remove((v,d))\n",
        "      self.numEdges-=1\n",
        "\n",
        "  def weight(self,u,v):\n",
        "    for (w,weight_uw) in self.adjLst[u]:\n",
        "      if w == v:\n",
        "        return weight_uw\n",
        "    return INFINITY\n",
        "\n",
        "  def isAdjacent(self,u,v):\n",
        "    for (w,weight_uw) in self.adjLst[u]:\n",
        "      if w == v:\n",
        "        return True\n",
        "    return False\n",
        "\n",
        "  def neighbors(self,u):\n",
        "    return list(self.adjLst[u])\n",
        "    \n",
        "  def edges(self):\n",
        "    L = []\n",
        "    for u in range(self.numNodes):\n",
        "      for (v,weight_uv) in self.adjLst[u]:\n",
        "          L.append((u,v,weight_uv))\n",
        "    return L\n",
        "\n",
        "G1 = WDGraphAdjLst(9)\n",
        "G1.addEdge(0,1,2)\n",
        "G1.addEdge(0,3,5)\n",
        "G1.addEdge(0,8,1)\n",
        "G1.addEdge(1,2,3)\n",
        "G1.addEdge(1,3,7)\n",
        "G1.addEdge(2,5,4)\n",
        "G1.addEdge(3,4,2)\n",
        "G1.addEdge(4,0,1)\n",
        "G1.addEdge(4,1,3)\n",
        "G1.addEdge(4,5,0)\n",
        "G1.addEdge(6,7,5)\n",
        "G1.addEdge(7,6,1)\n",
        "G1.addEdge(8,8,2)\n",
        "G1.removeEdge(0,8)\n",
        "\n",
        "print(G1.neighbors(4))\n",
        "print(G1.edges())"
      ],
      "execution_count": null,
      "outputs": [
        {
          "output_type": "stream",
          "text": [
            "[(0, 1), (1, 3), (5, 0)]\n",
            "[(0, 1, 2), (0, 3, 5), (1, 2, 3), (1, 3, 7), (2, 5, 4), (3, 4, 2), (4, 0, 1), (4, 1, 3), (4, 5, 0), (6, 7, 5), (7, 6, 1), (8, 8, 2)]\n"
          ],
          "name": "stdout"
        }
      ]
    },
    {
      "cell_type": "markdown",
      "metadata": {
        "id": "jRxvKtwyNgDF"
      },
      "source": [
        "# Finding Shortest Paths on Weighted Graphs "
      ]
    },
    {
      "cell_type": "markdown",
      "metadata": {
        "id": "zYpRCcdvRzok"
      },
      "source": [
        "The notion of paths carries over to weighted graphs. Recall that the length of a path is the number of edges in the path. In weighted graphs, there is an additional notion, called the *weight of a path*.\n",
        "\n",
        "**Definition (Path Weight)**. The *weight of a path* in a weighted (directed or undirected) graph equals the sum of the weights of the edges in the path.\n",
        "\n",
        "**Definition (Shortest Path in a Weighted Graph)**. Given a weighted (directed or undirected) graph $G$ and nodes $s$ and $t$ in $G$, a shortest path from $s$ to $t$ is a path from $s$ to $t$ with the least weight, i.e. no path from $s$ to $t$ with a smaller weight.\n",
        "\n",
        "The kinds of shortest path problems on weighted (directed or undirected) graphs that are commonly studied are:\n",
        "*  **Shortest path problem**: Find a shortest path between two given nodes in the given weighted graph.\n",
        "*  **Single-source shortest path problem**: Find a shortest path from a given source node to each node in the given weighted graph.\n",
        "*  **All-pairs shortest path problem**: Find a shortest path between every pair of nodes in the given weighted graph.\n",
        "\n",
        "In this course, we shall study three well-known algorithms for solving shortest path problems:\n",
        "1.   Floyd–Warshall algorithm\n",
        "2.   Bellman-Ford algorithm\n",
        "3.   Dijkstra's algorithm\n",
        "\n",
        "**Proposition (Simple Shortest Paths)**  Given a weighted graph $G$ *without negative cycles* and any nodes $u$ and $v$, if there is a path from $u$ to $v$, then there is a *simple* shortest path from $u$ and $v$.\n",
        "\n",
        "**Proof**. Among the shortest paths from $u$ to $v$, let $P$ be one of these paths which has the least length. We can show that $P$ is a simple path. Assume otherwise and let $P$ be \n",
        "\n",
        "$$v_1 \\rightarrow \\dots \\rightarrow v_m.$$\n",
        "\n",
        "Since $P$ is not simple, there must be some node that occurs twice in $P$ where at least one occurrence is not at either end of the path. In particular, $v_i = v_j$ for some $i$ and $j$ such that $1 < i < j < m$ or $1 = i < j < m$ or $1 < i < j = m$.\n",
        "\n",
        "Let $P'$ be the path $P$ with the circuit $v_i \\rightarrow \\dots \\rightarrow v_j$ removed. So $P'$ has the form:\n",
        "\n",
        "$$v_1 \\rightarrow \\dots \\rightarrow v_{i-1} \\rightarrow v_j \\rightarrow ...\\rightarrow v_m$$\n",
        "\n",
        "Clearly, the length of $P'$ is less than the length of $P$. The weight of $P'$ equals the weight of $P$ subtracted by the weight of the circuit $v_i \\rightarrow \\dots \\rightarrow v_j$. Since the graph has no negative cycles, it follows that the weight of $P'$ is less than or equal to the weight of $P$. This contradicts the assumption that $P$ is a shortest path from $u$ to $v$ with the least length.\n",
        "\n",
        "$\\blacksquare$"
      ]
    },
    {
      "cell_type": "markdown",
      "metadata": {
        "id": "0reX1pZc8v81"
      },
      "source": [
        "**Floyd-Warshall Algorithm**\n",
        "\n",
        "**Definition.** An intermediate node in a path from $s$ to $t$ is any node other than $s$ and $t$ that appears in the path.\n",
        "\n",
        "Floyd-Warshall algorithm can be seen as a dynamic programming algorithm which computes the function\n",
        "> $\\text{fw}(s,t,w)$ = the weight of a shortest path from $s$ to $t$ with only intermediate nodes in $\\{0,1,\\dots,w-1\\}$ permitted. \n",
        "\n",
        "This function can be defined recursively as follows:\n",
        "\n",
        "$$\n",
        "\\begin{align}\n",
        "\\text{fw}(s,t,0) & = \\begin{cases}\n",
        "0 & \\text{if }s=t, \\\\[8pt]\n",
        "W(s,t) & \\text{if $(s,t)$ is an edge}, \\\\[8pt]\n",
        "\\infty & \\text{otherwise.}\n",
        "\\end{cases} \\\\[12pt]\n",
        "\\text{fw}(s,t,w+1) & = \\text{Min} \\begin{cases}\n",
        "\\text{fw}(s,t,w) \\\\[8pt]\n",
        "\\text{fw}(s,w,w) + \\text{fw}(w,t,w) \n",
        "\\end{cases} & w\\ge 0\n",
        "\\end{align}\n",
        "$$\n",
        "\n",
        "**Proposition.** Given a directed or undirected graph $G$ without negative cycles and two nodes $s$ and $t$, \n",
        "> $\\text{fw}(s,t,N) = $ the length of a shortest path in $G$ from $s$ to $t$,\n",
        "\n",
        "where $N$ is the number of nodes in $G$.\n",
        "\n",
        "A straightforward implementation of a function to compute $\\text{fw}(s,t,w)$ bottom-up declares a three-dimensional array $A$ such that $A[w][s][t] = \\text{fw}(s,t,w)$.\n"
      ]
    },
    {
      "cell_type": "code",
      "metadata": {
        "id": "wIzgFOK-XV0F"
      },
      "source": [
        "def floydWarshall3D(G):\n",
        "  A = [[[INFINITY for s in range(G.numNodes)] for t in range(G.numNodes)] for w in range(G.numNodes+1)]\n",
        "  \n",
        "  for s in range(G.numNodes):\n",
        "    for t in range(G.numNodes):\n",
        "      if s==t:\n",
        "        A[0][s][t]=0\n",
        "      else:\n",
        "        A[0][s][t]=G.weight(s,t)\n",
        "\n",
        "  for w in range(G.numNodes):\n",
        "    for s in range(G.numNodes):\n",
        "      for t in range(G.numNodes):\n",
        "        A[w+1][s][t] = min(A[w][s][t], A[w][s][w]+A[w][w][t])\n",
        "\n",
        "  return A"
      ],
      "execution_count": null,
      "outputs": []
    },
    {
      "cell_type": "markdown",
      "metadata": {
        "id": "4v5GCsKAYWMn"
      },
      "source": [
        "We can save space by declaring A as a two-dimensional array and replace Line 14 by\n",
        "```\n",
        "A[s][t] = min(A[s][t], A[s][w]+A[w][t])\n",
        "```\n",
        "\n"
      ]
    },
    {
      "cell_type": "code",
      "metadata": {
        "id": "S3kgPGIFTmOZ",
        "outputId": "b926cc3f-c1a2-46e5-c1a1-6714713e6475",
        "colab": {
          "base_uri": "https://localhost:8080/",
          "height": 185
        }
      },
      "source": [
        "def floydWarshall(G):\n",
        "  A = [[INFINITY for s in range(G.numNodes)] for t in range(G.numNodes)]\n",
        "  \n",
        "  for s in range(G.numNodes):\n",
        "    for t in range(G.numNodes):\n",
        "      if s==t:\n",
        "        A[s][t]=0\n",
        "      else:\n",
        "        A[s][t]=G.weight(s,t)\n",
        "\n",
        "  for w in range(G.numNodes):\n",
        "    for s in range(G.numNodes):\n",
        "      for t in range(G.numNodes):\n",
        "        A[s][t] = min(A[s][t], A[s][w]+A[w][t])\n",
        "\n",
        "  return A\n",
        "\n",
        "G1 = WDGraphAdjMat(10)\n",
        "G1.addEdge(0,1,5)\n",
        "G1.addEdge(0,2,2)\n",
        "G1.addEdge(1,1,1)\n",
        "G1.addEdge(1,3,5)\n",
        "G1.addEdge(1,4,3)\n",
        "G1.addEdge(2,1,1)\n",
        "G1.addEdge(2,4,8)\n",
        "G1.addEdge(3,4,1)\n",
        "G1.addEdge(3,5,5)\n",
        "G1.addEdge(4,2,1)\n",
        "G1.addEdge(4,3,1)\n",
        "G1.addEdge(4,5,2)\n",
        "G1.addEdge(5,0,3)\n",
        "G1.addEdge(6,7,1)\n",
        "G1.addEdge(7,8,10)\n",
        "G1.addEdge(8,7,-20)\n",
        "G1.addEdge(8,9,2)\n",
        "\n",
        "floydWarshall(G1)"
      ],
      "execution_count": null,
      "outputs": [
        {
          "output_type": "execute_result",
          "data": {
            "text/plain": [
              "[[0, 3, 2, 7, 6, 8, inf, inf, inf, inf],\n",
              " [8, 0, 4, 4, 3, 5, inf, inf, inf, inf],\n",
              " [9, 1, 0, 5, 4, 6, inf, inf, inf, inf],\n",
              " [6, 3, 2, 0, 1, 3, inf, inf, inf, inf],\n",
              " [5, 2, 1, 1, 0, 2, inf, inf, inf, inf],\n",
              " [3, 6, 5, 10, 9, 0, inf, inf, inf, inf],\n",
              " [inf, inf, inf, inf, inf, inf, 0, -9, 1, 3],\n",
              " [inf, inf, inf, inf, inf, inf, inf, -10, 0, 2],\n",
              " [inf, inf, inf, inf, inf, inf, inf, -30, -20, -18],\n",
              " [inf, inf, inf, inf, inf, inf, inf, inf, inf, 0]]"
            ]
          },
          "metadata": {
            "tags": []
          },
          "execution_count": 30
        }
      ]
    },
    {
      "cell_type": "markdown",
      "metadata": {
        "id": "yveptuDujUEa"
      },
      "source": [
        "**Bellman-Ford Algorithm**\n",
        "\n",
        "Bellman-Ford algorithm can be seen as a dynamic programming algorithm which computes the function\n",
        "> $\\text{bf}(s,t,n)$ = the weight of a shortest path from $s$ to $t$ of length $n$ or less\n",
        "\n",
        "This function can be defined recursively as follows:\n",
        "\n",
        "$$\n",
        "\\begin{align}\n",
        "\\text{bf}(s,t,0) & = \\begin{cases}\n",
        "0 & \\text{if }s=t \\\\[8pt]\n",
        "\\infty & \\text{otherwise.}\n",
        "\\end{cases} \\\\[12pt]\n",
        "\\text{bf}(s,t,n) & = \\text{Min} \\begin{cases}\n",
        "\\text{bf}(s,t,n-1) \\\\[8pt]\n",
        "\\underset{(v,t)\\in E}{\\text{Min}} \\big(\\text{bf}(s,v,n-1) + W(v,t)\\big)\n",
        "\\end{cases} & n\\ge 1\n",
        "\\end{align}\n",
        "$$\n",
        "\n",
        "Note that if $G$ is an undirected graph, simply replace edge $(s,t)$ by $\\{s,t\\}$.\n",
        "\n",
        "**Proposition**. Given a directed or undirected graph $G$ without negative cycles and two nodes $s$ and $t$,\n",
        "> $\\text{bf}(s,t,N-1) = $ the length of a shortest path in $G$ from $s$ to $t$,\n",
        "\n",
        "where $N$ is the number of nodes in $G$.\n",
        "\n",
        "Notice that the first parameter $s$ in $\\text{bf}(s,t,n)$ is unchanged and can thus be omitted.\n",
        "\n",
        "The following program find the length of a shortest path from $s$ to each node in the given graph $G$ by computing the above recurrence equation in a bottom-up fashion. The program stores intermediate results in two-dimensional array $A$ such that $A[n][t] = \\text{bf}(s,t,n)$.\n"
      ]
    },
    {
      "cell_type": "code",
      "metadata": {
        "id": "8ejZA1N91p1k",
        "outputId": "72bda5be-b4ea-44b0-ecae-8f15a8bc86ca",
        "colab": {
          "base_uri": "https://localhost:8080/",
          "height": 34
        }
      },
      "source": [
        "def bellmanFord(G,s):\n",
        "  A = [[INFINITY for t in range(G.numNodes)] for n in range(G.numNodes)]\n",
        "  \n",
        "  A[0][s] = 0\n",
        "  for n in range(1,G.numNodes):\n",
        "    for t in range(G.numNodes):\n",
        "      A[n][t] = A[n-1][t]\n",
        "    for (v,t,weight_vt) in G.edges():\n",
        "      if A[n-1][v]+weight_vt < A[n][t]:\n",
        "        A[n][t] = A[n-1][v]+weight_vt\n",
        "\n",
        "  return A[G.numNodes-1]\n",
        "\n",
        "G1 = WDGraphAdjLst(10)\n",
        "G1.addEdge(0,1,5)\n",
        "G1.addEdge(0,2,2)\n",
        "G1.addEdge(1,1,1)\n",
        "G1.addEdge(1,3,5)\n",
        "G1.addEdge(1,4,3)\n",
        "G1.addEdge(2,1,1)\n",
        "G1.addEdge(2,4,8)\n",
        "G1.addEdge(3,4,1)\n",
        "G1.addEdge(3,5,5)\n",
        "G1.addEdge(4,2,1)\n",
        "G1.addEdge(4,3,1)\n",
        "G1.addEdge(4,5,2)\n",
        "G1.addEdge(5,0,3)\n",
        "G1.addEdge(6,7,1)\n",
        "G1.addEdge(7,8,10)\n",
        "G1.addEdge(8,7,-20)\n",
        "G1.addEdge(8,9,2)\n",
        "\n",
        "bellmanFord(G1,0)"
      ],
      "execution_count": null,
      "outputs": [
        {
          "output_type": "execute_result",
          "data": {
            "text/plain": [
              "[0, 3, 2, 7, 6, 8, inf, inf, inf, inf]"
            ]
          },
          "metadata": {
            "tags": []
          },
          "execution_count": 26
        }
      ]
    },
    {
      "cell_type": "markdown",
      "metadata": {
        "id": "BE7LrkD0eoGV"
      },
      "source": [
        "The program above only computes the *length* of a shortest path from the given start node $s$ to each node in the graph. If we would like to also compute a shortest path, we can do so by remember which node $v$ is used to update the "
      ]
    },
    {
      "cell_type": "code",
      "metadata": {
        "id": "0kz75hblfINW",
        "outputId": "f1284cf1-2ace-443d-ef62-c76312031dcd",
        "colab": {
          "base_uri": "https://localhost:8080/",
          "height": 185
        }
      },
      "source": [
        "def bellmanFordPath(G,s):\n",
        "  A = [[INFINITY for t in range(G.numNodes)] for n in range(G.numNodes)]\n",
        "  back  = [None for t in range(G.numNodes)]\n",
        "  \n",
        "  A[0][s] = 0\n",
        "  for n in range(1,G.numNodes):\n",
        "    for t in range(G.numNodes):\n",
        "      A[n][t] = A[n-1][t]\n",
        "    for (v,t,weight_vt) in G.edges():\n",
        "      if A[n-1][v]+weight_vt < A[n][t]:\n",
        "        A[n][t] = A[n-1][v]+weight_vt\n",
        "        back[t] = v\n",
        "\n",
        "  shortestPath = [None for t in range(G.numNodes)]\n",
        "  for t in range(G.numNodes):\n",
        "    if A[G.numNodes-1][t] == INFINITY:\n",
        "      continue\n",
        "    shortestPath[t] =[]\n",
        "    v=t\n",
        "    while v is not None:\n",
        "      shortestPath[t].append(v)\n",
        "      v = back[v]\n",
        "    shortestPath[t].reverse()\n",
        "  \n",
        "  return shortestPath\n",
        "\n",
        "G1 = WDGraphAdjLst(10)\n",
        "G1.addEdge(0,1,5)\n",
        "G1.addEdge(0,2,2)\n",
        "G1.addEdge(1,1,1)\n",
        "G1.addEdge(1,3,5)\n",
        "G1.addEdge(1,4,3)\n",
        "G1.addEdge(2,1,1)\n",
        "G1.addEdge(2,4,8)\n",
        "G1.addEdge(3,4,1)\n",
        "G1.addEdge(3,5,5)\n",
        "G1.addEdge(4,2,1)\n",
        "G1.addEdge(4,3,1)\n",
        "G1.addEdge(4,5,2)\n",
        "G1.addEdge(5,0,3)\n",
        "G1.addEdge(6,7,1)\n",
        "G1.addEdge(7,8,10)\n",
        "G1.addEdge(8,7,-20)\n",
        "G1.addEdge(8,9,2)\n",
        "\n",
        "bellmanFordPath(G1,0)"
      ],
      "execution_count": null,
      "outputs": [
        {
          "output_type": "execute_result",
          "data": {
            "text/plain": [
              "[[0],\n",
              " [0, 2, 1],\n",
              " [0, 2],\n",
              " [0, 2, 1, 4, 3],\n",
              " [0, 2, 1, 4],\n",
              " [0, 2, 1, 4, 5],\n",
              " None,\n",
              " None,\n",
              " None,\n",
              " None]"
            ]
          },
          "metadata": {
            "tags": []
          },
          "execution_count": 25
        }
      ]
    },
    {
      "cell_type": "markdown",
      "metadata": {
        "id": "ISl6ocaZYMlT"
      },
      "source": [
        "**Task**: Can you revise the implementation of Bellman-Ford algorithm above so that a one-dimensional array of size $N$ is used instead of a two-dimensional array?"
      ]
    },
    {
      "cell_type": "code",
      "metadata": {
        "id": "CAyvCB6lYh_4"
      },
      "source": [
        "class Graph:  \n",
        "  \n",
        "    def __init__(self, vertices):  \n",
        "        self.V = vertices # No. of vertices  \n",
        "        self.graph = []  \n",
        "  \n",
        "    # function to add an edge to graph  \n",
        "    def addEdge(self, u, v, w):  \n",
        "        self.graph.append([u, v, w])  \n",
        "          \n",
        "    # utility function used to print the solution  \n",
        "    def printArr(self, dist):  \n",
        "        print(\"Vertex Distance from Source\")  \n",
        "        for i in range(self.V):  \n",
        "            print(\"{0}\\t\\t{1}\".format(i, dist[i]))  \n",
        "      \n",
        "    # The main function that finds shortest distances from src to  \n",
        "    # all other vertices using Bellman-Ford algorithm. The function  \n",
        "    # also detects negative weight cycle  \n",
        "    def BellmanFord(self, src):  \n",
        "  \n",
        "        # Step 1: Initialize distances from src to all other vertices  \n",
        "        # as INFINITE  \n",
        "        dist = [float(\"Inf\")] * self.V  \n",
        "        dist[src] = 0\n",
        "  \n",
        "  \n",
        "        # Step 2: Relax all edges |V| - 1 times. A simple shortest  \n",
        "        # path from src to any other vertex can have at-most |V| - 1  \n",
        "        # edges  \n",
        "        for _ in range(self.V - 1):  \n",
        "            # Update dist value and parent index of the adjacent vertices of  \n",
        "            # the picked vertex. Consider only those vertices which are still in  \n",
        "            # queue  \n",
        "            for u, v, w in self.graph:  \n",
        "                if dist[u] != float(\"Inf\") and dist[u] + w < dist[v]:  \n",
        "                        dist[v] = dist[u] + w  \n",
        "  \n",
        "        # Step 3: check for negative-weight cycles. The above step  \n",
        "        # guarantees shortest distances if graph doesn't contain  \n",
        "        # negative weight cycle. If we get a shorter path, then there  \n",
        "        # is a cycle.  \n",
        "  \n",
        "        for u, v, w in self.graph:  \n",
        "                if dist[u] != float(\"Inf\") and dist[u] + w < dist[v]:  \n",
        "                        print(\"Graph contains negative weight cycle\") \n",
        "                        return\n",
        "                          \n",
        "        # print all distance  \n",
        "        self.printArr(dist)  \n",
        "  \n",
        "g = Graph(5)  \n",
        "g.addEdge(0, 1, -1)  \n",
        "g.addEdge(0, 2, 4)  \n",
        "g.addEdge(1, 2, 3)  \n",
        "g.addEdge(1, 3, 2)  \n",
        "g.addEdge(1, 4, 2)  \n",
        "g.addEdge(3, 2, 5)  \n",
        "g.addEdge(3, 1, 1)  \n",
        "g.addEdge(4, 3, -3)  \n",
        "  \n",
        "# Print the solution  \n",
        "g.BellmanFord(0)  "
      ],
      "execution_count": null,
      "outputs": []
    },
    {
      "cell_type": "markdown",
      "metadata": {
        "id": "S_KZ6aQVYory"
      },
      "source": [
        "**Task**: Can you revise Bellman-Ford algorithm to find a shortest *non-empty* path from a given node $s$ to each node in the graph? Note that by a non-empty path, we mean a path of length $1$ or more.\n",
        "1.   Provide a recurrence equation for the function $\\text{bfn}(s,t,n)$ which means *the weight of a non-empty shortest path from $s$ to $t$ of length $n$ or less*.\n",
        "2.   Write a program to find a shortest non-empty path from a given node $s$ by computing the function $\\text{bfn}$."
      ]
    },
    {
      "cell_type": "code",
      "metadata": {
        "id": "1NL5BjaAYoO1"
      },
      "source": [
        "def bellmanFordNonEmpty(G,s):\n",
        "  pass"
      ],
      "execution_count": null,
      "outputs": []
    },
    {
      "cell_type": "markdown",
      "metadata": {
        "id": "vJ26Qt5hbMNg"
      },
      "source": [
        "**Detecting negative cycles**. It has been shown in the previous proposition that if the graph does *not* contain negative cycles, $\\text{bf}(s,t,N-1)$, where $N$ is the number of nodes, is the length of a shortest path from $s$ to $t$. In this case, if we compute $\\text{bf}(s,t,N)$ the value will be the same as $\\text{bf}(s,t,N-1)$. On the other hand, it can be shown that if the graph does contain a negative cycle that is reachable from the start node $s$, then $\\text{bf}(s,v,N-1) > \\text{bf}(s,v,N)$ for some node $v$. This fact can be used to detect the existence of a negative cycle in the given graph."
      ]
    },
    {
      "cell_type": "markdown",
      "metadata": {
        "id": "Ik9zoZ5dZ7Dl"
      },
      "source": [
        "**Dijkstra's Algorithm**\n",
        "\n",
        "Dijkstra's algorithm find a shortest path from a given source node $s$ to each node in the graph by computing the function:\n",
        "> $\\text{dst}(s,t,R)$ = the weight of a shortest path from $s$ to $t$ with intermediate nodes in $R$,\n",
        "\n",
        "where $R$ is a set of nodes.\n",
        "\n",
        "Thus, the weight of a shortest path from $s$ to $t$ equals $\\text{dst}({s,t,V})$.\n",
        "\n",
        "\n",
        "\n",
        "\n"
      ]
    },
    {
      "cell_type": "code",
      "metadata": {
        "id": "suXD59JMl-U0"
      },
      "source": [
        "class HeapItem:\n",
        "  def __init__(self,k,v):\n",
        "    self.key = k\n",
        "    self.value = v\n",
        "    # self.position stores the reference to this heap item\n",
        "    # Should be changed by MinHeap object only\n",
        "    self.position = None   \n",
        "  def __lt__(self,e):\n",
        "    return (self.key < e.key)\n",
        "  def __le__(self,e):\n",
        "    return (self.key <= e.key)\n",
        "  def __gt__(self,e):\n",
        "    return (self.key > e.key)\n",
        "  def __ge__(self,e):\n",
        "    return (self.key >= e.key)\n",
        "  def __str__(self):\n",
        "    return \"(\"+str(self.key)+\",\"+str(self.value)+\")\"\n",
        "\n",
        "class MinHeap:\n",
        "  def __init__(self):\n",
        "    self.heapArray = []\n",
        "  def __len__(self):\n",
        "    return len(self.heapArray)\n",
        "  def isEmpty(self):\n",
        "    return len(self)==0\n",
        "  def parent(self,e):\n",
        "    if e.position>0:\n",
        "      return self.heapArray[(e.position-1)//2]\n",
        "    else:\n",
        "      return None\n",
        "  def leftChild(self,e):\n",
        "    leftChildIndex = 2*e.position+1\n",
        "    if leftChildIndex<len(self):\n",
        "      return self.heapArray[leftChildIndex]\n",
        "    else:\n",
        "      return None\n",
        "  def rightChild(self,e):\n",
        "    rightChildIndex = 2*e.position+2\n",
        "    if rightChildIndex<len(self):\n",
        "      return self.heapArray[rightChildIndex]\n",
        "    else:\n",
        "      return None\n",
        "  def exchange(self,e1,e2):\n",
        "    pos1,pos2 = e1.position,e2.position\n",
        "    self.heapArray[pos1],self.heapArray[pos2] = self.heapArray[pos2],self.heapArray[pos1]\n",
        "    e1.position,e2.position = pos2,pos1\n",
        "  def bubbleUp(self,e):\n",
        "    if e.position>0:\n",
        "      p = self.parent(e)\n",
        "      while (e.position>0) and (p>e):\n",
        "          self.exchange(e,p)\n",
        "          p = self.parent(e)\n",
        "  def bubbleDown(self,e):\n",
        "    left = self.leftChild(e)\n",
        "    right = self.rightChild(e)\n",
        "    while left is not None:\n",
        "      if right is None:\n",
        "        if left<e:\n",
        "          self.exchange(left,e)\n",
        "          e = left\n",
        "        else:\n",
        "          break\n",
        "      else:\n",
        "        if (left<e) and (left<=right):\n",
        "          self.exchange(left,e)\n",
        "          e = left\n",
        "        elif right<e:\n",
        "          self.exchange(right,e)\n",
        "          e = right\n",
        "        else:\n",
        "          break\n",
        "      left = self.leftChild(e)\n",
        "      right = self.rightChild(e)\n",
        "  def insert(self,k,v):\n",
        "    e = HeapItem(k,v)\n",
        "    e.position = len(self.heapArray)\n",
        "    self.heapArray.append(e)\n",
        "    self.bubbleUp(e)\n",
        "    return e\n",
        "  def extractMin(self):\n",
        "    if self.isEmpty():\n",
        "      return None\n",
        "    else:\n",
        "      self.exchange(self.heapArray[0],self.heapArray[len(self)-1])\n",
        "      e = self.heapArray.pop()\n",
        "      e.position = None\n",
        "      if not self.isEmpty():\n",
        "        self.bubbleDown(self.heapArray[0])\n",
        "      return e\n",
        "  def decreaseKey(self,e,k):\n",
        "    if k < e.key:\n",
        "      e.key = k\n",
        "      self.bubbleUp(e)\n",
        "  def findMin(self):\n",
        "    if self.isEmpty():\n",
        "      return None\n",
        "    else:\n",
        "      return self.heapArray[0]"
      ],
      "execution_count": null,
      "outputs": []
    },
    {
      "cell_type": "code",
      "metadata": {
        "id": "feRekyC-piMI",
        "outputId": "639e8a56-4ac9-4b79-abf4-67a902fac143",
        "colab": {
          "base_uri": "https://localhost:8080/",
          "height": 34
        }
      },
      "source": [
        "def dijkstra(G,s):\n",
        "  dst = [INFINITY for i in range(G.numNodes)]\n",
        "  heapItems = [None for i in range(G.numNodes)]\n",
        "\n",
        "  H = MinHeap()\n",
        "  dst[s] = 0\n",
        "  heapItems[s] = H.insert(dst[s],s)\n",
        "\n",
        "  while len(H)>0:\n",
        "    u = H.extractMin().value\n",
        "    for (v,weight_uv) in G.neighbors(u):\n",
        "      if heapItems[v] is None:\n",
        "        dst[v] = dst[u]+weight_uv\n",
        "        heapItems[v]=H.insert(dst[v],v)\n",
        "      else:     \n",
        "        if dst[v] > dst[u]+weight_uv:\n",
        "          dst[v] = dst[u]+weight_uv\n",
        "          H.decreaseKey(heapItems[v],dst[v])\n",
        "  \n",
        "  return dst\n",
        "\n",
        "G1 = WDGraphAdjLst(10)\n",
        "G1.addEdge(0,1,5)\n",
        "G1.addEdge(0,2,2)\n",
        "G1.addEdge(1,1,1)\n",
        "G1.addEdge(1,3,5)\n",
        "G1.addEdge(1,4,3)\n",
        "G1.addEdge(2,1,1)\n",
        "G1.addEdge(2,4,8)\n",
        "G1.addEdge(3,4,1)\n",
        "G1.addEdge(3,5,5)\n",
        "G1.addEdge(4,2,1)\n",
        "G1.addEdge(4,3,1)\n",
        "G1.addEdge(4,5,2)\n",
        "G1.addEdge(5,0,3)\n",
        "G1.addEdge(6,7,1)\n",
        "G1.addEdge(7,8,10)\n",
        "G1.addEdge(8,7,-20)\n",
        "G1.addEdge(8,9,2)\n",
        "\n",
        "dijkstra(G1,0)"
      ],
      "execution_count": null,
      "outputs": [
        {
          "output_type": "execute_result",
          "data": {
            "text/plain": [
              "[0, 3, 2, 7, 6, 8, inf, inf, inf, inf]"
            ]
          },
          "metadata": {
            "tags": []
          },
          "execution_count": 32
        }
      ]
    },
    {
      "cell_type": "markdown",
      "metadata": {
        "id": "2mwZtLbYNow1"
      },
      "source": [
        "# Minimum Spanning Trees"
      ]
    },
    {
      "cell_type": "code",
      "metadata": {
        "id": "F_XNysI46IDM"
      },
      "source": [
        "# A Python program for Prim's Minimum Spanning Tree (MST) algorithm. \n",
        "# The program is for adjacency matrix representation of the graph \n",
        "  \n",
        "import sys # Library for INT_MAX \n",
        "  \n",
        "class Graph(): \n",
        "  \n",
        "    def __init__(self, vertices): \n",
        "        self.V = vertices \n",
        "        self.graph = [[0 for column in range(vertices)]  \n",
        "                    for row in range(vertices)] \n",
        "  \n",
        "    # A utility function to print the constructed MST stored in parent[] \n",
        "    def printMST(self, parent): \n",
        "        print \"Edge \\tWeight\"\n",
        "        for i in range(1, self.V): \n",
        "            print parent[i], \"-\", i, \"\\t\", self.graph[i][ parent[i] ] \n",
        "  \n",
        "    # A utility function to find the vertex with  \n",
        "    # minimum distance value, from the set of vertices  \n",
        "    # not yet included in shortest path tree \n",
        "    def minKey(self, key, mstSet): \n",
        "  \n",
        "        # Initilaize min value \n",
        "        min = sys.maxint \n",
        "  \n",
        "        for v in range(self.V): \n",
        "            if key[v] < min and mstSet[v] == False: \n",
        "                min = key[v] \n",
        "                min_index = v \n",
        "  \n",
        "        return min_index \n",
        "  \n",
        "    # Function to construct and print MST for a graph  \n",
        "    # represented using adjacency matrix representation \n",
        "    def primMST(self): \n",
        "  \n",
        "        # Key values used to pick minimum weight edge in cut \n",
        "        key = [sys.maxint] * self.V \n",
        "        parent = [None] * self.V # Array to store constructed MST \n",
        "        # Make key 0 so that this vertex is picked as first vertex \n",
        "        key[0] = 0 \n",
        "        mstSet = [False] * self.V \n",
        "  \n",
        "        parent[0] = -1 # First node is always the root of \n",
        "  \n",
        "        for cout in range(self.V): \n",
        "  \n",
        "            # Pick the minimum distance vertex from  \n",
        "            # the set of vertices not yet processed.  \n",
        "            # u is always equal to src in first iteration \n",
        "            u = self.minKey(key, mstSet) \n",
        "  \n",
        "            # Put the minimum distance vertex in  \n",
        "            # the shortest path tree \n",
        "            mstSet[u] = True\n",
        "  \n",
        "            # Update dist value of the adjacent vertices  \n",
        "            # of the picked vertex only if the current  \n",
        "            # distance is greater than new distance and \n",
        "            # the vertex in not in the shotest path tree \n",
        "            for v in range(self.V): \n",
        "                # graph[u][v] is non zero only for adjacent vertices of m \n",
        "                # mstSet[v] is false for vertices not yet included in MST \n",
        "                # Update the key only if graph[u][v] is smaller than key[v] \n",
        "                if self.graph[u][v] > 0 and mstSet[v] == False and key[v] > self.graph[u][v]: \n",
        "                        key[v] = self.graph[u][v] \n",
        "                        parent[v] = u \n",
        "  \n",
        "        self.printMST(parent) \n",
        "  \n",
        "# g = Graph(5) \n",
        "# g.graph = [ [0, 2, 0, 6, 0], \n",
        "#             [2, 0, 3, 8, 5], \n",
        "#             [0, 3, 0, 0, 7], \n",
        "#             [6, 8, 0, 0, 9], \n",
        "#             [0, 5, 7, 9, 0]] \n",
        "  \n",
        "# g.primMST(); \n",
        "\n",
        "# Python program for Kruskal's algorithm to find \n",
        "# Minimum Spanning Tree of a given connected,  \n",
        "# undirected and weighted graph \n",
        "  \n",
        "from collections import defaultdict \n",
        "  \n",
        "#Class to represent a graph \n",
        "class Graph: \n",
        "  \n",
        "    def __init__(self,vertices): \n",
        "        self.V= vertices #No. of vertices \n",
        "        self.graph = [] # default dictionary  \n",
        "                                # to store graph \n",
        "          \n",
        "   \n",
        "    # function to add an edge to graph \n",
        "    def addEdge(self,u,v,w): \n",
        "        self.graph.append([u,v,w]) \n",
        "  \n",
        "    # A utility function to find set of an element i \n",
        "    # (uses path compression technique) \n",
        "    def find(self, parent, i): \n",
        "        if parent[i] == i: \n",
        "            return i \n",
        "        return self.find(parent, parent[i]) \n",
        "  \n",
        "    # A function that does union of two sets of x and y \n",
        "    # (uses union by rank) \n",
        "    def union(self, parent, rank, x, y): \n",
        "        xroot = self.find(parent, x) \n",
        "        yroot = self.find(parent, y) \n",
        "  \n",
        "        # Attach smaller rank tree under root of  \n",
        "        # high rank tree (Union by Rank) \n",
        "        if rank[xroot] < rank[yroot]: \n",
        "            parent[xroot] = yroot \n",
        "        elif rank[xroot] > rank[yroot]: \n",
        "            parent[yroot] = xroot \n",
        "  \n",
        "        # If ranks are same, then make one as root  \n",
        "        # and increment its rank by one \n",
        "        else : \n",
        "            parent[yroot] = xroot \n",
        "            rank[xroot] += 1\n",
        "  \n",
        "    # The main function to construct MST using Kruskal's  \n",
        "        # algorithm \n",
        "    def KruskalMST(self): \n",
        "  \n",
        "        result =[] #This will store the resultant MST \n",
        "  \n",
        "        i = 0 # An index variable, used for sorted edges \n",
        "        e = 0 # An index variable, used for result[] \n",
        "  \n",
        "            # Step 1:  Sort all the edges in non-decreasing  \n",
        "                # order of their \n",
        "                # weight.  If we are not allowed to change the  \n",
        "                # given graph, we can create a copy of graph \n",
        "        self.graph =  sorted(self.graph,key=lambda item: item[2]) \n",
        "  \n",
        "        parent = [] ; rank = [] \n",
        "  \n",
        "        # Create V subsets with single elements \n",
        "        for node in range(self.V): \n",
        "            parent.append(node) \n",
        "            rank.append(0) \n",
        "      \n",
        "        # Number of edges to be taken is equal to V-1 \n",
        "        while e < self.V -1 : \n",
        "  \n",
        "            # Step 2: Pick the smallest edge and increment  \n",
        "                    # the index for next iteration \n",
        "            u,v,w =  self.graph[i] \n",
        "            i = i + 1\n",
        "            x = self.find(parent, u) \n",
        "            y = self.find(parent ,v) \n",
        "  \n",
        "            # If including this edge does't cause cycle,  \n",
        "                        # include it in result and increment the index \n",
        "                        # of result for next edge \n",
        "            if x != y: \n",
        "                e = e + 1     \n",
        "                result.append([u,v,w]) \n",
        "                self.union(parent, rank, x, y)             \n",
        "            # Else discard the edge \n",
        "  \n",
        "        # print the contents of result[] to display the built MST \n",
        "        print \"Following are the edges in the constructed MST\"\n",
        "        for u,v,weight  in result: \n",
        "            #print str(u) + \" -- \" + str(v) + \" == \" + str(weight) \n",
        "            print (\"%d -- %d == %d\" % (u,v,weight)) \n",
        "  \n",
        "# Driver code \n",
        "# g = Graph(4) \n",
        "# g.addEdge(0, 1, 10) \n",
        "# g.addEdge(0, 2, 6) \n",
        "# g.addEdge(0, 3, 5) \n",
        "# g.addEdge(1, 3, 15) \n",
        "# g.addEdge(2, 3, 4) \n",
        "  \n",
        "# g.KruskalMST() \n",
        "  \n",
        "#This code is contributed by Neelam Yadav "
      ],
      "execution_count": null,
      "outputs": []
    },
    {
      "cell_type": "markdown",
      "metadata": {
        "id": "u6u9Cy2cDXkl"
      },
      "source": [
        "# Ford-Fulkerson Algorithm"
      ]
    },
    {
      "cell_type": "code",
      "metadata": {
        "id": "seBFoiyFDhiV"
      },
      "source": [
        "# Python program for implementation of Ford Fulkerson algorithm \n",
        "   \n",
        "from collections import defaultdict \n",
        "   \n",
        "#This class represents a directed graph using adjacency matrix representation \n",
        "class Graph: \n",
        "   \n",
        "    def __init__(self,graph): \n",
        "        self.graph = graph # residual graph \n",
        "        self. ROW = len(graph) \n",
        "        #self.COL = len(gr[0]) \n",
        "          \n",
        "   \n",
        "    '''Returns true if there is a path from source 's' to sink 't' in \n",
        "    residual graph. Also fills parent[] to store the path '''\n",
        "    def BFS(self,s, t, parent): \n",
        "  \n",
        "        # Mark all the vertices as not visited \n",
        "        visited =[False]*(self.ROW) \n",
        "          \n",
        "        # Create a queue for BFS \n",
        "        queue=[] \n",
        "          \n",
        "        # Mark the source node as visited and enqueue it \n",
        "        queue.append(s) \n",
        "        visited[s] = True\n",
        "           \n",
        "         # Standard BFS Loop \n",
        "        while queue: \n",
        "  \n",
        "            #Dequeue a vertex from queue and print it \n",
        "            u = queue.pop(0) \n",
        "          \n",
        "            # Get all adjacent vertices of the dequeued vertex u \n",
        "            # If a adjacent has not been visited, then mark it \n",
        "            # visited and enqueue it \n",
        "            for ind, val in enumerate(self.graph[u]): \n",
        "                if visited[ind] == False and val > 0 : \n",
        "                    queue.append(ind) \n",
        "                    visited[ind] = True\n",
        "                    parent[ind] = u \n",
        "  \n",
        "        # If we reached sink in BFS starting from source, then return \n",
        "        # true, else false \n",
        "        return True if visited[t] else False\n",
        "              \n",
        "      \n",
        "    # Returns tne maximum flow from s to t in the given graph \n",
        "    def FordFulkerson(self, source, sink): \n",
        "  \n",
        "        # This array is filled by BFS and to store path \n",
        "        parent = [-1]*(self.ROW) \n",
        "  \n",
        "        max_flow = 0 # There is no flow initially \n",
        "  \n",
        "        # Augment the flow while there is path from source to sink \n",
        "        while self.BFS(source, sink, parent) : \n",
        "  \n",
        "            # Find minimum residual capacity of the edges along the \n",
        "            # path filled by BFS. Or we can say find the maximum flow \n",
        "            # through the path found. \n",
        "            path_flow = float(\"Inf\") \n",
        "            s = sink \n",
        "            while(s !=  source): \n",
        "                path_flow = min (path_flow, self.graph[parent[s]][s]) \n",
        "                s = parent[s] \n",
        "  \n",
        "            # Add path flow to overall flow \n",
        "            max_flow +=  path_flow \n",
        "  \n",
        "            # update residual capacities of the edges and reverse edges \n",
        "            # along the path \n",
        "            v = sink \n",
        "            while(v !=  source): \n",
        "                u = parent[v] \n",
        "                self.graph[u][v] -= path_flow \n",
        "                self.graph[v][u] += path_flow \n",
        "                v = parent[v] \n",
        "  \n",
        "        return max_flow \n",
        "  \n",
        "   \n",
        "# Create a graph given in the above diagram \n",
        "  \n",
        "graph = [[0, 16, 13, 0, 0, 0], \n",
        "        [0, 0, 10, 12, 0, 0], \n",
        "        [0, 4, 0, 0, 14, 0], \n",
        "        [0, 0, 9, 0, 0, 20], \n",
        "        [0, 0, 0, 7, 0, 4], \n",
        "        [0, 0, 0, 0, 0, 0]] \n",
        "  \n",
        "g = Graph(graph) \n",
        "  \n",
        "source = 0; sink = 5\n",
        "   \n",
        "print (\"The maximum possible flow is %d \" % g.FordFulkerson(source, sink)) \n",
        "  \n",
        "#This code is contributed by Neelam Yadav "
      ],
      "execution_count": null,
      "outputs": []
    }
  ]
}